{
 "cells": [
  {
   "cell_type": "markdown",
   "metadata": {},
   "source": [
    "This module: \n",
    "1. Tests the pumped_coin to test the Download social functions. \n",
    "2. Move them to the uitls functions bank \n",
    "3. Download them"
   ]
  },
  {
   "cell_type": "code",
   "execution_count": 14,
   "metadata": {},
   "outputs": [
    {
     "name": "stdout",
     "output_type": "stream",
     "text": [
      "The autoreload extension is already loaded. To reload it, use:\n",
      "  %reload_ext autoreload\n"
     ]
    }
   ],
   "source": [
    "import os, sys\n",
    "import pandas as pd \n",
    "import numpy as np\n",
    "import requests \n",
    "from datetime import datetime, date, time, timedelta\n",
    "import pytz\n",
    "import matplotlib.pyplot as plt\n",
    "import matplotlib.dates as mdate\n",
    "from mpl_finance import candlestick_ohlc\n",
    "import plotly.graph_objects as go\n",
    "import plotly.express as px\n",
    "import matplotlib.ticker as mticker\n",
    "%load_ext autoreload\n",
    "%matplotlib inline\n",
    "import sys, os"
   ]
  },
  {
   "cell_type": "code",
   "execution_count": 15,
   "metadata": {},
   "outputs": [],
   "source": [
    "#To add the super-parent directory\n",
    "sys.path.append(os.path.abspath(os.path.join('../..' )))\n",
    "from utils import *"
   ]
  },
  {
   "cell_type": "markdown",
   "metadata": {},
   "source": [
    "Get all the list of unique coins along with their ID for prepartion..."
   ]
  },
  {
   "cell_type": "code",
   "execution_count": 16,
   "metadata": {},
   "outputs": [
    {
     "data": {
      "text/html": [
       "<div>\n",
       "<style scoped>\n",
       "    .dataframe tbody tr th:only-of-type {\n",
       "        vertical-align: middle;\n",
       "    }\n",
       "\n",
       "    .dataframe tbody tr th {\n",
       "        vertical-align: top;\n",
       "    }\n",
       "\n",
       "    .dataframe thead th {\n",
       "        text-align: right;\n",
       "    }\n",
       "</style>\n",
       "<table border=\"1\" class=\"dataframe\">\n",
       "  <thead>\n",
       "    <tr style=\"text-align: right;\">\n",
       "      <th></th>\n",
       "      <th>currency</th>\n",
       "      <th>Id</th>\n",
       "    </tr>\n",
       "  </thead>\n",
       "  <tbody>\n",
       "    <tr>\n",
       "      <td>0</td>\n",
       "      <td>KMD</td>\n",
       "      <td>26132</td>\n",
       "    </tr>\n",
       "    <tr>\n",
       "      <td>1</td>\n",
       "      <td>WAN</td>\n",
       "      <td>240142</td>\n",
       "    </tr>\n",
       "    <tr>\n",
       "      <td>2</td>\n",
       "      <td>QSP</td>\n",
       "      <td>397757</td>\n",
       "    </tr>\n",
       "    <tr>\n",
       "      <td>3</td>\n",
       "      <td>GVT</td>\n",
       "      <td>385952</td>\n",
       "    </tr>\n",
       "    <tr>\n",
       "      <td>4</td>\n",
       "      <td>POWR</td>\n",
       "      <td>339617</td>\n",
       "    </tr>\n",
       "  </tbody>\n",
       "</table>\n",
       "</div>"
      ],
      "text/plain": [
       "  currency      Id\n",
       "0      KMD   26132\n",
       "1      WAN  240142\n",
       "2      QSP  397757\n",
       "3      GVT  385952\n",
       "4     POWR  339617"
      ]
     },
     "execution_count": 16,
     "metadata": {},
     "output_type": "execute_result"
    }
   ],
   "source": [
    "coinlist = pd.read_pickle('../../Coin_Data/coin_list.pkl')[['currency','Id']]\n",
    "#We only select those with valid ID; \n",
    "coinlist = coinlist.drop_duplicates().dropna()\n",
    "coinlist.head()"
   ]
  },
  {
   "cell_type": "markdown",
   "metadata": {},
   "source": [
    "Recycle and modify the existing Hourly Function to get Daily Data. \n",
    "The getDailySocialfromList calls on the getHistoricalDailySocial. "
   ]
  },
  {
   "cell_type": "code",
   "execution_count": 17,
   "metadata": {},
   "outputs": [],
   "source": [
    "def toUnixTimestamp(date:str, is_dst:bool=False):\n",
    "    '''\n",
    "    Convert the day in format %Y%M%D into UNIX timestamp at UTC/GMT time.\n",
    "    :param date: date in YYYYMMDD format\n",
    "    :param is_dst: whether Daylight Saving Time is on. Default: False\n",
    "    '''\n",
    "    print(\"If in US, check if DST is on and modify is_dst parameter (default=False)!\")\n",
    "    try:\n",
    "        dt = datetime.strptime(date,\"%Y%m%d\")\n",
    "        delta = 7 if is_dst else 8\n",
    "        val = dt - timedelta(hours=delta)\n",
    "        timestamp = str(int(datetime.timestamp(val)))\n",
    "    except ValueError:\n",
    "        raise\n",
    "    return timestamp\n"
   ]
  },
  {
   "cell_type": "code",
   "execution_count": 18,
   "metadata": {},
   "outputs": [],
   "source": [
    "def getDailySocialfromList(API_KEY:str, coin_list:pd.DataFrame, toDate:str='',toDate_is_dst=False,endDate:str='',endDate_is_dst=False):\n",
    "    '''\n",
    "    Use CryptoCompare API to download the HOURLY Social data according to specified parameters\n",
    "    :param API_KEY: string of the personal key acqured on the site \n",
    "    :param coin_list: Panda Dataframe that cointains the coinlist and coin_id\n",
    "    :param toDate: string of date in format 'YYYYMMDD' of the begining period \n",
    "    :param endDate: string of date in format  'YYYMMDD' of the end period to download\n",
    "    :param is_dst: Boolen value whether each date under Daylight Saving Time\n",
    "    '''\n",
    "    endTs = toUnixTimestamp(endDate,endDate_is_dst)\n",
    "    toTs = toUnixTimestamp(toDate,toDate_is_dst)\n",
    "    error_coin = []\n",
    "    \n",
    "    #Loop through the coin list and download the data\n",
    "    for index, row in coin_list.iterrows():\n",
    "        coin = row['currency']\n",
    "        coin_id = row['Id']\n",
    "        print(\"\\n-------\\nCoin: \",coin)\n",
    "        print(\"Coin_id: \",coin_id)\n",
    "        \n",
    "        #Sleep for 5 seconds after ever 10 coins;\n",
    "        if index % 10 == 0:\n",
    "            sleeper.sleep(5)\n",
    "        \n",
    "        if coin_id is np.NaN:\n",
    "            error_coin.append((coin,coin_id))\n",
    "            print(\"\\n---!!Cannot lookup ID for coin \",coin)\n",
    "        else:    \n",
    "            filename = '../../Social_Data/Daily/Daily_'+coin+'_'+coin_id+'.pkl'\n",
    "            print('\\n---','Now downloading {0} with ID {1}'.format(coin,coin_id))\n",
    "            data = getHistoricalDailySocial(API_KEY,coin_id,toTs=toTs,endTs=endTs)\n",
    "            \n",
    "            if type(data) is str:\n",
    "                error_coin.append((coin,coin_id))\n",
    "                continue\n",
    "            #Preprocess the data to append the extra information\n",
    "            data = convertTimeStamp(data)\n",
    "            data.sort_values('time',ascending=True, inplace=True)\n",
    "            data['date_utc'] = convertUTC(data,'date')\n",
    "\n",
    "            pd.to_pickle(data,path=filename)\n",
    "            print('Coin donwloaded! Saved at ' + filename)\n",
    "            \n",
    "            sleeper.sleep(1)\n",
    "    return error_coin"
   ]
  },
  {
   "cell_type": "code",
   "execution_count": 19,
   "metadata": {},
   "outputs": [],
   "source": [
    "def getHistoricalDailySocial(API_KEY:str,  coin_id:str, toTs:str, endTs: str=''\n",
    "                           , limit:str='2000',verbose=True):\n",
    "    '''\n",
    "    Request Daily Social Signal data on the specified exchange until we hit the toTS date.\n",
    "    API_KEY is required to download the data from their site.\n",
    "    :param coin_id: str, given ID of coin on Cryptocompare\n",
    "    :param toTs: UNIX timestamp, date to reach back in the past\n",
    "    :param endTs: UNIX timestamp, date to stop on the right of interval\n",
    "    '''\n",
    "    coin_id='&coinId='+coin_id\n",
    "   \n",
    "    #If no end period (endTs) is specified, then the API defaults to the current date\n",
    "    stopdate = int(toTs)\n",
    "   \n",
    "    if endTs != '':\n",
    "        toTs = '&toTs='+endTs\n",
    "    else:\n",
    "        toTS = ''\n",
    "    toTs='&toTS='+toTs\n",
    "    limit='&limit='+limit\n",
    "    \n",
    "    api_key = '&api_key='+API_KEY\n",
    "    \n",
    "    API_REQUEST = 'https://min-api.cryptocompare.com/data/social/coin/histo/day?'\n",
    "    url = API_REQUEST+coin_id+toTs+limit+api_key\n",
    "    print(url)\n",
    "    try: \n",
    "        temp = requests.get(url).json()['Data']\n",
    "        df_temp = pd.DataFrame(temp)\n",
    "        df = pd.DataFrame(temp)\n",
    "        #Get the minimum timestamp/date to retrieve further back\n",
    "        min_date = df_temp.time.min()\n",
    "    except:\n",
    "        print('Check URL format!')\n",
    "        return 'Check URL format!!!'\n",
    "        \n",
    "    cnt=1\n",
    "    while min_date > stopdate : \n",
    "        toTs = '&toTs='+str(min_date)\n",
    "        url = API_REQUEST+coin_id+toTs+limit+api_key\n",
    "        if verbose: \n",
    "            print('Mindate before: ',datetime.fromtimestamp(min_date))\n",
    "            print('New batch: ' + url)\n",
    "        \n",
    "        temp = requests.get(url).json()['Data']\n",
    "        df_temp = pd.DataFrame(temp)\n",
    "        min_date = df_temp.time.min()\n",
    "        \n",
    "        if verbose: \n",
    "            print('Mindate after: ',datetime.fromtimestamp(min_date))\n",
    "        #Append the dataset into the existin one \n",
    "        df = pd.concat([df, df_temp],axis=0)\n",
    "        cnt += 1\n",
    "        if cnt > 4:\n",
    "            break\n",
    "    \n",
    "    return df"
   ]
  },
  {
   "cell_type": "code",
   "execution_count": 65,
   "metadata": {},
   "outputs": [],
   "source": [
    "def getHistoricalHourlySocial(API_KEY:str,  coin_id:str, toTs:str, endTs: str=''\n",
    "                           , limit:str='2000',verbose=True):\n",
    "    '''\n",
    "    Request Hourly Social Signal data on the specified exchange until we hit the toTS date.\n",
    "    API_KEY is required to download the data from their site.\n",
    "    '''\n",
    "    coin_id='&coinId='+coin_id\n",
    "   \n",
    "    #If no end period (endTs) is specified, then the API defaults to the current date\n",
    "    stopdate = int(toTs)\n",
    "   \n",
    "    if endTs != '':\n",
    "        toTs = '&toTs='+endTs\n",
    "    else:\n",
    "        toTS = ''\n",
    "    toTs='&toTS='+toTs\n",
    "    limit='&limit='+limit\n",
    "    \n",
    "    api_key = '&api_key='+API_KEY\n",
    "    \n",
    "    API_REQUEST = 'https://min-api.cryptocompare.com/data/social/coin/histo/hour?'\n",
    "    url = API_REQUEST+coin_id+toTs+limit+api_key\n",
    "    print(url)\n",
    "    try: \n",
    "        temp = requests.get(url).json()['Data']\n",
    "        df_temp = pd.DataFrame(temp)\n",
    "        df = pd.DataFrame(temp)\n",
    "        #Get the minimum timestamp/date to retrieve further back\n",
    "        min_date = df_temp.time.min()\n",
    "    except:\n",
    "        print('Check URL format!')\n",
    "        return 'Check URL format!!!'\n",
    "        \n",
    "    cnt=1\n",
    "    while min_date > stopdate : \n",
    "        toTs = '&toTs='+str(min_date)\n",
    "        url = API_REQUEST+coin_id+toTs+limit+api_key\n",
    "        if verbose: \n",
    "            print('Mindate before: ',datetime.fromtimestamp(min_date))\n",
    "            print('New batch: ' + url)\n",
    "        \n",
    "        temp = requests.get(url).json()['Data']\n",
    "        df_temp = pd.DataFrame(temp)\n",
    "        min_date = df_temp.time.min()\n",
    "        \n",
    "        if verbose: \n",
    "            print('Mindate after: ',datetime.fromtimestamp(min_date))\n",
    "        #Append the dataset into the existin one \n",
    "        df = pd.concat([df, df_temp],axis=0,sort=False)\n",
    "        print(\"Data appended with shape {}, where mindate is {} and stopdate is {}\".format(df.shape, min_date, stopdate))\n",
    "        cnt+= 1\n",
    "        if cnt > 10:\n",
    "            break\n",
    "    \n",
    "    return df\n"
   ]
  },
  {
   "cell_type": "code",
   "execution_count": 63,
   "metadata": {},
   "outputs": [],
   "source": [
    "def getHourlySocialfromList(API_KEY:str, coin_list:pd.DataFrame, toDate:str='',toDate_is_dst=False,endDate:str='',endDate_is_dst=False):\n",
    "    '''\n",
    "    Use CryptoCompare API to download the HOURLY Social data according to specified parameters\n",
    "    :param API_KEY: string of the personal key acqured on the site \n",
    "    :param coin_list: Panda Dataframe that cointains the coinlist and coin_id\n",
    "    :param toDate: string of date in format 'YYYYMMDD' of the begining period \n",
    "    :param endDate: string of date in format  'YYYMMDD' of the end period to download\n",
    "    :param is_dst: Boolen value whether each date under Daylight Saving Time\n",
    "    '''\n",
    "    endTs = toUnixTimestamp(endDate,endDate_is_dst)\n",
    "    toTs = toUnixTimestamp(toDate,toDate_is_dst)\n",
    "    error_coin = []\n",
    "    \n",
    "    #Loop through the coin list and download the data\n",
    "    for index, row in coin_list.iterrows():\n",
    "        coin = row['currency']\n",
    "        coin_id = row['Id']\n",
    "        print(\"\\n-------\\nCoin: \",coin)\n",
    "        print(\"Coin_id: \",coin_id)\n",
    "        \n",
    "        #Sleep for 5 seconds after ever 10 coins;\n",
    "        if index % 10 == 0:\n",
    "            sleeper.sleep(5)\n",
    "        \n",
    "        if coin_id is np.NaN:\n",
    "            error_coin.append((coin,coin_id))\n",
    "            print(\"\\n---!!Cannot lookup ID for coin \",coin)\n",
    "        else:    \n",
    "            filename = '../../Social_Data/Hourly/Hourly_'+coin+'_'+coin_id+'.pkl'\n",
    "            print('\\n---','Now downloading {0} with ID {1}'.format(coin,coin_id))\n",
    "            data = getHistoricalHourlySocial(API_KEY,coin_id,toTs=toTs,endTs=endTs)\n",
    "            print(\"Data succesfully downloaded with shape\", data.shape)\n",
    "            \n",
    "            if type(data) is str:\n",
    "                error_coin.append((coin,coin_id))\n",
    "                continue\n",
    "            #Preprocess the data to append the extra information\n",
    "            data = convertTimeStamp(data)\n",
    "            data.sort_values('time',ascending=True, inplace=True)\n",
    "            data['date_utc'] = convertUTC(data,'date')\n",
    "\n",
    "            pd.to_pickle(data,path=filename)\n",
    "            print('Coin donwloaded! Saved at ' + filename)\n",
    "            \n",
    "            sleeper.sleep(1)\n",
    "    return error_coin"
   ]
  },
  {
   "cell_type": "markdown",
   "metadata": {},
   "source": [
    "## TEST  1: Get a single historical data\n",
    "Get historical data for coin KMD"
   ]
  },
  {
   "cell_type": "markdown",
   "metadata": {},
   "source": [
    "### DAILY for KMD"
   ]
  },
  {
   "cell_type": "code",
   "execution_count": 53,
   "metadata": {},
   "outputs": [
    {
     "name": "stdout",
     "output_type": "stream",
     "text": [
      "If in US, check if DST is on and modify is_dst parameter (default=False)!\n",
      "If in US, check if DST is on and modify is_dst parameter (default=False)!\n",
      "END 1569888000 TO 1525132800\n"
     ]
    }
   ],
   "source": [
    "API_KEY = '01a9f40086b2d1939be540e04f5ea2a3a0993c1288cc23fe1cd81fbee60ed842'\n",
    "endDate = '20191001'\n",
    "toDate = '20180501'\n",
    "endTs = toUnixTimestamp(endDate,True)\n",
    "toTs = toUnixTimestamp(toDate,True)\n",
    "print(\"END\",endTs,\"TO\", toTs)"
   ]
  },
  {
   "cell_type": "code",
   "execution_count": 54,
   "metadata": {},
   "outputs": [
    {
     "name": "stdout",
     "output_type": "stream",
     "text": [
      "https://min-api.cryptocompare.com/data/social/coin/histo/day?&coinId=26132&toTS=&toTs=1569888000&limit=2000&api_key=01a9f40086b2d1939be540e04f5ea2a3a0993c1288cc23fe1cd81fbee60ed842\n"
     ]
    }
   ],
   "source": [
    "KMD = getHistoricalDailySocial(API_KEY, '26132', toTs, endTs )"
   ]
  },
  {
   "cell_type": "code",
   "execution_count": 55,
   "metadata": {},
   "outputs": [
    {
     "data": {
      "text/plain": [
       "0       1397088000\n",
       "2000    1569888000\n",
       "Name: time, dtype: int64"
      ]
     },
     "execution_count": 55,
     "metadata": {},
     "output_type": "execute_result"
    }
   ],
   "source": [
    "#Note that the dates are correct \n",
    "KMD.time.sort_values().iloc[[0,2000]]"
   ]
  },
  {
   "cell_type": "code",
   "execution_count": 23,
   "metadata": {},
   "outputs": [
    {
     "data": {
      "text/html": [
       "<div>\n",
       "<style scoped>\n",
       "    .dataframe tbody tr th:only-of-type {\n",
       "        vertical-align: middle;\n",
       "    }\n",
       "\n",
       "    .dataframe tbody tr th {\n",
       "        vertical-align: top;\n",
       "    }\n",
       "\n",
       "    .dataframe thead th {\n",
       "        text-align: right;\n",
       "    }\n",
       "</style>\n",
       "<table border=\"1\" class=\"dataframe\">\n",
       "  <thead>\n",
       "    <tr style=\"text-align: right;\">\n",
       "      <th></th>\n",
       "      <th>comments</th>\n",
       "      <th>posts</th>\n",
       "      <th>followers</th>\n",
       "      <th>points</th>\n",
       "      <th>overview_page_views</th>\n",
       "      <th>analysis_page_views</th>\n",
       "      <th>markets_page_views</th>\n",
       "      <th>charts_page_views</th>\n",
       "      <th>trades_page_views</th>\n",
       "      <th>forum_page_views</th>\n",
       "      <th>...</th>\n",
       "      <th>reddit_comments_per_day</th>\n",
       "      <th>code_repo_stars</th>\n",
       "      <th>code_repo_forks</th>\n",
       "      <th>code_repo_subscribers</th>\n",
       "      <th>code_repo_open_pull_issues</th>\n",
       "      <th>code_repo_closed_pull_issues</th>\n",
       "      <th>code_repo_open_issues</th>\n",
       "      <th>code_repo_closed_issues</th>\n",
       "      <th>code_repo_contributors</th>\n",
       "      <th>time</th>\n",
       "    </tr>\n",
       "  </thead>\n",
       "  <tbody>\n",
       "    <tr>\n",
       "      <td>0</td>\n",
       "      <td>0</td>\n",
       "      <td>0</td>\n",
       "      <td>0</td>\n",
       "      <td>0</td>\n",
       "      <td>0</td>\n",
       "      <td>0</td>\n",
       "      <td>0</td>\n",
       "      <td>0</td>\n",
       "      <td>0</td>\n",
       "      <td>0</td>\n",
       "      <td>...</td>\n",
       "      <td>0.0</td>\n",
       "      <td>0</td>\n",
       "      <td>0</td>\n",
       "      <td>0</td>\n",
       "      <td>0</td>\n",
       "      <td>0</td>\n",
       "      <td>0</td>\n",
       "      <td>0</td>\n",
       "      <td>0</td>\n",
       "      <td>1397088000</td>\n",
       "    </tr>\n",
       "    <tr>\n",
       "      <td>1</td>\n",
       "      <td>0</td>\n",
       "      <td>0</td>\n",
       "      <td>0</td>\n",
       "      <td>0</td>\n",
       "      <td>0</td>\n",
       "      <td>0</td>\n",
       "      <td>0</td>\n",
       "      <td>0</td>\n",
       "      <td>0</td>\n",
       "      <td>0</td>\n",
       "      <td>...</td>\n",
       "      <td>0.0</td>\n",
       "      <td>0</td>\n",
       "      <td>0</td>\n",
       "      <td>0</td>\n",
       "      <td>0</td>\n",
       "      <td>0</td>\n",
       "      <td>0</td>\n",
       "      <td>0</td>\n",
       "      <td>0</td>\n",
       "      <td>1397174400</td>\n",
       "    </tr>\n",
       "    <tr>\n",
       "      <td>2</td>\n",
       "      <td>0</td>\n",
       "      <td>0</td>\n",
       "      <td>0</td>\n",
       "      <td>0</td>\n",
       "      <td>0</td>\n",
       "      <td>0</td>\n",
       "      <td>0</td>\n",
       "      <td>0</td>\n",
       "      <td>0</td>\n",
       "      <td>0</td>\n",
       "      <td>...</td>\n",
       "      <td>0.0</td>\n",
       "      <td>0</td>\n",
       "      <td>0</td>\n",
       "      <td>0</td>\n",
       "      <td>0</td>\n",
       "      <td>0</td>\n",
       "      <td>0</td>\n",
       "      <td>0</td>\n",
       "      <td>0</td>\n",
       "      <td>1397260800</td>\n",
       "    </tr>\n",
       "    <tr>\n",
       "      <td>3</td>\n",
       "      <td>0</td>\n",
       "      <td>0</td>\n",
       "      <td>0</td>\n",
       "      <td>0</td>\n",
       "      <td>0</td>\n",
       "      <td>0</td>\n",
       "      <td>0</td>\n",
       "      <td>0</td>\n",
       "      <td>0</td>\n",
       "      <td>0</td>\n",
       "      <td>...</td>\n",
       "      <td>0.0</td>\n",
       "      <td>0</td>\n",
       "      <td>0</td>\n",
       "      <td>0</td>\n",
       "      <td>0</td>\n",
       "      <td>0</td>\n",
       "      <td>0</td>\n",
       "      <td>0</td>\n",
       "      <td>0</td>\n",
       "      <td>1397347200</td>\n",
       "    </tr>\n",
       "    <tr>\n",
       "      <td>4</td>\n",
       "      <td>0</td>\n",
       "      <td>0</td>\n",
       "      <td>0</td>\n",
       "      <td>0</td>\n",
       "      <td>0</td>\n",
       "      <td>0</td>\n",
       "      <td>0</td>\n",
       "      <td>0</td>\n",
       "      <td>0</td>\n",
       "      <td>0</td>\n",
       "      <td>...</td>\n",
       "      <td>0.0</td>\n",
       "      <td>0</td>\n",
       "      <td>0</td>\n",
       "      <td>0</td>\n",
       "      <td>0</td>\n",
       "      <td>0</td>\n",
       "      <td>0</td>\n",
       "      <td>0</td>\n",
       "      <td>0</td>\n",
       "      <td>1397433600</td>\n",
       "    </tr>\n",
       "  </tbody>\n",
       "</table>\n",
       "<p>5 rows × 34 columns</p>\n",
       "</div>"
      ],
      "text/plain": [
       "   comments  posts  followers  points  overview_page_views  \\\n",
       "0         0      0          0       0                    0   \n",
       "1         0      0          0       0                    0   \n",
       "2         0      0          0       0                    0   \n",
       "3         0      0          0       0                    0   \n",
       "4         0      0          0       0                    0   \n",
       "\n",
       "   analysis_page_views  markets_page_views  charts_page_views  \\\n",
       "0                    0                   0                  0   \n",
       "1                    0                   0                  0   \n",
       "2                    0                   0                  0   \n",
       "3                    0                   0                  0   \n",
       "4                    0                   0                  0   \n",
       "\n",
       "   trades_page_views  forum_page_views  ...  reddit_comments_per_day  \\\n",
       "0                  0                 0  ...                      0.0   \n",
       "1                  0                 0  ...                      0.0   \n",
       "2                  0                 0  ...                      0.0   \n",
       "3                  0                 0  ...                      0.0   \n",
       "4                  0                 0  ...                      0.0   \n",
       "\n",
       "   code_repo_stars  code_repo_forks  code_repo_subscribers  \\\n",
       "0                0                0                      0   \n",
       "1                0                0                      0   \n",
       "2                0                0                      0   \n",
       "3                0                0                      0   \n",
       "4                0                0                      0   \n",
       "\n",
       "   code_repo_open_pull_issues  code_repo_closed_pull_issues  \\\n",
       "0                           0                             0   \n",
       "1                           0                             0   \n",
       "2                           0                             0   \n",
       "3                           0                             0   \n",
       "4                           0                             0   \n",
       "\n",
       "   code_repo_open_issues  code_repo_closed_issues  code_repo_contributors  \\\n",
       "0                      0                        0                       0   \n",
       "1                      0                        0                       0   \n",
       "2                      0                        0                       0   \n",
       "3                      0                        0                       0   \n",
       "4                      0                        0                       0   \n",
       "\n",
       "         time  \n",
       "0  1397088000  \n",
       "1  1397174400  \n",
       "2  1397260800  \n",
       "3  1397347200  \n",
       "4  1397433600  \n",
       "\n",
       "[5 rows x 34 columns]"
      ]
     },
     "execution_count": 23,
     "metadata": {},
     "output_type": "execute_result"
    }
   ],
   "source": [
    "KMD.head()"
   ]
  },
  {
   "cell_type": "code",
   "execution_count": 58,
   "metadata": {},
   "outputs": [
    {
     "data": {
      "text/html": [
       "<div>\n",
       "<style scoped>\n",
       "    .dataframe tbody tr th:only-of-type {\n",
       "        vertical-align: middle;\n",
       "    }\n",
       "\n",
       "    .dataframe tbody tr th {\n",
       "        vertical-align: top;\n",
       "    }\n",
       "\n",
       "    .dataframe thead th {\n",
       "        text-align: right;\n",
       "    }\n",
       "</style>\n",
       "<table border=\"1\" class=\"dataframe\">\n",
       "  <thead>\n",
       "    <tr style=\"text-align: right;\">\n",
       "      <th></th>\n",
       "      <th>time</th>\n",
       "      <th>posts</th>\n",
       "    </tr>\n",
       "  </thead>\n",
       "  <tbody>\n",
       "    <tr>\n",
       "      <td>1995</td>\n",
       "      <td>1569456000</td>\n",
       "      <td>111</td>\n",
       "    </tr>\n",
       "    <tr>\n",
       "      <td>1996</td>\n",
       "      <td>1569542400</td>\n",
       "      <td>111</td>\n",
       "    </tr>\n",
       "    <tr>\n",
       "      <td>1997</td>\n",
       "      <td>1569628800</td>\n",
       "      <td>111</td>\n",
       "    </tr>\n",
       "    <tr>\n",
       "      <td>1998</td>\n",
       "      <td>1569715200</td>\n",
       "      <td>111</td>\n",
       "    </tr>\n",
       "    <tr>\n",
       "      <td>1999</td>\n",
       "      <td>1569801600</td>\n",
       "      <td>111</td>\n",
       "    </tr>\n",
       "    <tr>\n",
       "      <td>2000</td>\n",
       "      <td>1569888000</td>\n",
       "      <td>111</td>\n",
       "    </tr>\n",
       "  </tbody>\n",
       "</table>\n",
       "</div>"
      ],
      "text/plain": [
       "            time  posts\n",
       "1995  1569456000    111\n",
       "1996  1569542400    111\n",
       "1997  1569628800    111\n",
       "1998  1569715200    111\n",
       "1999  1569801600    111\n",
       "2000  1569888000    111"
      ]
     },
     "execution_count": 58,
     "metadata": {},
     "output_type": "execute_result"
    }
   ],
   "source": [
    "KMD_cols = KMD.columns\n",
    "KMD.loc[1995:2000,['time',KMD_cols[1]]]"
   ]
  },
  {
   "cell_type": "markdown",
   "metadata": {},
   "source": [
    "### HOURLY for KMD"
   ]
  },
  {
   "cell_type": "code",
   "execution_count": 73,
   "metadata": {},
   "outputs": [
    {
     "name": "stdout",
     "output_type": "stream",
     "text": [
      "https://min-api.cryptocompare.com/data/social/coin/histo/hour?&coinId=877310&toTS=&toTs=1569888000&limit=2000&api_key=01a9f40086b2d1939be540e04f5ea2a3a0993c1288cc23fe1cd81fbee60ed842\n",
      "Check URL format!\n"
     ]
    }
   ],
   "source": [
    "INFX_h = getHistoricalHourlySocial(API_KEY, '877310', toTs, endTs )"
   ]
  },
  {
   "cell_type": "markdown",
   "metadata": {},
   "source": [
    "## Test 2: Download full data for all coins"
   ]
  },
  {
   "cell_type": "markdown",
   "metadata": {},
   "source": [
    "## Test DAILY Download"
   ]
  },
  {
   "cell_type": "code",
   "execution_count": 40,
   "metadata": {},
   "outputs": [
    {
     "name": "stdout",
     "output_type": "stream",
     "text": [
      "If in US, check if DST is on and modify is_dst parameter (default=False)!\n",
      "If in US, check if DST is on and modify is_dst parameter (default=False)!\n",
      "\n",
      "-------\n",
      "Coin:  KMD\n",
      "Coin_id:  26132\n",
      "\n",
      "--- Now downloading KMD with ID 26132\n",
      "https://min-api.cryptocompare.com/data/social/coin/histo/day?&coinId=26132&toTS=&toTs=1569888000&limit=2000&api_key=01a9f40086b2d1939be540e04f5ea2a3a0993c1288cc23fe1cd81fbee60ed842\n",
      "Coin donwloaded! Saved at ../../Social_Data/Daily/Daily_KMD_26132.pkl\n",
      "\n",
      "-------\n",
      "Coin:  WAN\n",
      "Coin_id:  240142\n",
      "\n",
      "--- Now downloading WAN with ID 240142\n",
      "https://min-api.cryptocompare.com/data/social/coin/histo/day?&coinId=240142&toTS=&toTs=1569888000&limit=2000&api_key=01a9f40086b2d1939be540e04f5ea2a3a0993c1288cc23fe1cd81fbee60ed842\n",
      "Coin donwloaded! Saved at ../../Social_Data/Daily/Daily_WAN_240142.pkl\n"
     ]
    },
    {
     "data": {
      "text/plain": [
       "[]"
      ]
     },
     "execution_count": 40,
     "metadata": {},
     "output_type": "execute_result"
    }
   ],
   "source": [
    "coinlist_2 = coinlist[:2]\n",
    "getDailySocialfromList(API_KEY, coin_list=coinlist_2,toDate='20180501',toDate_is_dst=True,endDate='20191001'\n",
    "                       ,endDate_is_dst=True)"
   ]
  },
  {
   "cell_type": "markdown",
   "metadata": {},
   "source": [
    "So this process works. Now test the substraction process for np.\n",
    "So we don't have to worry about "
   ]
  },
  {
   "cell_type": "markdown",
   "metadata": {},
   "source": [
    "## TEST HOURLY DOWNLOAD"
   ]
  },
  {
   "cell_type": "code",
   "execution_count": 67,
   "metadata": {},
   "outputs": [
    {
     "name": "stdout",
     "output_type": "stream",
     "text": [
      "If in US, check if DST is on and modify is_dst parameter (default=False)!\n",
      "If in US, check if DST is on and modify is_dst parameter (default=False)!\n",
      "\n",
      "-------\n",
      "Coin:  KMD\n",
      "Coin_id:  26132\n",
      "\n",
      "--- Now downloading KMD with ID 26132\n",
      "https://min-api.cryptocompare.com/data/social/coin/histo/hour?&coinId=26132&toTS=&toTs=1569888000&limit=2000&api_key=01a9f40086b2d1939be540e04f5ea2a3a0993c1288cc23fe1cd81fbee60ed842\n",
      "Mindate before:  2019-07-09 09:00:00\n",
      "New batch: https://min-api.cryptocompare.com/data/social/coin/histo/hour?&coinId=26132&toTs=1562688000&limit=2000&api_key=01a9f40086b2d1939be540e04f5ea2a3a0993c1288cc23fe1cd81fbee60ed842\n",
      "Mindate after:  2019-04-17 01:00:00\n",
      "Data appended with shape (4002, 34), where mindate is 1555488000 and stopdate is 1526342400\n",
      "Mindate before:  2019-04-17 01:00:00\n",
      "New batch: https://min-api.cryptocompare.com/data/social/coin/histo/hour?&coinId=26132&toTs=1555488000&limit=2000&api_key=01a9f40086b2d1939be540e04f5ea2a3a0993c1288cc23fe1cd81fbee60ed842\n",
      "Mindate after:  2019-01-23 16:00:00\n",
      "Data appended with shape (6003, 34), where mindate is 1548288000 and stopdate is 1526342400\n",
      "Mindate before:  2019-01-23 16:00:00\n",
      "New batch: https://min-api.cryptocompare.com/data/social/coin/histo/hour?&coinId=26132&toTs=1548288000&limit=2000&api_key=01a9f40086b2d1939be540e04f5ea2a3a0993c1288cc23fe1cd81fbee60ed842\n",
      "Mindate after:  2018-11-01 09:00:00\n",
      "Data appended with shape (8004, 34), where mindate is 1541088000 and stopdate is 1526342400\n",
      "Mindate before:  2018-11-01 09:00:00\n",
      "New batch: https://min-api.cryptocompare.com/data/social/coin/histo/hour?&coinId=26132&toTs=1541088000&limit=2000&api_key=01a9f40086b2d1939be540e04f5ea2a3a0993c1288cc23fe1cd81fbee60ed842\n",
      "Mindate after:  2018-08-10 01:00:00\n",
      "Data appended with shape (10005, 34), where mindate is 1533888000 and stopdate is 1526342400\n",
      "Mindate before:  2018-08-10 01:00:00\n",
      "New batch: https://min-api.cryptocompare.com/data/social/coin/histo/hour?&coinId=26132&toTs=1533888000&limit=2000&api_key=01a9f40086b2d1939be540e04f5ea2a3a0993c1288cc23fe1cd81fbee60ed842\n",
      "Mindate after:  2018-05-18 17:00:00\n",
      "Data appended with shape (12006, 34), where mindate is 1526688000 and stopdate is 1526342400\n",
      "Mindate before:  2018-05-18 17:00:00\n",
      "New batch: https://min-api.cryptocompare.com/data/social/coin/histo/hour?&coinId=26132&toTs=1526688000&limit=2000&api_key=01a9f40086b2d1939be540e04f5ea2a3a0993c1288cc23fe1cd81fbee60ed842\n",
      "Mindate after:  2018-02-24 08:00:00\n",
      "Data appended with shape (14007, 34), where mindate is 1519488000 and stopdate is 1526342400\n",
      "Data succesfully downloaded with shape (14007, 34)\n",
      "Coin donwloaded! Saved at ../../Social_Data/Hourly/Hourly_KMD_26132.pkl\n",
      "\n",
      "-------\n",
      "Coin:  WAN\n",
      "Coin_id:  240142\n",
      "\n",
      "--- Now downloading WAN with ID 240142\n",
      "https://min-api.cryptocompare.com/data/social/coin/histo/hour?&coinId=240142&toTS=&toTs=1569888000&limit=2000&api_key=01a9f40086b2d1939be540e04f5ea2a3a0993c1288cc23fe1cd81fbee60ed842\n",
      "Mindate before:  2019-07-09 09:00:00\n",
      "New batch: https://min-api.cryptocompare.com/data/social/coin/histo/hour?&coinId=240142&toTs=1562688000&limit=2000&api_key=01a9f40086b2d1939be540e04f5ea2a3a0993c1288cc23fe1cd81fbee60ed842\n",
      "Mindate after:  2019-04-17 01:00:00\n",
      "Data appended with shape (4002, 34), where mindate is 1555488000 and stopdate is 1526342400\n",
      "Mindate before:  2019-04-17 01:00:00\n",
      "New batch: https://min-api.cryptocompare.com/data/social/coin/histo/hour?&coinId=240142&toTs=1555488000&limit=2000&api_key=01a9f40086b2d1939be540e04f5ea2a3a0993c1288cc23fe1cd81fbee60ed842\n",
      "Mindate after:  2019-01-23 16:00:00\n",
      "Data appended with shape (6003, 34), where mindate is 1548288000 and stopdate is 1526342400\n",
      "Mindate before:  2019-01-23 16:00:00\n",
      "New batch: https://min-api.cryptocompare.com/data/social/coin/histo/hour?&coinId=240142&toTs=1548288000&limit=2000&api_key=01a9f40086b2d1939be540e04f5ea2a3a0993c1288cc23fe1cd81fbee60ed842\n",
      "Mindate after:  2018-11-01 09:00:00\n",
      "Data appended with shape (8004, 34), where mindate is 1541088000 and stopdate is 1526342400\n",
      "Mindate before:  2018-11-01 09:00:00\n",
      "New batch: https://min-api.cryptocompare.com/data/social/coin/histo/hour?&coinId=240142&toTs=1541088000&limit=2000&api_key=01a9f40086b2d1939be540e04f5ea2a3a0993c1288cc23fe1cd81fbee60ed842\n",
      "Mindate after:  2018-08-10 01:00:00\n",
      "Data appended with shape (10005, 34), where mindate is 1533888000 and stopdate is 1526342400\n",
      "Mindate before:  2018-08-10 01:00:00\n",
      "New batch: https://min-api.cryptocompare.com/data/social/coin/histo/hour?&coinId=240142&toTs=1533888000&limit=2000&api_key=01a9f40086b2d1939be540e04f5ea2a3a0993c1288cc23fe1cd81fbee60ed842\n",
      "Mindate after:  2018-05-18 17:00:00\n",
      "Data appended with shape (12006, 34), where mindate is 1526688000 and stopdate is 1526342400\n",
      "Mindate before:  2018-05-18 17:00:00\n",
      "New batch: https://min-api.cryptocompare.com/data/social/coin/histo/hour?&coinId=240142&toTs=1526688000&limit=2000&api_key=01a9f40086b2d1939be540e04f5ea2a3a0993c1288cc23fe1cd81fbee60ed842\n",
      "Mindate after:  2018-02-24 08:00:00\n",
      "Data appended with shape (14007, 34), where mindate is 1519488000 and stopdate is 1526342400\n",
      "Data succesfully downloaded with shape (14007, 34)\n",
      "Coin donwloaded! Saved at ../../Social_Data/Hourly/Hourly_WAN_240142.pkl\n"
     ]
    },
    {
     "data": {
      "text/plain": [
       "[]"
      ]
     },
     "execution_count": 67,
     "metadata": {},
     "output_type": "execute_result"
    }
   ],
   "source": [
    "getHourlySocialfromList(API_KEY, coin_list=coinlist_2,toDate='20180515',toDate_is_dst=True,endDate='20191001'\n",
    "                       ,endDate_is_dst=True)"
   ]
  },
  {
   "cell_type": "markdown",
   "metadata": {},
   "source": [
    "## Check one downloaded PD"
   ]
  },
  {
   "cell_type": "code",
   "execution_count": 3,
   "metadata": {},
   "outputs": [
    {
     "data": {
      "text/plain": [
       "'/Users/hn/Documents/USC Others/ISI Research/PumpCoin/CrytoCompare/All_Pump_Analysis/Before_Announcement_Analysis'"
      ]
     },
     "execution_count": 3,
     "metadata": {},
     "output_type": "execute_result"
    }
   ],
   "source": [
    "os.getcwd()"
   ]
  },
  {
   "cell_type": "code",
   "execution_count": 5,
   "metadata": {},
   "outputs": [],
   "source": [
    "swm = pd.read_pickle(\"../../Social_Data/Daily/Daily_SWM_755563.pkl\")"
   ]
  },
  {
   "cell_type": "code",
   "execution_count": 9,
   "metadata": {},
   "outputs": [
    {
     "data": {
      "text/plain": [
       "1397088000"
      ]
     },
     "execution_count": 9,
     "metadata": {},
     "output_type": "execute_result"
    }
   ],
   "source": [
    "swm.time.min()"
   ]
  },
  {
   "cell_type": "code",
   "execution_count": 11,
   "metadata": {},
   "outputs": [
    {
     "data": {
      "text/plain": [
       "1569888000"
      ]
     },
     "execution_count": 11,
     "metadata": {},
     "output_type": "execute_result"
    }
   ],
   "source": [
    "swm.time.max()"
   ]
  },
  {
   "cell_type": "code",
   "execution_count": 68,
   "metadata": {},
   "outputs": [],
   "source": [
    "kmd = pd.read_pickle(\"../../Social_Data/Hourly/Hourly_KMD_26132.pkl\")"
   ]
  },
  {
   "cell_type": "code",
   "execution_count": 69,
   "metadata": {},
   "outputs": [
    {
     "data": {
      "text/plain": [
       "count                         14007\n",
       "unique                        14000\n",
       "top       2018-08-10 08:00:00+00:00\n",
       "freq                              2\n",
       "first     2018-02-24 16:00:00+00:00\n",
       "last      2019-10-01 00:00:00+00:00\n",
       "Name: date_utc, dtype: object"
      ]
     },
     "execution_count": 69,
     "metadata": {},
     "output_type": "execute_result"
    }
   ],
   "source": [
    "kmd.date_utc.describe()"
   ]
  },
  {
   "cell_type": "code",
   "execution_count": 70,
   "metadata": {},
   "outputs": [
    {
     "data": {
      "text/html": [
       "<div>\n",
       "<style scoped>\n",
       "    .dataframe tbody tr th:only-of-type {\n",
       "        vertical-align: middle;\n",
       "    }\n",
       "\n",
       "    .dataframe tbody tr th {\n",
       "        vertical-align: top;\n",
       "    }\n",
       "\n",
       "    .dataframe thead th {\n",
       "        text-align: right;\n",
       "    }\n",
       "</style>\n",
       "<table border=\"1\" class=\"dataframe\">\n",
       "  <thead>\n",
       "    <tr style=\"text-align: right;\">\n",
       "      <th></th>\n",
       "      <th>time</th>\n",
       "      <th>comments</th>\n",
       "      <th>posts</th>\n",
       "      <th>followers</th>\n",
       "      <th>points</th>\n",
       "      <th>overview_page_views</th>\n",
       "      <th>analysis_page_views</th>\n",
       "      <th>markets_page_views</th>\n",
       "      <th>charts_page_views</th>\n",
       "      <th>trades_page_views</th>\n",
       "      <th>...</th>\n",
       "      <th>code_repo_stars</th>\n",
       "      <th>code_repo_forks</th>\n",
       "      <th>code_repo_subscribers</th>\n",
       "      <th>code_repo_open_pull_issues</th>\n",
       "      <th>code_repo_closed_pull_issues</th>\n",
       "      <th>code_repo_open_issues</th>\n",
       "      <th>code_repo_closed_issues</th>\n",
       "      <th>code_repo_contributors</th>\n",
       "      <th>date</th>\n",
       "      <th>date_utc</th>\n",
       "    </tr>\n",
       "  </thead>\n",
       "  <tbody>\n",
       "    <tr>\n",
       "      <td>0</td>\n",
       "      <td>1519488000</td>\n",
       "      <td>0</td>\n",
       "      <td>0</td>\n",
       "      <td>0</td>\n",
       "      <td>0</td>\n",
       "      <td>0</td>\n",
       "      <td>0</td>\n",
       "      <td>0</td>\n",
       "      <td>0</td>\n",
       "      <td>0</td>\n",
       "      <td>...</td>\n",
       "      <td>0</td>\n",
       "      <td>0</td>\n",
       "      <td>0</td>\n",
       "      <td>0</td>\n",
       "      <td>0</td>\n",
       "      <td>0</td>\n",
       "      <td>0</td>\n",
       "      <td>0</td>\n",
       "      <td>2018-02-24 08:00:00</td>\n",
       "      <td>2018-02-24 16:00:00+00:00</td>\n",
       "    </tr>\n",
       "    <tr>\n",
       "      <td>1</td>\n",
       "      <td>1519491600</td>\n",
       "      <td>0</td>\n",
       "      <td>0</td>\n",
       "      <td>0</td>\n",
       "      <td>0</td>\n",
       "      <td>0</td>\n",
       "      <td>0</td>\n",
       "      <td>0</td>\n",
       "      <td>0</td>\n",
       "      <td>0</td>\n",
       "      <td>...</td>\n",
       "      <td>0</td>\n",
       "      <td>0</td>\n",
       "      <td>0</td>\n",
       "      <td>0</td>\n",
       "      <td>0</td>\n",
       "      <td>0</td>\n",
       "      <td>0</td>\n",
       "      <td>0</td>\n",
       "      <td>2018-02-24 09:00:00</td>\n",
       "      <td>2018-02-24 17:00:00+00:00</td>\n",
       "    </tr>\n",
       "    <tr>\n",
       "      <td>2</td>\n",
       "      <td>1519495200</td>\n",
       "      <td>0</td>\n",
       "      <td>0</td>\n",
       "      <td>0</td>\n",
       "      <td>0</td>\n",
       "      <td>0</td>\n",
       "      <td>0</td>\n",
       "      <td>0</td>\n",
       "      <td>0</td>\n",
       "      <td>0</td>\n",
       "      <td>...</td>\n",
       "      <td>0</td>\n",
       "      <td>0</td>\n",
       "      <td>0</td>\n",
       "      <td>0</td>\n",
       "      <td>0</td>\n",
       "      <td>0</td>\n",
       "      <td>0</td>\n",
       "      <td>0</td>\n",
       "      <td>2018-02-24 10:00:00</td>\n",
       "      <td>2018-02-24 18:00:00+00:00</td>\n",
       "    </tr>\n",
       "    <tr>\n",
       "      <td>3</td>\n",
       "      <td>1519498800</td>\n",
       "      <td>0</td>\n",
       "      <td>0</td>\n",
       "      <td>0</td>\n",
       "      <td>0</td>\n",
       "      <td>0</td>\n",
       "      <td>0</td>\n",
       "      <td>0</td>\n",
       "      <td>0</td>\n",
       "      <td>0</td>\n",
       "      <td>...</td>\n",
       "      <td>0</td>\n",
       "      <td>0</td>\n",
       "      <td>0</td>\n",
       "      <td>0</td>\n",
       "      <td>0</td>\n",
       "      <td>0</td>\n",
       "      <td>0</td>\n",
       "      <td>0</td>\n",
       "      <td>2018-02-24 11:00:00</td>\n",
       "      <td>2018-02-24 19:00:00+00:00</td>\n",
       "    </tr>\n",
       "    <tr>\n",
       "      <td>4</td>\n",
       "      <td>1519502400</td>\n",
       "      <td>0</td>\n",
       "      <td>0</td>\n",
       "      <td>0</td>\n",
       "      <td>0</td>\n",
       "      <td>0</td>\n",
       "      <td>0</td>\n",
       "      <td>0</td>\n",
       "      <td>0</td>\n",
       "      <td>0</td>\n",
       "      <td>...</td>\n",
       "      <td>0</td>\n",
       "      <td>0</td>\n",
       "      <td>0</td>\n",
       "      <td>0</td>\n",
       "      <td>0</td>\n",
       "      <td>0</td>\n",
       "      <td>0</td>\n",
       "      <td>0</td>\n",
       "      <td>2018-02-24 12:00:00</td>\n",
       "      <td>2018-02-24 20:00:00+00:00</td>\n",
       "    </tr>\n",
       "  </tbody>\n",
       "</table>\n",
       "<p>5 rows × 36 columns</p>\n",
       "</div>"
      ],
      "text/plain": [
       "         time  comments  posts  followers  points  overview_page_views  \\\n",
       "0  1519488000         0      0          0       0                    0   \n",
       "1  1519491600         0      0          0       0                    0   \n",
       "2  1519495200         0      0          0       0                    0   \n",
       "3  1519498800         0      0          0       0                    0   \n",
       "4  1519502400         0      0          0       0                    0   \n",
       "\n",
       "   analysis_page_views  markets_page_views  charts_page_views  \\\n",
       "0                    0                   0                  0   \n",
       "1                    0                   0                  0   \n",
       "2                    0                   0                  0   \n",
       "3                    0                   0                  0   \n",
       "4                    0                   0                  0   \n",
       "\n",
       "   trades_page_views  ...  code_repo_stars  code_repo_forks  \\\n",
       "0                  0  ...                0                0   \n",
       "1                  0  ...                0                0   \n",
       "2                  0  ...                0                0   \n",
       "3                  0  ...                0                0   \n",
       "4                  0  ...                0                0   \n",
       "\n",
       "   code_repo_subscribers  code_repo_open_pull_issues  \\\n",
       "0                      0                           0   \n",
       "1                      0                           0   \n",
       "2                      0                           0   \n",
       "3                      0                           0   \n",
       "4                      0                           0   \n",
       "\n",
       "   code_repo_closed_pull_issues  code_repo_open_issues  \\\n",
       "0                             0                      0   \n",
       "1                             0                      0   \n",
       "2                             0                      0   \n",
       "3                             0                      0   \n",
       "4                             0                      0   \n",
       "\n",
       "   code_repo_closed_issues  code_repo_contributors                date  \\\n",
       "0                        0                       0 2018-02-24 08:00:00   \n",
       "1                        0                       0 2018-02-24 09:00:00   \n",
       "2                        0                       0 2018-02-24 10:00:00   \n",
       "3                        0                       0 2018-02-24 11:00:00   \n",
       "4                        0                       0 2018-02-24 12:00:00   \n",
       "\n",
       "                   date_utc  \n",
       "0 2018-02-24 16:00:00+00:00  \n",
       "1 2018-02-24 17:00:00+00:00  \n",
       "2 2018-02-24 18:00:00+00:00  \n",
       "3 2018-02-24 19:00:00+00:00  \n",
       "4 2018-02-24 20:00:00+00:00  \n",
       "\n",
       "[5 rows x 36 columns]"
      ]
     },
     "execution_count": 70,
     "metadata": {},
     "output_type": "execute_result"
    }
   ],
   "source": [
    "kmd.head()"
   ]
  },
  {
   "cell_type": "code",
   "execution_count": 72,
   "metadata": {},
   "outputs": [
    {
     "data": {
      "text/plain": [
       "36"
      ]
     },
     "execution_count": 72,
     "metadata": {},
     "output_type": "execute_result"
    }
   ],
   "source": [
    "len(np.unique(kmd.columns))"
   ]
  },
  {
   "cell_type": "code",
   "execution_count": null,
   "metadata": {},
   "outputs": [],
   "source": []
  }
 ],
 "metadata": {
  "kernelspec": {
   "display_name": "Python 3",
   "language": "python",
   "name": "python3"
  },
  "language_info": {
   "codemirror_mode": {
    "name": "ipython",
    "version": 3
   },
   "file_extension": ".py",
   "mimetype": "text/x-python",
   "name": "python",
   "nbconvert_exporter": "python",
   "pygments_lexer": "ipython3",
   "version": "3.7.4"
  },
  "varInspector": {
   "cols": {
    "lenName": 16,
    "lenType": 16,
    "lenVar": 40
   },
   "kernels_config": {
    "python": {
     "delete_cmd_postfix": "",
     "delete_cmd_prefix": "del ",
     "library": "var_list.py",
     "varRefreshCmd": "print(var_dic_list())"
    },
    "r": {
     "delete_cmd_postfix": ") ",
     "delete_cmd_prefix": "rm(",
     "library": "var_list.r",
     "varRefreshCmd": "cat(var_dic_list()) "
    }
   },
   "types_to_exclude": [
    "module",
    "function",
    "builtin_function_or_method",
    "instance",
    "_Feature"
   ],
   "window_display": false
  }
 },
 "nbformat": 4,
 "nbformat_minor": 2
}
