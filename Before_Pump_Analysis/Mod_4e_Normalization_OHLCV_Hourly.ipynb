{
 "cells": [
  {
   "cell_type": "markdown",
   "metadata": {},
   "source": [
    "Since our data is time series, we must:\n",
    "    1. Perform 31-day sliding window min-max scaling\n",
    "    2. Create a 0-1 binary predictor variables on whether the coin was pumped\n",
    "For __OHLCV__ Data"
   ]
  },
  {
   "cell_type": "code",
   "execution_count": 1,
   "metadata": {},
   "outputs": [],
   "source": [
    "import os, sys\n",
    "import pandas as pd \n",
    "import numpy as np\n",
    "import requests \n",
    "from datetime import datetime, date, time, timedelta\n",
    "import pytz\n",
    "import matplotlib.pyplot as plt\n",
    "import matplotlib.dates as mdate\n",
    "from mpl_finance import candlestick_ohlc\n",
    "import plotly.graph_objects as go\n",
    "import plotly.express as px\n",
    "import matplotlib.ticker as mticker\n",
    "import pickle\n",
    "pd.set_option('display.max_columns', 200)\n",
    "%load_ext autoreload\n",
    "%matplotlib inline"
   ]
  },
  {
   "cell_type": "code",
   "execution_count": 2,
   "metadata": {},
   "outputs": [],
   "source": [
    "from sklearn.preprocessing import MinMaxScaler, StandardScaler"
   ]
  },
  {
   "cell_type": "code",
   "execution_count": 3,
   "metadata": {},
   "outputs": [
    {
     "name": "stdout",
     "output_type": "stream",
     "text": [
      "/Users/hn/Documents/USC Others/ISI Research/PumpCoin/CrytoCompare/All_Pump_Analysis/Before_Announcement_Analysis\n"
     ]
    }
   ],
   "source": [
    "print(os.getcwd())"
   ]
  },
  {
   "cell_type": "markdown",
   "metadata": {},
   "source": [
    "# PART 1: SLIDING WINDOW NORMALIZATION"
   ]
  },
  {
   "cell_type": "markdown",
   "metadata": {},
   "source": [
    "### GENERAL PROCEDURE FOR WINDOW NORMALIZATION\n",
    "1. Iterate through row\n",
    "2. For each of the group of variables (x_d0 to x_d31), apply the function\n",
    "3. This returns an aray, keep appending them until we have the entire array\n",
    "4. Append the un-scaled features, and now have a complete row\n",
    "5. Keep stackign them to a blank array"
   ]
  },
  {
   "cell_type": "markdown",
   "metadata": {},
   "source": [
    "## MIN-MAX NORMALIZATION"
   ]
  },
  {
   "cell_type": "code",
   "execution_count": 4,
   "metadata": {},
   "outputs": [],
   "source": [
    "def minmax(x, varlist):\n",
    "    x_t = x.T\n",
    "    scaler = MinMaxScaler()\n",
    "    scaler.fit(x_t)\n",
    "    r = scaler.transform(x_t)\n",
    "    return pd.DataFrame(r.T, columns=varlist)"
   ]
  },
  {
   "cell_type": "code",
   "execution_count": 5,
   "metadata": {},
   "outputs": [
    {
     "data": {
      "text/plain": [
       "245"
      ]
     },
     "execution_count": 5,
     "metadata": {},
     "output_type": "execute_result"
    }
   ],
   "source": [
    "#create a list of features\n",
    "ohlcv_feat = pd.read_pickle(\"ohlcv_features_h.pkl\")\n",
    "len(ohlcv_feat)"
   ]
  },
  {
   "cell_type": "code",
   "execution_count": 6,
   "metadata": {},
   "outputs": [
    {
     "ename": "NameError",
     "evalue": "name 'd' is not defined",
     "output_type": "error",
     "traceback": [
      "\u001b[0;31m---------------------------------------------------------------------------\u001b[0m",
      "\u001b[0;31mNameError\u001b[0m                                 Traceback (most recent call last)",
      "\u001b[0;32m<ipython-input-6-1d6f5c86556d>\u001b[0m in \u001b[0;36m<module>\u001b[0;34m\u001b[0m\n\u001b[0;32m----> 1\u001b[0;31m \u001b[0morig_cols\u001b[0m \u001b[0;34m=\u001b[0m \u001b[0mlist\u001b[0m\u001b[0;34m(\u001b[0m\u001b[0md\u001b[0m\u001b[0;34m.\u001b[0m\u001b[0mcolumns\u001b[0m\u001b[0;34m)\u001b[0m\u001b[0;34m\u001b[0m\u001b[0;34m\u001b[0m\u001b[0m\n\u001b[0m\u001b[1;32m      2\u001b[0m \u001b[0md_scaled\u001b[0m \u001b[0;34m=\u001b[0m \u001b[0md\u001b[0m\u001b[0;34m[\u001b[0m\u001b[0mcd\u001b[0m\u001b[0;34m[\u001b[0m\u001b[0;34m'core'\u001b[0m\u001b[0;34m]\u001b[0m\u001b[0;34m]\u001b[0m\u001b[0;34m\u001b[0m\u001b[0;34m\u001b[0m\u001b[0m\n\u001b[1;32m      3\u001b[0m \u001b[0md_temp\u001b[0m \u001b[0;34m=\u001b[0m \u001b[0mnp\u001b[0m\u001b[0;34m.\u001b[0m\u001b[0mzeros\u001b[0m\u001b[0;34m(\u001b[0m\u001b[0mshape\u001b[0m\u001b[0;34m=\u001b[0m\u001b[0;34m(\u001b[0m\u001b[0;36m1\u001b[0m\u001b[0;34m,\u001b[0m\u001b[0md\u001b[0m\u001b[0;34m.\u001b[0m\u001b[0mshape\u001b[0m\u001b[0;34m[\u001b[0m\u001b[0;36m1\u001b[0m\u001b[0;34m]\u001b[0m\u001b[0;34m)\u001b[0m\u001b[0;34m)\u001b[0m\u001b[0;34m\u001b[0m\u001b[0;34m\u001b[0m\u001b[0m\n\u001b[1;32m      4\u001b[0m \u001b[0mprint\u001b[0m\u001b[0;34m(\u001b[0m\u001b[0;34m\"d_temp\"\u001b[0m\u001b[0;34m,\u001b[0m \u001b[0md_temp\u001b[0m\u001b[0;34m.\u001b[0m\u001b[0mshape\u001b[0m\u001b[0;34m)\u001b[0m\u001b[0;34m\u001b[0m\u001b[0;34m\u001b[0m\u001b[0m\n\u001b[1;32m      5\u001b[0m \u001b[0;34m\u001b[0m\u001b[0m\n",
      "\u001b[0;31mNameError\u001b[0m: name 'd' is not defined"
     ]
    }
   ],
   "source": [
    "orig_cols = list(d.columns)\n",
    "d_scaled = d[cd['core']]\n",
    "d_temp = np.zeros(shape=(1,d.shape[1]))\n",
    "print(\"d_temp\", d_temp.shape)\n",
    "\n",
    "for k,v in cd.items():\n",
    "    if k != 'core':\n",
    "        var = cd[k] \n",
    "        d_temp = minmax(d[var], var)\n",
    "        print(d_temp.shape, type(d_temp))\n",
    "        d_scaled = pd.concat((d_scaled,d_temp),axis=1)"
   ]
  },
  {
   "cell_type": "code",
   "execution_count": null,
   "metadata": {},
   "outputs": [],
   "source": [
    "#Verify that the scaled dataset has the same shape as the original\n",
    "d_scaled.shape"
   ]
  },
  {
   "cell_type": "code",
   "execution_count": null,
   "metadata": {},
   "outputs": [],
   "source": [
    "d_scaled['pumped_yn'] = 0\n",
    "d_scaled.loc[d_scaled.currency == d_scaled.coin_name, 'pumped_yn'] = 1"
   ]
  },
  {
   "cell_type": "markdown",
   "metadata": {},
   "source": [
    "###  PLOT THE VARIABLE GROUPS TO MAKE SURE THE SCALED ARE THE SAME\n",
    "Check that the plots are essential the same, just with range normalized between and 0 and 1"
   ]
  },
  {
   "cell_type": "code",
   "execution_count": null,
   "metadata": {},
   "outputs": [],
   "source": [
    "cnt = 0\n",
    "#Select a random show\n",
    "r = d_scaled[d_scaled.pumped_yn == 1].sample(1)\n",
    "# ix = np.random.randint(0,high=5e4,size=1,dtype=int)\n",
    "# s = d.loc[ix]\n",
    "# s2 = d_scaled.loc[ix]\n",
    "s = d.loc[r.index]\n",
    "s2 = r\n",
    "fig = plt.figure(figsize=(10,70))\n",
    "print(r.currency)\n",
    "\n",
    "for k,v in cd.items():\n",
    "    if k != 'core':\n",
    "        var = cd[k]\n",
    "        ax1 = fig.add_subplot(33,2,cnt*2+1)\n",
    "        ax1 = s.iloc[0][var].plot()\n",
    "        ax1.set_xticklabels([])\n",
    "        ax1.set_xlabel(k)\n",
    "        ax2 =fig.add_subplot(33,2,cnt*2+2)\n",
    "        ax2 = s2.iloc[0][var].plot()\n",
    "        ax2.set_xticklabels([])\n",
    "        ax2.set_xlabel(k)\n",
    "        cnt+=1\n",
    "r"
   ]
  },
  {
   "cell_type": "code",
   "execution_count": null,
   "metadata": {},
   "outputs": [],
   "source": [
    "d_scaled.head()"
   ]
  },
  {
   "cell_type": "code",
   "execution_count": null,
   "metadata": {},
   "outputs": [],
   "source": [
    "d_scaled.head(10)[['pumptime_edited','currency','exchange','coin_name','pumped_yn']]"
   ]
  },
  {
   "cell_type": "code",
   "execution_count": null,
   "metadata": {},
   "outputs": [],
   "source": [
    "d_scaled.sort_values(['exchange','coin_name','timestamp']).head(10)"
   ]
  },
  {
   "cell_type": "code",
   "execution_count": null,
   "metadata": {},
   "outputs": [],
   "source": [
    "# SAVE THE FILE\n",
    "d_scaled.to_pickle(\"ohlcv_data_slide_scaled_h.pkl\")"
   ]
  },
  {
   "cell_type": "code",
   "execution_count": null,
   "metadata": {},
   "outputs": [],
   "source": []
  }
 ],
 "metadata": {
  "kernelspec": {
   "display_name": "Python 3",
   "language": "python",
   "name": "python3"
  },
  "language_info": {
   "codemirror_mode": {
    "name": "ipython",
    "version": 3
   },
   "file_extension": ".py",
   "mimetype": "text/x-python",
   "name": "python",
   "nbconvert_exporter": "python",
   "pygments_lexer": "ipython3",
   "version": "3.7.4"
  }
 },
 "nbformat": 4,
 "nbformat_minor": 2
}
