{
 "cells": [
  {
   "cell_type": "markdown",
   "metadata": {},
   "source": [
    "* Author: HN\n",
    "* Project: ISI Pump and Dump Cryptocurremcy\n",
    "* Date: October 2020\n",
    "* Phase: Prelim\n",
    "* Desc: This module focuses exclusively on the social signals, which is the comprehensive list we downloaded from __CRYPTOCOMPARE__."
   ]
  },
  {
   "cell_type": "markdown",
   "metadata": {},
   "source": [
    "__NOTE__ : This analysis introduces another perspective of analysis from just the social media stats. We ran similar random forest models to hopefully reveal any significant contribution to the prediction of pumps. Must make sure to keep track of the categories to tease out interaction later."
   ]
  },
  {
   "cell_type": "code",
   "execution_count": 1,
   "metadata": {},
   "outputs": [],
   "source": [
    "import os, sys\n",
    "import pandas as pd \n",
    "import numpy as np\n",
    "import requests \n",
    "from datetime import datetime, date, time, timedelta\n",
    "import pytz\n",
    "import matplotlib.pyplot as plt\n",
    "import matplotlib.dates as mdate\n",
    "from mpl_finance import candlestick_ohlc\n",
    "import plotly.graph_objects as go\n",
    "import plotly.express as px\n",
    "import seaborn as sns\n",
    "import matplotlib.ticker as mticker\n",
    "%load_ext autoreload\n",
    "%matplotlib inline"
   ]
  },
  {
   "cell_type": "code",
   "execution_count": 2,
   "metadata": {},
   "outputs": [
    {
     "data": {
      "text/html": [
       "<div>\n",
       "<style scoped>\n",
       "    .dataframe tbody tr th:only-of-type {\n",
       "        vertical-align: middle;\n",
       "    }\n",
       "\n",
       "    .dataframe tbody tr th {\n",
       "        vertical-align: top;\n",
       "    }\n",
       "\n",
       "    .dataframe thead th {\n",
       "        text-align: right;\n",
       "    }\n",
       "</style>\n",
       "<table border=\"1\" class=\"dataframe\">\n",
       "  <thead>\n",
       "    <tr style=\"text-align: right;\">\n",
       "      <th></th>\n",
       "      <th>channelLink</th>\n",
       "      <th>channelTitle</th>\n",
       "      <th>currency</th>\n",
       "      <th>duration</th>\n",
       "      <th>exchange</th>\n",
       "      <th>priceBeforePump</th>\n",
       "      <th>signalTime</th>\n",
       "      <th>pumptime_edited</th>\n",
       "      <th>timestamp</th>\n",
       "      <th>pump_weekday</th>\n",
       "      <th>...</th>\n",
       "      <th>twitter_favourites_7</th>\n",
       "      <th>twitter_followers_7</th>\n",
       "      <th>twitter_following_7</th>\n",
       "      <th>twitter_lists_7</th>\n",
       "      <th>twitter_statuses_7</th>\n",
       "      <th>date_7</th>\n",
       "      <th>date_utc_7</th>\n",
       "      <th>pump_increase</th>\n",
       "      <th>pump_increase_percent</th>\n",
       "      <th>pump_increase_cat</th>\n",
       "    </tr>\n",
       "  </thead>\n",
       "  <tbody>\n",
       "    <tr>\n",
       "      <th>0</th>\n",
       "      <td>https://t.me/crypto_pump_island</td>\n",
       "      <td>Crypto Pump Island</td>\n",
       "      <td>ADX</td>\n",
       "      <td>00:00</td>\n",
       "      <td>Binance</td>\n",
       "      <td>0.000011</td>\n",
       "      <td>2019-07-26T17:59:59Z</td>\n",
       "      <td>2019-07-26 17:59:59+00:00</td>\n",
       "      <td>1564163999</td>\n",
       "      <td>4</td>\n",
       "      <td>...</td>\n",
       "      <td>1473</td>\n",
       "      <td>5.406400e+12</td>\n",
       "      <td>2.540000e+10</td>\n",
       "      <td>797</td>\n",
       "      <td>691</td>\n",
       "      <td>2019-07-26 04:00:00</td>\n",
       "      <td>2019-07-26 11:00:00+00:00</td>\n",
       "      <td>80.0</td>\n",
       "      <td>7.0</td>\n",
       "      <td>1</td>\n",
       "    </tr>\n",
       "    <tr>\n",
       "      <th>1</th>\n",
       "      <td>https://t.me/SignalsKingdom</td>\n",
       "      <td>Signal Kingdom</td>\n",
       "      <td>ADX</td>\n",
       "      <td>00:53</td>\n",
       "      <td>Binance</td>\n",
       "      <td>0.000012</td>\n",
       "      <td>2019-07-05T17:00:32</td>\n",
       "      <td>2019-07-05 17:00:32+00:00</td>\n",
       "      <td>1562346032</td>\n",
       "      <td>4</td>\n",
       "      <td>...</td>\n",
       "      <td>1470</td>\n",
       "      <td>5.416800e+12</td>\n",
       "      <td>2.540000e+10</td>\n",
       "      <td>795</td>\n",
       "      <td>686</td>\n",
       "      <td>2019-07-05 03:00:00</td>\n",
       "      <td>2019-07-05 10:00:00+00:00</td>\n",
       "      <td>255.0</td>\n",
       "      <td>21.0</td>\n",
       "      <td>2</td>\n",
       "    </tr>\n",
       "    <tr>\n",
       "      <th>2</th>\n",
       "      <td>https://t.me/MaximumPump</td>\n",
       "      <td>Maximum Pump</td>\n",
       "      <td>ADX</td>\n",
       "      <td>00:02</td>\n",
       "      <td>Binance</td>\n",
       "      <td>0.000029</td>\n",
       "      <td>2019-04-25T19:15:21</td>\n",
       "      <td>2019-04-25 19:15:21+00:00</td>\n",
       "      <td>1556219721</td>\n",
       "      <td>3</td>\n",
       "      <td>...</td>\n",
       "      <td>1456</td>\n",
       "      <td>5.478200e+12</td>\n",
       "      <td>2.530000e+10</td>\n",
       "      <td>792</td>\n",
       "      <td>660</td>\n",
       "      <td>2019-04-25 05:00:00</td>\n",
       "      <td>2019-04-25 12:00:00+00:00</td>\n",
       "      <td>120.0</td>\n",
       "      <td>4.0</td>\n",
       "      <td>0</td>\n",
       "    </tr>\n",
       "  </tbody>\n",
       "</table>\n",
       "<p>3 rows × 386 columns</p>\n",
       "</div>"
      ],
      "text/plain": [
       "                       channelLink        channelTitle currency duration  \\\n",
       "0  https://t.me/crypto_pump_island  Crypto Pump Island      ADX    00:00   \n",
       "1      https://t.me/SignalsKingdom      Signal Kingdom      ADX    00:53   \n",
       "2         https://t.me/MaximumPump        Maximum Pump      ADX    00:02   \n",
       "\n",
       "  exchange  priceBeforePump            signalTime           pumptime_edited  \\\n",
       "0  Binance         0.000011  2019-07-26T17:59:59Z 2019-07-26 17:59:59+00:00   \n",
       "1  Binance         0.000012   2019-07-05T17:00:32 2019-07-05 17:00:32+00:00   \n",
       "2  Binance         0.000029   2019-04-25T19:15:21 2019-04-25 19:15:21+00:00   \n",
       "\n",
       "    timestamp  pump_weekday  ...  twitter_favourites_7  twitter_followers_7  \\\n",
       "0  1564163999             4  ...                  1473         5.406400e+12   \n",
       "1  1562346032             4  ...                  1470         5.416800e+12   \n",
       "2  1556219721             3  ...                  1456         5.478200e+12   \n",
       "\n",
       "   twitter_following_7  twitter_lists_7  twitter_statuses_7  \\\n",
       "0         2.540000e+10              797                 691   \n",
       "1         2.540000e+10              795                 686   \n",
       "2         2.530000e+10              792                 660   \n",
       "\n",
       "               date_7                date_utc_7  pump_increase  \\\n",
       "0 2019-07-26 04:00:00 2019-07-26 11:00:00+00:00           80.0   \n",
       "1 2019-07-05 03:00:00 2019-07-05 10:00:00+00:00          255.0   \n",
       "2 2019-04-25 05:00:00 2019-04-25 12:00:00+00:00          120.0   \n",
       "\n",
       "   pump_increase_percent  pump_increase_cat  \n",
       "0                    7.0                  1  \n",
       "1                   21.0                  2  \n",
       "2                    4.0                  0  \n",
       "\n",
       "[3 rows x 386 columns]"
      ]
     },
     "execution_count": 2,
     "metadata": {},
     "output_type": "execute_result"
    }
   ],
   "source": [
    "p = pd.read_pickle('pump_data_with_y.pkl')\n",
    "p.head(3)"
   ]
  },
  {
   "cell_type": "code",
   "execution_count": 3,
   "metadata": {},
   "outputs": [],
   "source": [
    "from sklearn.model_selection import train_test_split\n",
    "from sklearn.model_selection import cross_val_score\n",
    "from sklearn.model_selection import GridSearchCV\n",
    "from sklearn.ensemble import RandomForestClassifier\n",
    "from sklearn.linear_model import LogisticRegressionCV\n",
    "from sklearn.metrics import accuracy_score\n",
    "from sklearn.svm import SVC\n",
    "from sklearn.preprocessing import StandardScaler\n",
    "from sklearn.preprocessing import MinMaxScaler"
   ]
  },
  {
   "cell_type": "markdown",
   "metadata": {},
   "source": [
    "## SOCIAL FEATURES"
   ]
  },
  {
   "cell_type": "code",
   "execution_count": 4,
   "metadata": {},
   "outputs": [],
   "source": [
    "all_social  = ['analysis_page_views', 'charts_page_views', 'code_repo_closed_issues',\n",
    "       'code_repo_closed_pull_issues', 'code_repo_forks',\n",
    "       'code_repo_open_issues', 'code_repo_open_pull_issues',\n",
    "       'code_repo_stars', 'code_repo_subscribers', 'comments', 'fb_likes',\n",
    "       'fb_talking_about', 'followers', 'forum_page_views',\n",
    "       'influence_page_views', 'markets_page_views', 'overview_page_views',\n",
    "       'points', 'posts', 'reddit_active_users', 'reddit_comments_per_day',\n",
    "       'reddit_comments_per_hour', 'reddit_posts_per_day',\n",
    "       'reddit_posts_per_hour', 'reddit_subscribers', 'time',\n",
    "       'total_page_views', 'trades_page_views', 'twitter_favourites',\n",
    "       'twitter_followers', 'twitter_following', 'twitter_lists',\n",
    "       'twitter_statuses', 'date', 'date_utc']"
   ]
  },
  {
   "cell_type": "code",
   "execution_count": 5,
   "metadata": {},
   "outputs": [],
   "source": [
    "chart_features = ['analysis_page_views_0', 'charts_page_views_0',\n",
    "                'markets_page_views_0', 'overview_page_views_0',\n",
    "                'total_page_views_0', 'trades_page_views_0',\n",
    "                'analysis_page_views_1', 'charts_page_views_1',\n",
    "                'markets_page_views_1', 'overview_page_views_1',\n",
    "                'total_page_views_1', 'trades_page_views_1',\n",
    "                'analysis_page_views_2', 'charts_page_views_2',\n",
    "                'markets_page_views_2', 'overview_page_views_2',\n",
    "                'total_page_views_2', 'trades_page_views_2',\n",
    "                'analysis_page_views_3', 'charts_page_views_3',\n",
    "                'markets_page_views_3', 'overview_page_views_3',\n",
    "                'total_page_views_3', 'trades_page_views_3',\n",
    "                'analysis_page_views_4', 'charts_page_views_4',\n",
    "                'markets_page_views_4', 'overview_page_views_4',\n",
    "                'total_page_views_4', 'trades_page_views_4',\n",
    "                'analysis_page_views_5', 'charts_page_views_5',\n",
    "                'markets_page_views_5', 'overview_page_views_5',\n",
    "                'total_page_views_5', 'trades_page_views_5',\n",
    "                'analysis_page_views_6', 'charts_page_views_6',\n",
    "                'markets_page_views_6', 'overview_page_views_6',\n",
    "                'total_page_views_6', 'trades_page_views_6']"
   ]
  },
  {
   "cell_type": "code",
   "execution_count": 18,
   "metadata": {},
   "outputs": [],
   "source": [
    "code_repo =  p.filter(regex='code_repo').columns.values.tolist()"
   ]
  },
  {
   "cell_type": "code",
   "execution_count": 19,
   "metadata": {},
   "outputs": [],
   "source": [
    "reddit_features = p.filter(regex='reddit_').columns.values.tolist()"
   ]
  },
  {
   "cell_type": "code",
   "execution_count": 20,
   "metadata": {},
   "outputs": [],
   "source": [
    "twitter_features = p.filter(regex='twitter_').columns.values.tolist()"
   ]
  },
  {
   "cell_type": "code",
   "execution_count": 21,
   "metadata": {},
   "outputs": [],
   "source": [
    "facebook_features = p.filter(regex='fb_').columns.values.tolist()"
   ]
  },
  {
   "cell_type": "code",
   "execution_count": 22,
   "metadata": {},
   "outputs": [
    {
     "data": {
      "text/plain": [
       "array(['points_0', 'points_1', 'points_2', 'points_3', 'points_4',\n",
       "       'points_5', 'points_6', 'points_7'], dtype=object)"
      ]
     },
     "execution_count": 22,
     "metadata": {},
     "output_type": "execute_result"
    }
   ],
   "source": [
    "p.filter(regex='points_').columns.values"
   ]
  },
  {
   "cell_type": "code",
   "execution_count": 23,
   "metadata": {},
   "outputs": [],
   "source": [
    "post_features = ['posts_0', 'posts_1', 'posts_2', 'posts_3', 'posts_4', 'posts_5', 'posts_6', 'posts_7']"
   ]
  },
  {
   "cell_type": "code",
   "execution_count": 24,
   "metadata": {},
   "outputs": [],
   "source": [
    "point_features  = ['points_0', 'points_1', 'points_2', 'points_3', 'points_4', 'points_5', 'points_6', 'points_7']"
   ]
  },
  {
   "cell_type": "code",
   "execution_count": 58,
   "metadata": {},
   "outputs": [],
   "source": [
    "social_features = code_repo + chart_features + reddit_features + twitter_features + facebook_features + post_features + point_features"
   ]
  },
  {
   "cell_type": "markdown",
   "metadata": {},
   "source": [
    "# Split Train and Set"
   ]
  },
  {
   "cell_type": "code",
   "execution_count": 59,
   "metadata": {},
   "outputs": [],
   "source": [
    "X = p[social_features].values\n",
    "y = p['pump_increase_cat'].values"
   ]
  },
  {
   "cell_type": "code",
   "execution_count": 60,
   "metadata": {},
   "outputs": [],
   "source": [
    "x_train, x_test, y_train, y_test = train_test_split(X,y,test_size=0.2)"
   ]
  },
  {
   "cell_type": "markdown",
   "metadata": {},
   "source": [
    "### Scale Min-Max Scaler"
   ]
  },
  {
   "cell_type": "code",
   "execution_count": 61,
   "metadata": {},
   "outputs": [],
   "source": [
    "mima = MinMaxScaler()"
   ]
  },
  {
   "cell_type": "code",
   "execution_count": 62,
   "metadata": {},
   "outputs": [],
   "source": [
    "x_train_mima = mima.fit_transform(x_train)\n",
    "x_test_mima = mima.transform(x_test)"
   ]
  },
  {
   "cell_type": "markdown",
   "metadata": {},
   "source": [
    "## Random Forest Model"
   ]
  },
  {
   "cell_type": "code",
   "execution_count": 63,
   "metadata": {},
   "outputs": [],
   "source": [
    "rfc = RandomForestClassifier(random_state=10)"
   ]
  },
  {
   "cell_type": "code",
   "execution_count": 64,
   "metadata": {},
   "outputs": [],
   "source": [
    "param_grid = {'n_estimators': [200,500,750]\n",
    "             ,'max_features': ['auto','sqrt','log2']\n",
    "             ,'max_depth': [5,10,15]\n",
    "             ,'criterion': ['gini','entropy']}"
   ]
  },
  {
   "cell_type": "code",
   "execution_count": 65,
   "metadata": {},
   "outputs": [
    {
     "name": "stderr",
     "output_type": "stream",
     "text": [
      "/Users/AdrianTran/anaconda3/lib/python3.7/site-packages/sklearn/model_selection/_search.py:841: DeprecationWarning:\n",
      "\n",
      "The default of the `iid` parameter will change from True to False in version 0.22 and will be removed in 0.24. This will change numeric results when test-set sizes are unequal.\n",
      "\n"
     ]
    },
    {
     "data": {
      "text/plain": [
       "GridSearchCV(cv=10, error_score='raise-deprecating',\n",
       "       estimator=RandomForestClassifier(bootstrap=True, class_weight=None, criterion='gini',\n",
       "            max_depth=None, max_features='auto', max_leaf_nodes=None,\n",
       "            min_impurity_decrease=0.0, min_impurity_split=None,\n",
       "            min_samples_leaf=1, min_samples_split=2,\n",
       "            min_weight_fraction_leaf=0.0, n_estimators='warn', n_jobs=None,\n",
       "            oob_score=False, random_state=10, verbose=0, warm_start=False),\n",
       "       fit_params=None, iid='warn', n_jobs=None,\n",
       "       param_grid={'n_estimators': [200, 500, 750], 'max_features': ['auto', 'sqrt', 'log2'], 'max_depth': [5, 10, 15], 'criterion': ['gini', 'entropy']},\n",
       "       pre_dispatch='2*n_jobs', refit=True, return_train_score='warn',\n",
       "       scoring=None, verbose=0)"
      ]
     },
     "execution_count": 65,
     "metadata": {},
     "output_type": "execute_result"
    }
   ],
   "source": [
    "CV_rfc = GridSearchCV(estimator=rfc, param_grid=param_grid, cv=10)\n",
    "CV_rfc.fit(x_train_mima,y_train)"
   ]
  },
  {
   "cell_type": "code",
   "execution_count": 66,
   "metadata": {},
   "outputs": [
    {
     "data": {
      "text/plain": [
       "{'criterion': 'gini',\n",
       " 'max_depth': 5,\n",
       " 'max_features': 'auto',\n",
       " 'n_estimators': 500}"
      ]
     },
     "execution_count": 66,
     "metadata": {},
     "output_type": "execute_result"
    }
   ],
   "source": [
    "CV_rfc.best_params_"
   ]
  },
  {
   "cell_type": "code",
   "execution_count": 113,
   "metadata": {},
   "outputs": [],
   "source": [
    "rfc = RandomForestClassifier(random_state=10)"
   ]
  },
  {
   "cell_type": "code",
   "execution_count": 67,
   "metadata": {},
   "outputs": [],
   "source": [
    "rfc_best = RandomForestClassifier(criterion='gini',max_depth= 5, max_features='auto',n_estimators=500)"
   ]
  },
  {
   "cell_type": "code",
   "execution_count": 68,
   "metadata": {},
   "outputs": [
    {
     "data": {
      "text/plain": [
       "RandomForestClassifier(bootstrap=True, class_weight=None, criterion='gini',\n",
       "            max_depth=5, max_features='auto', max_leaf_nodes=None,\n",
       "            min_impurity_decrease=0.0, min_impurity_split=None,\n",
       "            min_samples_leaf=1, min_samples_split=2,\n",
       "            min_weight_fraction_leaf=0.0, n_estimators=500, n_jobs=None,\n",
       "            oob_score=False, random_state=None, verbose=0,\n",
       "            warm_start=False)"
      ]
     },
     "execution_count": 68,
     "metadata": {},
     "output_type": "execute_result"
    }
   ],
   "source": [
    "rfc_best.fit(x_train_mima,y_train)"
   ]
  },
  {
   "cell_type": "code",
   "execution_count": 69,
   "metadata": {},
   "outputs": [],
   "source": [
    "rfc_pred = rfc_best.predict(x_test_mima)"
   ]
  },
  {
   "cell_type": "code",
   "execution_count": 70,
   "metadata": {},
   "outputs": [
    {
     "data": {
      "text/plain": [
       "0.4186046511627907"
      ]
     },
     "execution_count": 70,
     "metadata": {},
     "output_type": "execute_result"
    }
   ],
   "source": [
    "accuracy_score(y_test, rfc_pred)"
   ]
  },
  {
   "cell_type": "markdown",
   "metadata": {},
   "source": [
    "## Assessing Variable Importance"
   ]
  },
  {
   "cell_type": "code",
   "execution_count": 71,
   "metadata": {},
   "outputs": [],
   "source": [
    "rf_features = pd.DataFrame(rfc_best.feature_importances_.reshape(1,-1), columns=social_features).T\n",
    "rf_features['features'] = rf_features.index\n",
    "rf_features = rf_features.reset_index(drop=True)\n",
    "rf_features.columns = ['importance','features']\n"
   ]
  },
  {
   "cell_type": "code",
   "execution_count": 72,
   "metadata": {},
   "outputs": [
    {
     "data": {
      "text/html": [
       "<div>\n",
       "<style scoped>\n",
       "    .dataframe tbody tr th:only-of-type {\n",
       "        vertical-align: middle;\n",
       "    }\n",
       "\n",
       "    .dataframe tbody tr th {\n",
       "        vertical-align: top;\n",
       "    }\n",
       "\n",
       "    .dataframe thead th {\n",
       "        text-align: right;\n",
       "    }\n",
       "</style>\n",
       "<table border=\"1\" class=\"dataframe\">\n",
       "  <thead>\n",
       "    <tr style=\"text-align: right;\">\n",
       "      <th></th>\n",
       "      <th>importance</th>\n",
       "      <th>features</th>\n",
       "      <th>rank</th>\n",
       "    </tr>\n",
       "  </thead>\n",
       "  <tbody>\n",
       "    <tr>\n",
       "      <th>164</th>\n",
       "      <td>0.014617</td>\n",
       "      <td>twitter_lists_3</td>\n",
       "      <td>1</td>\n",
       "    </tr>\n",
       "    <tr>\n",
       "      <th>149</th>\n",
       "      <td>0.014213</td>\n",
       "      <td>twitter_lists_0</td>\n",
       "      <td>2</td>\n",
       "    </tr>\n",
       "    <tr>\n",
       "      <th>182</th>\n",
       "      <td>0.013629</td>\n",
       "      <td>twitter_followers_7</td>\n",
       "      <td>3</td>\n",
       "    </tr>\n",
       "    <tr>\n",
       "      <th>152</th>\n",
       "      <td>0.013120</td>\n",
       "      <td>twitter_followers_1</td>\n",
       "      <td>4</td>\n",
       "    </tr>\n",
       "    <tr>\n",
       "      <th>174</th>\n",
       "      <td>0.011890</td>\n",
       "      <td>twitter_lists_5</td>\n",
       "      <td>5</td>\n",
       "    </tr>\n",
       "  </tbody>\n",
       "</table>\n",
       "</div>"
      ],
      "text/plain": [
       "     importance             features  rank\n",
       "164    0.014617      twitter_lists_3     1\n",
       "149    0.014213      twitter_lists_0     2\n",
       "182    0.013629  twitter_followers_7     3\n",
       "152    0.013120  twitter_followers_1     4\n",
       "174    0.011890      twitter_lists_5     5"
      ]
     },
     "execution_count": 72,
     "metadata": {},
     "output_type": "execute_result"
    }
   ],
   "source": [
    "rf_features.sort_values('importance', inplace=True,ascending=False)\n",
    "rf_features['rank'] = range(1,rf_features.shape[0]+1)\n",
    "rf_features.to_pickle('rf_feature_importance.pkl')\n",
    "rf_features.head()"
   ]
  },
  {
   "cell_type": "code",
   "execution_count": 73,
   "metadata": {},
   "outputs": [
    {
     "data": {
      "text/plain": [
       "Text(0.5, 0, 'Random Forest Feature Importance')"
      ]
     },
     "execution_count": 73,
     "metadata": {},
     "output_type": "execute_result"
    },
    {
     "data": {
      "image/png": "[encoded data removed]",
      "text/plain": [
       "<Figure size 1440x360 with 1 Axes>"
      ]
     },
     "metadata": {
      "needs_background": "light"
     },
     "output_type": "display_data"
    }
   ],
   "source": [
    "fig = plt.figure(figsize=(20,5))\n",
    "plt.bar(height=rf_features.importance[:50], x=rf_features.features[:50])\n",
    "plt.xticks(rf_features.features[:50],  rotation='vertical')\n",
    "plt.xlabel('Random Forest Feature Importance')"
   ]
  },
  {
   "cell_type": "markdown",
   "metadata": {},
   "source": [
    "## Cross-Validation"
   ]
  },
  {
   "cell_type": "code",
   "execution_count": 74,
   "metadata": {},
   "outputs": [],
   "source": [
    "from sklearn.pipeline import Pipeline\n",
    "from sklearn.model_selection import KFold"
   ]
  },
  {
   "cell_type": "code",
   "execution_count": 75,
   "metadata": {},
   "outputs": [],
   "source": [
    "minmax_scaler = MinMaxScaler()\n",
    "#Reuse the best parameters determined above\n",
    "clf = RandomForestClassifier(criterion='entropy',max_depth= 10, max_features='auto',n_estimators=750)"
   ]
  },
  {
   "cell_type": "code",
   "execution_count": 76,
   "metadata": {},
   "outputs": [],
   "source": [
    "k = 10\n",
    "pipeline = Pipeline([('transformer',minmax_scaler),('estimator',clf)])\n",
    "cv = KFold(n_splits=k)"
   ]
  },
  {
   "cell_type": "code",
   "execution_count": 77,
   "metadata": {},
   "outputs": [],
   "source": [
    "cv_output = cross_val_score(pipeline,X,y,cv=cv)"
   ]
  },
  {
   "cell_type": "code",
   "execution_count": 78,
   "metadata": {},
   "outputs": [
    {
     "name": "stdout",
     "output_type": "stream",
     "text": [
      "Average Accuracy for Randrom Forest 10-Fold Validation 0.32696566998892573\n"
     ]
    }
   ],
   "source": [
    "print(\"Average Accuracy for Randrom Forest {}-Fold Validation {}\".format(k,np.average(cv_output)))"
   ]
  },
  {
   "cell_type": "markdown",
   "metadata": {},
   "source": [
    "# Multinomial Logistic Regressionm"
   ]
  },
  {
   "cell_type": "code",
   "execution_count": 79,
   "metadata": {},
   "outputs": [],
   "source": [
    "lr = LogisticRegressionCV(multi_class='multinomial', random_state=10,solver=\"newton-cg\",cv=5)"
   ]
  },
  {
   "cell_type": "code",
   "execution_count": 80,
   "metadata": {},
   "outputs": [],
   "source": [
    "lr_best = LogisticRegressionCV(multi_class='multinomial', random_state=10,solver=\"newton-cg\",cv=5)"
   ]
  },
  {
   "cell_type": "code",
   "execution_count": 81,
   "metadata": {},
   "outputs": [
    {
     "data": {
      "text/plain": [
       "LogisticRegressionCV(Cs=10, class_weight=None, cv=5, dual=False,\n",
       "           fit_intercept=True, intercept_scaling=1.0, max_iter=100,\n",
       "           multi_class='multinomial', n_jobs=None, penalty='l2',\n",
       "           random_state=10, refit=True, scoring=None, solver='newton-cg',\n",
       "           tol=0.0001, verbose=0)"
      ]
     },
     "execution_count": 81,
     "metadata": {},
     "output_type": "execute_result"
    }
   ],
   "source": [
    "lr_best.fit(x_train_mima, y_train)"
   ]
  },
  {
   "cell_type": "code",
   "execution_count": 82,
   "metadata": {},
   "outputs": [],
   "source": [
    "lr_best_pred = lr_best.predict(x_test_mima)"
   ]
  },
  {
   "cell_type": "code",
   "execution_count": 83,
   "metadata": {},
   "outputs": [
    {
     "data": {
      "text/plain": [
       "array([0, 0, 1, 0, 3, 0, 0, 3, 0, 0, 0, 0, 3, 0, 0, 0, 3, 1, 2, 0, 0, 1,\n",
       "       0, 0, 0, 0, 3, 0, 0, 0, 2, 0, 0, 3, 0, 1, 0, 0, 0, 0, 1, 0, 0, 1,\n",
       "       1, 0, 3, 3, 1, 0, 0, 0, 0, 0, 0, 1, 0, 0, 0, 0, 0, 1, 3, 0, 0, 0,\n",
       "       1, 3, 2, 0, 0, 3, 0, 0, 0, 0, 0, 1, 3, 0, 0, 0, 0, 0, 0, 3])"
      ]
     },
     "execution_count": 83,
     "metadata": {},
     "output_type": "execute_result"
    }
   ],
   "source": [
    "lr_best_pred"
   ]
  },
  {
   "cell_type": "code",
   "execution_count": 84,
   "metadata": {},
   "outputs": [
    {
     "data": {
      "text/plain": [
       "0.27906976744186046"
      ]
     },
     "execution_count": 84,
     "metadata": {},
     "output_type": "execute_result"
    }
   ],
   "source": [
    "accuracy_score(y_test, lr_best_pred)"
   ]
  },
  {
   "cell_type": "markdown",
   "metadata": {},
   "source": [
    "## Feature Importance"
   ]
  },
  {
   "cell_type": "code",
   "execution_count": 85,
   "metadata": {},
   "outputs": [
    {
     "data": {
      "text/plain": [
       "(218,)"
      ]
     },
     "execution_count": 85,
     "metadata": {},
     "output_type": "execute_result"
    }
   ],
   "source": [
    "lr_coefs = np.average(lr_best.coef_, axis=0)\n",
    "lr_coefs.shape"
   ]
  },
  {
   "cell_type": "code",
   "execution_count": 86,
   "metadata": {},
   "outputs": [],
   "source": [
    "lr_weights = pd.DataFrame(lr_coefs).T\n",
    "lr_weights.columns =  social_features\n",
    "lr_weights = lr_weights.T\n",
    "lr_weights['features'] =  lr_weights.index\n",
    "lr_weights = lr_weights.reset_index(drop=True)\n",
    "lr_weights.columns = ['coef','features']\n",
    "lr_weights['coef_abs'] = abs(lr_weights.coef)"
   ]
  },
  {
   "cell_type": "code",
   "execution_count": 87,
   "metadata": {},
   "outputs": [],
   "source": [
    "lr_weights.sort_values('coef_abs',ascending=False,inplace=True)"
   ]
  },
  {
   "cell_type": "code",
   "execution_count": 88,
   "metadata": {},
   "outputs": [
    {
     "data": {
      "text/plain": [
       "Text(0.5, 0, 'Multinomial Logistic Regression Feature Importance')"
      ]
     },
     "execution_count": 88,
     "metadata": {},
     "output_type": "execute_result"
    },
    {
     "data": {
      "image/png": "[encoded data removed]",
      "text/plain": [
       "<Figure size 1080x360 with 1 Axes>"
      ]
     },
     "metadata": {
      "needs_background": "light"
     },
     "output_type": "display_data"
    }
   ],
   "source": [
    "fig = plt.figure(figsize=(15,5))\n",
    "plt.bar(height=lr_weights.coef_abs[:50], x=lr_weights.features[:50])\n",
    "plt.xticks(lr_weights.features[:50],  rotation='vertical')\n",
    "plt.xlabel('Multinomial Logistic Regression Feature Importance')"
   ]
  },
  {
   "cell_type": "code",
   "execution_count": null,
   "metadata": {},
   "outputs": [],
   "source": []
  }
 ],
 "metadata": {
  "kernelspec": {
   "display_name": "Python 3",
   "language": "python",
   "name": "python3"
  },
  "language_info": {
   "codemirror_mode": {
    "name": "ipython",
    "version": 3
   },
   "file_extension": ".py",
   "mimetype": "text/x-python",
   "name": "python",
   "nbconvert_exporter": "python",
   "pygments_lexer": "ipython3",
   "version": "3.7.4"
  },
  "varInspector": {
   "cols": {
    "lenName": 16,
    "lenType": 16,
    "lenVar": 40
   },
   "kernels_config": {
    "python": {
     "delete_cmd_postfix": "",
     "delete_cmd_prefix": "del ",
     "library": "var_list.py",
     "varRefreshCmd": "print(var_dic_list())"
    },
    "r": {
     "delete_cmd_postfix": ") ",
     "delete_cmd_prefix": "rm(",
     "library": "var_list.r",
     "varRefreshCmd": "cat(var_dic_list()) "
    }
   },
   "types_to_exclude": [
    "module",
    "function",
    "builtin_function_or_method",
    "instance",
    "_Feature"
   ],
   "window_display": false
  }
 },
 "nbformat": 4,
 "nbformat_minor": 2
}
