{
 "cells": [
  {
   "cell_type": "markdown",
   "metadata": {},
   "source": [
    "In this module, we build 2 models and assess their perforance to see which signal is best"
   ]
  },
  {
   "cell_type": "code",
   "execution_count": 2,
   "metadata": {},
   "outputs": [],
   "source": [
    "import os, sys\n",
    "import pandas as pd \n",
    "import numpy as np\n",
    "import requests \n",
    "from datetime import datetime, date, time, timedelta\n",
    "import pytz\n",
    "import matplotlib.pyplot as plt\n",
    "import matplotlib.dates as mdate\n",
    "from mpl_finance import candlestick_ohlc\n",
    "import plotly.graph_objects as go\n",
    "import plotly.express as px\n",
    "import seaborn as sns\n",
    "import matplotlib.ticker as mticker\n",
    "%load_ext autoreload\n",
    "%matplotlib inline"
   ]
  },
  {
   "cell_type": "markdown",
   "metadata": {},
   "source": [
    "## Extract Y= Difference betwen High and Open at Pump Hour"
   ]
  },
  {
   "cell_type": "code",
   "execution_count": 3,
   "metadata": {},
   "outputs": [
    {
     "name": "stdout",
     "output_type": "stream",
     "text": [
      "['channelLink' 'channelTitle' 'currency' 'duration' 'exchange'\n",
      " 'priceBeforePump' 'signalTime' 'pumptime_edited' 'timestamp'\n",
      " 'pump_weekday' 'pump_date' 'pump_hour' 'pump_minute' 'pump_hour_0'\n",
      " 'open_0' 'high_0' 'low_0' 'close_0' 'volumeto_0' 'pump_hour_1' 'open_1'\n",
      " 'high_1' 'low_1' 'close_1' 'volumeto_1' 'pump_hour_2' 'open_2' 'high_2'\n",
      " 'low_2' 'close_2' 'volumeto_2' 'pump_hour_3' 'open_3' 'high_3' 'low_3'\n",
      " 'close_3' 'volumeto_3' 'pump_hour_4' 'open_4' 'high_4' 'low_4' 'close_4'\n",
      " 'volumeto_4' 'pump_hour_5' 'open_5' 'high_5' 'low_5' 'close_5'\n",
      " 'volumeto_5' 'pump_hour_6' 'open_6' 'high_6' 'low_6' 'close_6'\n",
      " 'volumeto_6' 'pump_day_1' 'open_day_1' 'high_day_1' 'low_day_1'\n",
      " 'close_day_1' 'volumeto_day_1' 'pump_day_2' 'open_day_2' 'high_day_2'\n",
      " 'low_day_2' 'close_day_2' 'volumeto_day_2' 'pump_day_3' 'open_day_3'\n",
      " 'high_day_3' 'low_day_3' 'close_day_3' 'volumeto_day_3' 'pump_day_4'\n",
      " 'open_day_4' 'high_day_4' 'low_day_4' 'close_day_4' 'volumeto_day_4'\n",
      " 'pump_day_5' 'open_day_5' 'high_day_5' 'low_day_5' 'close_day_5'\n",
      " 'volumeto_day_5' 'pump_day_6' 'open_day_6' 'high_day_6' 'low_day_6'\n",
      " 'close_day_6' 'volumeto_day_6' 'pump_day_7' 'open_day_7' 'high_day_7'\n",
      " 'low_day_7' 'close_day_7' 'volumeto_day_7' 'pump_hour_7' 'open_7'\n",
      " 'high_7' 'low_7' 'close_7' 'volumeto_7' 'analysis_page_views_0'\n",
      " 'charts_page_views_0' 'code_repo_closed_issues_0'\n",
      " 'code_repo_closed_pull_issues_0' 'code_repo_forks_0'\n",
      " 'code_repo_open_issues_0' 'code_repo_open_pull_issues_0'\n",
      " 'code_repo_stars_0' 'code_repo_subscribers_0' 'comments_0' 'fb_likes_0'\n",
      " 'fb_talking_about_0' 'followers_0' 'forum_page_views_0'\n",
      " 'influence_page_views_0' 'markets_page_views_0' 'overview_page_views_0'\n",
      " 'points_0' 'posts_0' 'reddit_active_users_0' 'reddit_comments_per_day_0'\n",
      " 'reddit_comments_per_hour_0' 'reddit_posts_per_day_0'\n",
      " 'reddit_posts_per_hour_0' 'reddit_subscribers_0' 'time_0'\n",
      " 'total_page_views_0' 'trades_page_views_0' 'twitter_favourites_0'\n",
      " 'twitter_followers_0' 'twitter_following_0' 'twitter_lists_0'\n",
      " 'twitter_statuses_0' 'date_0' 'date_utc_0' 'analysis_page_views_1'\n",
      " 'charts_page_views_1' 'code_repo_closed_issues_1'\n",
      " 'code_repo_closed_pull_issues_1' 'code_repo_forks_1'\n",
      " 'code_repo_open_issues_1' 'code_repo_open_pull_issues_1'\n",
      " 'code_repo_stars_1' 'code_repo_subscribers_1' 'comments_1' 'fb_likes_1'\n",
      " 'fb_talking_about_1' 'followers_1' 'forum_page_views_1'\n",
      " 'influence_page_views_1' 'markets_page_views_1' 'overview_page_views_1'\n",
      " 'points_1' 'posts_1' 'reddit_active_users_1' 'reddit_comments_per_day_1'\n",
      " 'reddit_comments_per_hour_1' 'reddit_posts_per_day_1'\n",
      " 'reddit_posts_per_hour_1' 'reddit_subscribers_1' 'time_1'\n",
      " 'total_page_views_1' 'trades_page_views_1' 'twitter_favourites_1'\n",
      " 'twitter_followers_1' 'twitter_following_1' 'twitter_lists_1'\n",
      " 'twitter_statuses_1' 'date_1' 'date_utc_1' 'analysis_page_views_2'\n",
      " 'charts_page_views_2' 'code_repo_closed_issues_2'\n",
      " 'code_repo_closed_pull_issues_2' 'code_repo_forks_2'\n",
      " 'code_repo_open_issues_2' 'code_repo_open_pull_issues_2'\n",
      " 'code_repo_stars_2' 'code_repo_subscribers_2' 'comments_2' 'fb_likes_2'\n",
      " 'fb_talking_about_2' 'followers_2' 'forum_page_views_2'\n",
      " 'influence_page_views_2' 'markets_page_views_2' 'overview_page_views_2'\n",
      " 'points_2' 'posts_2' 'reddit_active_users_2' 'reddit_comments_per_day_2'\n",
      " 'reddit_comments_per_hour_2' 'reddit_posts_per_day_2'\n",
      " 'reddit_posts_per_hour_2' 'reddit_subscribers_2' 'time_2'\n",
      " 'total_page_views_2' 'trades_page_views_2' 'twitter_favourites_2'\n",
      " 'twitter_followers_2' 'twitter_following_2' 'twitter_lists_2'\n",
      " 'twitter_statuses_2' 'date_2' 'date_utc_2' 'analysis_page_views_3'\n",
      " 'charts_page_views_3' 'code_repo_closed_issues_3'\n",
      " 'code_repo_closed_pull_issues_3' 'code_repo_forks_3'\n",
      " 'code_repo_open_issues_3' 'code_repo_open_pull_issues_3'\n",
      " 'code_repo_stars_3' 'code_repo_subscribers_3' 'comments_3' 'fb_likes_3'\n",
      " 'fb_talking_about_3' 'followers_3' 'forum_page_views_3'\n",
      " 'influence_page_views_3' 'markets_page_views_3' 'overview_page_views_3'\n",
      " 'points_3' 'posts_3' 'reddit_active_users_3' 'reddit_comments_per_day_3'\n",
      " 'reddit_comments_per_hour_3' 'reddit_posts_per_day_3'\n",
      " 'reddit_posts_per_hour_3' 'reddit_subscribers_3' 'time_3'\n",
      " 'total_page_views_3' 'trades_page_views_3' 'twitter_favourites_3'\n",
      " 'twitter_followers_3' 'twitter_following_3' 'twitter_lists_3'\n",
      " 'twitter_statuses_3' 'date_3' 'date_utc_3' 'analysis_page_views_4'\n",
      " 'charts_page_views_4' 'code_repo_closed_issues_4'\n",
      " 'code_repo_closed_pull_issues_4' 'code_repo_forks_4'\n",
      " 'code_repo_open_issues_4' 'code_repo_open_pull_issues_4'\n",
      " 'code_repo_stars_4' 'code_repo_subscribers_4' 'comments_4' 'fb_likes_4'\n",
      " 'fb_talking_about_4' 'followers_4' 'forum_page_views_4'\n",
      " 'influence_page_views_4' 'markets_page_views_4' 'overview_page_views_4'\n",
      " 'points_4' 'posts_4' 'reddit_active_users_4' 'reddit_comments_per_day_4'\n",
      " 'reddit_comments_per_hour_4' 'reddit_posts_per_day_4'\n",
      " 'reddit_posts_per_hour_4' 'reddit_subscribers_4' 'time_4'\n",
      " 'total_page_views_4' 'trades_page_views_4' 'twitter_favourites_4'\n",
      " 'twitter_followers_4' 'twitter_following_4' 'twitter_lists_4'\n",
      " 'twitter_statuses_4' 'date_4' 'date_utc_4' 'analysis_page_views_5'\n",
      " 'charts_page_views_5' 'code_repo_closed_issues_5'\n",
      " 'code_repo_closed_pull_issues_5' 'code_repo_forks_5'\n",
      " 'code_repo_open_issues_5' 'code_repo_open_pull_issues_5'\n",
      " 'code_repo_stars_5' 'code_repo_subscribers_5' 'comments_5' 'fb_likes_5'\n",
      " 'fb_talking_about_5' 'followers_5' 'forum_page_views_5'\n",
      " 'influence_page_views_5' 'markets_page_views_5' 'overview_page_views_5'\n",
      " 'points_5' 'posts_5' 'reddit_active_users_5' 'reddit_comments_per_day_5'\n",
      " 'reddit_comments_per_hour_5' 'reddit_posts_per_day_5'\n",
      " 'reddit_posts_per_hour_5' 'reddit_subscribers_5' 'time_5'\n",
      " 'total_page_views_5' 'trades_page_views_5' 'twitter_favourites_5'\n",
      " 'twitter_followers_5' 'twitter_following_5' 'twitter_lists_5'\n",
      " 'twitter_statuses_5' 'date_5' 'date_utc_5' 'analysis_page_views_6'\n",
      " 'charts_page_views_6' 'code_repo_closed_issues_6'\n",
      " 'code_repo_closed_pull_issues_6' 'code_repo_forks_6'\n",
      " 'code_repo_open_issues_6' 'code_repo_open_pull_issues_6'\n",
      " 'code_repo_stars_6' 'code_repo_subscribers_6' 'comments_6' 'fb_likes_6'\n",
      " 'fb_talking_about_6' 'followers_6' 'forum_page_views_6'\n",
      " 'influence_page_views_6' 'markets_page_views_6' 'overview_page_views_6'\n",
      " 'points_6' 'posts_6' 'reddit_active_users_6' 'reddit_comments_per_day_6'\n",
      " 'reddit_comments_per_hour_6' 'reddit_posts_per_day_6'\n",
      " 'reddit_posts_per_hour_6' 'reddit_subscribers_6' 'time_6'\n",
      " 'total_page_views_6' 'trades_page_views_6' 'twitter_favourites_6'\n",
      " 'twitter_followers_6' 'twitter_following_6' 'twitter_lists_6'\n",
      " 'twitter_statuses_6' 'date_6' 'date_utc_6' 'analysis_page_views_7'\n",
      " 'charts_page_views_7' 'code_repo_closed_issues_7'\n",
      " 'code_repo_closed_pull_issues_7' 'code_repo_forks_7'\n",
      " 'code_repo_open_issues_7' 'code_repo_open_pull_issues_7'\n",
      " 'code_repo_stars_7' 'code_repo_subscribers_7' 'comments_7' 'fb_likes_7'\n",
      " 'fb_talking_about_7' 'followers_7' 'forum_page_views_7'\n",
      " 'influence_page_views_7' 'markets_page_views_7' 'overview_page_views_7'\n",
      " 'points_7' 'posts_7' 'reddit_active_users_7' 'reddit_comments_per_day_7'\n",
      " 'reddit_comments_per_hour_7' 'reddit_posts_per_day_7'\n",
      " 'reddit_posts_per_hour_7' 'reddit_subscribers_7' 'time_7'\n",
      " 'total_page_views_7' 'trades_page_views_7' 'twitter_favourites_7'\n",
      " 'twitter_followers_7' 'twitter_following_7' 'twitter_lists_7'\n",
      " 'twitter_statuses_7' 'date_7' 'date_utc_7']\n"
     ]
    }
   ],
   "source": [
    "p = pd.read_pickle('../pump_data_with_social.pkl')\n",
    "print(p.columns.values)"
   ]
  },
  {
   "cell_type": "code",
   "execution_count": 8,
   "metadata": {},
   "outputs": [],
   "source": [
    "trade_vars = p.filter(regex='open|close|high|low|volumeto_').columns.values"
   ]
  },
  {
   "cell_type": "markdown",
   "metadata": {},
   "source": [
    "##  Convert to Satoshi\n",
    "...Since the values of coins in BTC is so small, we convert them into a Satoshi = 1E-8 a Bitcoin"
   ]
  },
  {
   "cell_type": "code",
   "execution_count": 9,
   "metadata": {},
   "outputs": [
    {
     "data": {
      "text/plain": [
       "2928.0"
      ]
     },
     "execution_count": 9,
     "metadata": {},
     "output_type": "execute_result"
    }
   ],
   "source": [
    "#Test conversion\n",
    "p.open_0[2]*1E8"
   ]
  },
  {
   "cell_type": "code",
   "execution_count": 10,
   "metadata": {},
   "outputs": [],
   "source": [
    "#Employ the concept of smooting: we add 1 if the value is too small!!!\n",
    "for var in trade_vars:\n",
    "    p[var] = p[var].apply(lambda x: x*1e8 if x >= 1e-10 else x*1e8 + 1)"
   ]
  },
  {
   "cell_type": "code",
   "execution_count": 11,
   "metadata": {},
   "outputs": [
    {
     "data": {
      "text/html": [
       "<div>\n",
       "<style scoped>\n",
       "    .dataframe tbody tr th:only-of-type {\n",
       "        vertical-align: middle;\n",
       "    }\n",
       "\n",
       "    .dataframe tbody tr th {\n",
       "        vertical-align: top;\n",
       "    }\n",
       "\n",
       "    .dataframe thead th {\n",
       "        text-align: right;\n",
       "    }\n",
       "</style>\n",
       "<table border=\"1\" class=\"dataframe\">\n",
       "  <thead>\n",
       "    <tr style=\"text-align: right;\">\n",
       "      <th></th>\n",
       "      <th>open_0</th>\n",
       "      <th>high_0</th>\n",
       "      <th>low_0</th>\n",
       "      <th>close_0</th>\n",
       "      <th>volumeto_0</th>\n",
       "      <th>open_1</th>\n",
       "      <th>high_1</th>\n",
       "      <th>low_1</th>\n",
       "      <th>close_1</th>\n",
       "      <th>volumeto_1</th>\n",
       "      <th>...</th>\n",
       "      <th>followers_6</th>\n",
       "      <th>twitter_followers_6</th>\n",
       "      <th>twitter_following_6</th>\n",
       "      <th>code_repo_closed_issues_7</th>\n",
       "      <th>code_repo_closed_pull_issues_7</th>\n",
       "      <th>code_repo_open_issues_7</th>\n",
       "      <th>code_repo_open_pull_issues_7</th>\n",
       "      <th>followers_7</th>\n",
       "      <th>twitter_followers_7</th>\n",
       "      <th>twitter_following_7</th>\n",
       "    </tr>\n",
       "  </thead>\n",
       "  <tbody>\n",
       "    <tr>\n",
       "      <th>0</th>\n",
       "      <td>1158.0</td>\n",
       "      <td>1158.0</td>\n",
       "      <td>1120.0</td>\n",
       "      <td>1132.0</td>\n",
       "      <td>6.195000e+08</td>\n",
       "      <td>1111.0</td>\n",
       "      <td>1191.0</td>\n",
       "      <td>1101.0</td>\n",
       "      <td>1158.0</td>\n",
       "      <td>241100000.0</td>\n",
       "      <td>...</td>\n",
       "      <td>7.460000e+10</td>\n",
       "      <td>5.406400e+12</td>\n",
       "      <td>2.540000e+10</td>\n",
       "      <td>1.0</td>\n",
       "      <td>1.0</td>\n",
       "      <td>100000000.0</td>\n",
       "      <td>1.0</td>\n",
       "      <td>7.460000e+10</td>\n",
       "      <td>5.406400e+12</td>\n",
       "      <td>2.540000e+10</td>\n",
       "    </tr>\n",
       "    <tr>\n",
       "      <th>1</th>\n",
       "      <td>1269.0</td>\n",
       "      <td>1478.0</td>\n",
       "      <td>1223.0</td>\n",
       "      <td>1257.0</td>\n",
       "      <td>1.028900e+10</td>\n",
       "      <td>1223.0</td>\n",
       "      <td>1280.0</td>\n",
       "      <td>1207.0</td>\n",
       "      <td>1269.0</td>\n",
       "      <td>793400000.0</td>\n",
       "      <td>...</td>\n",
       "      <td>7.430000e+10</td>\n",
       "      <td>5.416600e+12</td>\n",
       "      <td>2.540000e+10</td>\n",
       "      <td>1.0</td>\n",
       "      <td>1.0</td>\n",
       "      <td>100000000.0</td>\n",
       "      <td>1.0</td>\n",
       "      <td>7.430000e+10</td>\n",
       "      <td>5.416800e+12</td>\n",
       "      <td>2.540000e+10</td>\n",
       "    </tr>\n",
       "    <tr>\n",
       "      <th>2</th>\n",
       "      <td>2928.0</td>\n",
       "      <td>3060.0</td>\n",
       "      <td>2917.0</td>\n",
       "      <td>2927.0</td>\n",
       "      <td>1.519000e+09</td>\n",
       "      <td>2940.0</td>\n",
       "      <td>2952.0</td>\n",
       "      <td>2920.0</td>\n",
       "      <td>2928.0</td>\n",
       "      <td>237100000.0</td>\n",
       "      <td>...</td>\n",
       "      <td>7.410000e+10</td>\n",
       "      <td>5.478200e+12</td>\n",
       "      <td>2.530000e+10</td>\n",
       "      <td>1.0</td>\n",
       "      <td>1.0</td>\n",
       "      <td>100000000.0</td>\n",
       "      <td>1.0</td>\n",
       "      <td>7.410000e+10</td>\n",
       "      <td>5.478200e+12</td>\n",
       "      <td>2.530000e+10</td>\n",
       "    </tr>\n",
       "  </tbody>\n",
       "</table>\n",
       "<p>3 rows × 131 columns</p>\n",
       "</div>"
      ],
      "text/plain": [
       "   open_0  high_0   low_0  close_0    volumeto_0  open_1  high_1   low_1  \\\n",
       "0  1158.0  1158.0  1120.0   1132.0  6.195000e+08  1111.0  1191.0  1101.0   \n",
       "1  1269.0  1478.0  1223.0   1257.0  1.028900e+10  1223.0  1280.0  1207.0   \n",
       "2  2928.0  3060.0  2917.0   2927.0  1.519000e+09  2940.0  2952.0  2920.0   \n",
       "\n",
       "   close_1   volumeto_1  ...   followers_6  twitter_followers_6  \\\n",
       "0   1158.0  241100000.0  ...  7.460000e+10         5.406400e+12   \n",
       "1   1269.0  793400000.0  ...  7.430000e+10         5.416600e+12   \n",
       "2   2928.0  237100000.0  ...  7.410000e+10         5.478200e+12   \n",
       "\n",
       "   twitter_following_6  code_repo_closed_issues_7  \\\n",
       "0         2.540000e+10                        1.0   \n",
       "1         2.540000e+10                        1.0   \n",
       "2         2.530000e+10                        1.0   \n",
       "\n",
       "   code_repo_closed_pull_issues_7  code_repo_open_issues_7  \\\n",
       "0                             1.0              100000000.0   \n",
       "1                             1.0              100000000.0   \n",
       "2                             1.0              100000000.0   \n",
       "\n",
       "   code_repo_open_pull_issues_7   followers_7  twitter_followers_7  \\\n",
       "0                           1.0  7.460000e+10         5.406400e+12   \n",
       "1                           1.0  7.430000e+10         5.416800e+12   \n",
       "2                           1.0  7.410000e+10         5.478200e+12   \n",
       "\n",
       "   twitter_following_7  \n",
       "0         2.540000e+10  \n",
       "1         2.540000e+10  \n",
       "2         2.530000e+10  \n",
       "\n",
       "[3 rows x 131 columns]"
      ]
     },
     "execution_count": 11,
     "metadata": {},
     "output_type": "execute_result"
    }
   ],
   "source": [
    "p[trade_vars].head(3)"
   ]
  },
  {
   "cell_type": "code",
   "execution_count": 12,
   "metadata": {},
   "outputs": [],
   "source": [
    "p['pump_increase'] = p.high_0 - p.open_0\n",
    "p['pump_increase_percent'] = round((p.pump_increase / p.open_0) * 100,0)"
   ]
  },
  {
   "cell_type": "code",
   "execution_count": 13,
   "metadata": {},
   "outputs": [
    {
     "data": {
      "text/html": [
       "<div>\n",
       "<style scoped>\n",
       "    .dataframe tbody tr th:only-of-type {\n",
       "        vertical-align: middle;\n",
       "    }\n",
       "\n",
       "    .dataframe tbody tr th {\n",
       "        vertical-align: top;\n",
       "    }\n",
       "\n",
       "    .dataframe thead th {\n",
       "        text-align: right;\n",
       "    }\n",
       "</style>\n",
       "<table border=\"1\" class=\"dataframe\">\n",
       "  <thead>\n",
       "    <tr style=\"text-align: right;\">\n",
       "      <th></th>\n",
       "      <th>channelTitle</th>\n",
       "      <th>currency</th>\n",
       "      <th>exchange</th>\n",
       "      <th>timestamp</th>\n",
       "      <th>pumptime_edited</th>\n",
       "      <th>open_0</th>\n",
       "      <th>high_0</th>\n",
       "      <th>low_0</th>\n",
       "      <th>close_0</th>\n",
       "      <th>volumeto_0</th>\n",
       "      <th>open_1</th>\n",
       "      <th>high_1</th>\n",
       "      <th>low_1</th>\n",
       "      <th>close_1</th>\n",
       "      <th>volumeto_1</th>\n",
       "      <th>pump_increase</th>\n",
       "      <th>pump_increase_percent</th>\n",
       "    </tr>\n",
       "  </thead>\n",
       "  <tbody>\n",
       "    <tr>\n",
       "      <th>0</th>\n",
       "      <td>Crypto Pump Island</td>\n",
       "      <td>ADX</td>\n",
       "      <td>Binance</td>\n",
       "      <td>1564163999</td>\n",
       "      <td>2019-07-26 17:59:59+00:00</td>\n",
       "      <td>1158.0</td>\n",
       "      <td>1158.0</td>\n",
       "      <td>1120.0</td>\n",
       "      <td>1132.0</td>\n",
       "      <td>6.195000e+08</td>\n",
       "      <td>1111.0</td>\n",
       "      <td>1191.0</td>\n",
       "      <td>1101.0</td>\n",
       "      <td>1158.0</td>\n",
       "      <td>241100000.0</td>\n",
       "      <td>0.0</td>\n",
       "      <td>0.0</td>\n",
       "    </tr>\n",
       "    <tr>\n",
       "      <th>1</th>\n",
       "      <td>Signal Kingdom</td>\n",
       "      <td>ADX</td>\n",
       "      <td>Binance</td>\n",
       "      <td>1562346032</td>\n",
       "      <td>2019-07-05 17:00:32+00:00</td>\n",
       "      <td>1269.0</td>\n",
       "      <td>1478.0</td>\n",
       "      <td>1223.0</td>\n",
       "      <td>1257.0</td>\n",
       "      <td>1.028900e+10</td>\n",
       "      <td>1223.0</td>\n",
       "      <td>1280.0</td>\n",
       "      <td>1207.0</td>\n",
       "      <td>1269.0</td>\n",
       "      <td>793400000.0</td>\n",
       "      <td>209.0</td>\n",
       "      <td>16.0</td>\n",
       "    </tr>\n",
       "    <tr>\n",
       "      <th>2</th>\n",
       "      <td>Maximum Pump</td>\n",
       "      <td>ADX</td>\n",
       "      <td>Binance</td>\n",
       "      <td>1556219721</td>\n",
       "      <td>2019-04-25 19:15:21+00:00</td>\n",
       "      <td>2928.0</td>\n",
       "      <td>3060.0</td>\n",
       "      <td>2917.0</td>\n",
       "      <td>2927.0</td>\n",
       "      <td>1.519000e+09</td>\n",
       "      <td>2940.0</td>\n",
       "      <td>2952.0</td>\n",
       "      <td>2920.0</td>\n",
       "      <td>2928.0</td>\n",
       "      <td>237100000.0</td>\n",
       "      <td>132.0</td>\n",
       "      <td>5.0</td>\n",
       "    </tr>\n",
       "  </tbody>\n",
       "</table>\n",
       "</div>"
      ],
      "text/plain": [
       "         channelTitle currency exchange   timestamp           pumptime_edited  \\\n",
       "0  Crypto Pump Island      ADX  Binance  1564163999 2019-07-26 17:59:59+00:00   \n",
       "1      Signal Kingdom      ADX  Binance  1562346032 2019-07-05 17:00:32+00:00   \n",
       "2        Maximum Pump      ADX  Binance  1556219721 2019-04-25 19:15:21+00:00   \n",
       "\n",
       "   open_0  high_0   low_0  close_0    volumeto_0  open_1  high_1   low_1  \\\n",
       "0  1158.0  1158.0  1120.0   1132.0  6.195000e+08  1111.0  1191.0  1101.0   \n",
       "1  1269.0  1478.0  1223.0   1257.0  1.028900e+10  1223.0  1280.0  1207.0   \n",
       "2  2928.0  3060.0  2917.0   2927.0  1.519000e+09  2940.0  2952.0  2920.0   \n",
       "\n",
       "   close_1   volumeto_1  pump_increase  pump_increase_percent  \n",
       "0   1158.0  241100000.0            0.0                    0.0  \n",
       "1   1269.0  793400000.0          209.0                   16.0  \n",
       "2   2928.0  237100000.0          132.0                    5.0  "
      ]
     },
     "execution_count": 13,
     "metadata": {},
     "output_type": "execute_result"
    }
   ],
   "source": [
    "important_vars = ['channelTitle','currency','exchange','timestamp','pumptime_edited'\n",
    "       ,'open_0','high_0','low_0','close_0','volumeto_0'\n",
    "        ,'open_1','high_1','low_1','close_1','volumeto_1'\n",
    "       ,'pump_increase','pump_increase_percent'] \n",
    "p[important_vars].head(3)"
   ]
  },
  {
   "cell_type": "markdown",
   "metadata": {},
   "source": [
    "Where v_0 is NOT greater than v_1"
   ]
  },
  {
   "cell_type": "code",
   "execution_count": 14,
   "metadata": {},
   "outputs": [
    {
     "data": {
      "text/html": [
       "<div>\n",
       "<style scoped>\n",
       "    .dataframe tbody tr th:only-of-type {\n",
       "        vertical-align: middle;\n",
       "    }\n",
       "\n",
       "    .dataframe tbody tr th {\n",
       "        vertical-align: top;\n",
       "    }\n",
       "\n",
       "    .dataframe thead th {\n",
       "        text-align: right;\n",
       "    }\n",
       "</style>\n",
       "<table border=\"1\" class=\"dataframe\">\n",
       "  <thead>\n",
       "    <tr style=\"text-align: right;\">\n",
       "      <th></th>\n",
       "      <th>channelTitle</th>\n",
       "      <th>currency</th>\n",
       "      <th>exchange</th>\n",
       "      <th>timestamp</th>\n",
       "      <th>pumptime_edited</th>\n",
       "      <th>open_0</th>\n",
       "      <th>high_0</th>\n",
       "      <th>low_0</th>\n",
       "      <th>close_0</th>\n",
       "      <th>volumeto_0</th>\n",
       "      <th>open_1</th>\n",
       "      <th>high_1</th>\n",
       "      <th>low_1</th>\n",
       "      <th>close_1</th>\n",
       "      <th>volumeto_1</th>\n",
       "      <th>pump_increase</th>\n",
       "      <th>pump_increase_percent</th>\n",
       "    </tr>\n",
       "  </thead>\n",
       "  <tbody>\n",
       "    <tr>\n",
       "      <th>314</th>\n",
       "      <td>Bull ⚡️ Signals</td>\n",
       "      <td>CTXC</td>\n",
       "      <td>Yobit</td>\n",
       "      <td>1553283018</td>\n",
       "      <td>2019-03-22 19:30:18+00:00</td>\n",
       "      <td>3275.0</td>\n",
       "      <td>3275.0</td>\n",
       "      <td>3275.0</td>\n",
       "      <td>3275.0</td>\n",
       "      <td>1.000000e+00</td>\n",
       "      <td>3255.0</td>\n",
       "      <td>3275.0</td>\n",
       "      <td>3255.0</td>\n",
       "      <td>3275.0</td>\n",
       "      <td>1.592000e+07</td>\n",
       "      <td>0.0</td>\n",
       "      <td>0.0</td>\n",
       "    </tr>\n",
       "    <tr>\n",
       "      <th>144</th>\n",
       "      <td>Bitcoin Pump Group</td>\n",
       "      <td>NEO</td>\n",
       "      <td>Binance</td>\n",
       "      <td>1563965694</td>\n",
       "      <td>2019-07-24 10:54:54+00:00</td>\n",
       "      <td>118200.0</td>\n",
       "      <td>118400.0</td>\n",
       "      <td>117500.0</td>\n",
       "      <td>117900.0</td>\n",
       "      <td>1.538000e+09</td>\n",
       "      <td>115200.0</td>\n",
       "      <td>119800.0</td>\n",
       "      <td>115200.0</td>\n",
       "      <td>118200.0</td>\n",
       "      <td>1.408500e+10</td>\n",
       "      <td>200.0</td>\n",
       "      <td>0.0</td>\n",
       "    </tr>\n",
       "    <tr>\n",
       "      <th>135</th>\n",
       "      <td>Bitcoin Pump Group</td>\n",
       "      <td>NULS</td>\n",
       "      <td>Binance</td>\n",
       "      <td>1564130413</td>\n",
       "      <td>2019-07-26 08:40:13+00:00</td>\n",
       "      <td>5753.0</td>\n",
       "      <td>5753.0</td>\n",
       "      <td>5753.0</td>\n",
       "      <td>5753.0</td>\n",
       "      <td>1.000000e+00</td>\n",
       "      <td>5753.0</td>\n",
       "      <td>5753.0</td>\n",
       "      <td>5753.0</td>\n",
       "      <td>5753.0</td>\n",
       "      <td>1.000000e+00</td>\n",
       "      <td>0.0</td>\n",
       "      <td>0.0</td>\n",
       "    </tr>\n",
       "  </tbody>\n",
       "</table>\n",
       "</div>"
      ],
      "text/plain": [
       "           channelTitle currency exchange   timestamp  \\\n",
       "314     Bull ⚡️ Signals     CTXC    Yobit  1553283018   \n",
       "144  Bitcoin Pump Group      NEO  Binance  1563965694   \n",
       "135  Bitcoin Pump Group     NULS  Binance  1564130413   \n",
       "\n",
       "              pumptime_edited    open_0    high_0     low_0   close_0  \\\n",
       "314 2019-03-22 19:30:18+00:00    3275.0    3275.0    3275.0    3275.0   \n",
       "144 2019-07-24 10:54:54+00:00  118200.0  118400.0  117500.0  117900.0   \n",
       "135 2019-07-26 08:40:13+00:00    5753.0    5753.0    5753.0    5753.0   \n",
       "\n",
       "       volumeto_0    open_1    high_1     low_1   close_1    volumeto_1  \\\n",
       "314  1.000000e+00    3255.0    3275.0    3255.0    3275.0  1.592000e+07   \n",
       "144  1.538000e+09  115200.0  119800.0  115200.0  118200.0  1.408500e+10   \n",
       "135  1.000000e+00    5753.0    5753.0    5753.0    5753.0  1.000000e+00   \n",
       "\n",
       "     pump_increase  pump_increase_percent  \n",
       "314            0.0                    0.0  \n",
       "144          200.0                    0.0  \n",
       "135            0.0                    0.0  "
      ]
     },
     "execution_count": 14,
     "metadata": {},
     "output_type": "execute_result"
    }
   ],
   "source": [
    "p.loc[p.volumeto_0 <= p.volumeto_1][important_vars].sample(3)\n",
    "# p.loc[p.volumeto_0 <= p.volumeto_1][important_vars].shape"
   ]
  },
  {
   "cell_type": "code",
   "execution_count": 15,
   "metadata": {},
   "outputs": [
    {
     "data": {
      "text/plain": [
       "count     426.00000\n",
       "mean       49.27230\n",
       "std       105.91853\n",
       "min         0.00000\n",
       "25%         1.00000\n",
       "50%         7.00000\n",
       "75%        51.00000\n",
       "max      1322.00000\n",
       "Name: pump_increase_percent, dtype: float64"
      ]
     },
     "execution_count": 15,
     "metadata": {},
     "output_type": "execute_result"
    }
   ],
   "source": [
    "p.pump_increase_percent.describe()"
   ]
  },
  {
   "cell_type": "markdown",
   "metadata": {},
   "source": [
    "Take a look at the distribition of pump's level of pump inflation"
   ]
  },
  {
   "cell_type": "code",
   "execution_count": null,
   "metadata": {},
   "outputs": [],
   "source": [
    "# t = pd.DataFrame(p.groupby('pump_increase_percent').pump_increase_percent.count())\n",
    "# t.head(10)"
   ]
  },
  {
   "cell_type": "markdown",
   "metadata": {},
   "source": [
    "## REVISE THE GOAL:\n",
    "We extend the range of data to be 2 hours from pump_hour_0 to pump_hour_1 and use the range of increase as whatever is the lowest opening price of the prevous hour and the highest of the pump hour."
   ]
  },
  {
   "cell_type": "code",
   "execution_count": 16,
   "metadata": {},
   "outputs": [],
   "source": [
    "p = p.drop(['pump_increase','pump_increase_percent'],axis=1)"
   ]
  },
  {
   "cell_type": "code",
   "execution_count": 17,
   "metadata": {},
   "outputs": [],
   "source": [
    "p['pump_increase'] = p[['open_1','high_0','high_1']].apply(func=lambda x: max(x[1],x[2]) - x[0],axis=1)\n",
    "p['pump_increase_percent'] = round((p.pump_increase / p.open_1) * 100,0)"
   ]
  },
  {
   "cell_type": "code",
   "execution_count": 18,
   "metadata": {},
   "outputs": [
    {
     "data": {
      "text/html": [
       "<div>\n",
       "<style scoped>\n",
       "    .dataframe tbody tr th:only-of-type {\n",
       "        vertical-align: middle;\n",
       "    }\n",
       "\n",
       "    .dataframe tbody tr th {\n",
       "        vertical-align: top;\n",
       "    }\n",
       "\n",
       "    .dataframe thead th {\n",
       "        text-align: right;\n",
       "    }\n",
       "</style>\n",
       "<table border=\"1\" class=\"dataframe\">\n",
       "  <thead>\n",
       "    <tr style=\"text-align: right;\">\n",
       "      <th></th>\n",
       "      <th>channelTitle</th>\n",
       "      <th>currency</th>\n",
       "      <th>exchange</th>\n",
       "      <th>timestamp</th>\n",
       "      <th>pumptime_edited</th>\n",
       "      <th>open_0</th>\n",
       "      <th>high_0</th>\n",
       "      <th>low_0</th>\n",
       "      <th>close_0</th>\n",
       "      <th>volumeto_0</th>\n",
       "      <th>open_1</th>\n",
       "      <th>high_1</th>\n",
       "      <th>low_1</th>\n",
       "      <th>close_1</th>\n",
       "      <th>volumeto_1</th>\n",
       "      <th>pump_increase</th>\n",
       "      <th>pump_increase_percent</th>\n",
       "    </tr>\n",
       "  </thead>\n",
       "  <tbody>\n",
       "    <tr>\n",
       "      <th>108</th>\n",
       "      <td>Yobit Pumping Crazy Community™</td>\n",
       "      <td>BNT</td>\n",
       "      <td>Yobit</td>\n",
       "      <td>1546102820</td>\n",
       "      <td>2018-12-29 17:00:20+00:00</td>\n",
       "      <td>15000.0</td>\n",
       "      <td>17850.0</td>\n",
       "      <td>14000.0</td>\n",
       "      <td>17850.0</td>\n",
       "      <td>4.327000e+07</td>\n",
       "      <td>16000.0</td>\n",
       "      <td>17000.0</td>\n",
       "      <td>15000.0</td>\n",
       "      <td>15000.0</td>\n",
       "      <td>6.605000e+07</td>\n",
       "      <td>1850.0</td>\n",
       "      <td>12.0</td>\n",
       "    </tr>\n",
       "    <tr>\n",
       "      <th>3</th>\n",
       "      <td>Bitcoin Pump Group</td>\n",
       "      <td>WAN</td>\n",
       "      <td>Binance</td>\n",
       "      <td>1567183290</td>\n",
       "      <td>2019-08-30 16:41:30+00:00</td>\n",
       "      <td>3935.0</td>\n",
       "      <td>4120.0</td>\n",
       "      <td>3864.0</td>\n",
       "      <td>3918.0</td>\n",
       "      <td>1.619800e+10</td>\n",
       "      <td>3958.0</td>\n",
       "      <td>4066.0</td>\n",
       "      <td>3781.0</td>\n",
       "      <td>3935.0</td>\n",
       "      <td>2.543000e+10</td>\n",
       "      <td>162.0</td>\n",
       "      <td>4.0</td>\n",
       "    </tr>\n",
       "    <tr>\n",
       "      <th>84</th>\n",
       "      <td>⚜️Heavy Pumps⚜️</td>\n",
       "      <td>QKC</td>\n",
       "      <td>Yobit</td>\n",
       "      <td>1564945203</td>\n",
       "      <td>2019-08-04 19:00:03+00:00</td>\n",
       "      <td>226.0</td>\n",
       "      <td>243.0</td>\n",
       "      <td>153.0</td>\n",
       "      <td>156.0</td>\n",
       "      <td>2.768000e+05</td>\n",
       "      <td>146.0</td>\n",
       "      <td>227.0</td>\n",
       "      <td>135.0</td>\n",
       "      <td>226.0</td>\n",
       "      <td>2.974000e+05</td>\n",
       "      <td>97.0</td>\n",
       "      <td>66.0</td>\n",
       "    </tr>\n",
       "  </tbody>\n",
       "</table>\n",
       "</div>"
      ],
      "text/plain": [
       "                       channelTitle currency exchange   timestamp  \\\n",
       "108  Yobit Pumping Crazy Community™      BNT    Yobit  1546102820   \n",
       "3                Bitcoin Pump Group      WAN  Binance  1567183290   \n",
       "84                  ⚜️Heavy Pumps⚜️      QKC    Yobit  1564945203   \n",
       "\n",
       "              pumptime_edited   open_0   high_0    low_0  close_0  \\\n",
       "108 2018-12-29 17:00:20+00:00  15000.0  17850.0  14000.0  17850.0   \n",
       "3   2019-08-30 16:41:30+00:00   3935.0   4120.0   3864.0   3918.0   \n",
       "84  2019-08-04 19:00:03+00:00    226.0    243.0    153.0    156.0   \n",
       "\n",
       "       volumeto_0   open_1   high_1    low_1  close_1    volumeto_1  \\\n",
       "108  4.327000e+07  16000.0  17000.0  15000.0  15000.0  6.605000e+07   \n",
       "3    1.619800e+10   3958.0   4066.0   3781.0   3935.0  2.543000e+10   \n",
       "84   2.768000e+05    146.0    227.0    135.0    226.0  2.974000e+05   \n",
       "\n",
       "     pump_increase  pump_increase_percent  \n",
       "108         1850.0                   12.0  \n",
       "3            162.0                    4.0  \n",
       "84            97.0                   66.0  "
      ]
     },
     "execution_count": 18,
     "metadata": {},
     "output_type": "execute_result"
    }
   ],
   "source": [
    "p.loc[p.volumeto_0 <= p.volumeto_1][important_vars].sample(3)"
   ]
  },
  {
   "cell_type": "code",
   "execution_count": 19,
   "metadata": {},
   "outputs": [
    {
     "data": {
      "text/plain": [
       "count      426.000000\n",
       "mean       144.424883\n",
       "std       1855.206884\n",
       "min          0.000000\n",
       "25%          4.000000\n",
       "50%         13.000000\n",
       "75%         67.750000\n",
       "max      38300.000000\n",
       "Name: pump_increase_percent, dtype: float64"
      ]
     },
     "execution_count": 19,
     "metadata": {},
     "output_type": "execute_result"
    }
   ],
   "source": [
    "p.pump_increase_percent.describe()"
   ]
  },
  {
   "cell_type": "code",
   "execution_count": 20,
   "metadata": {},
   "outputs": [
    {
     "data": {
      "text/html": [
       "<div>\n",
       "<style scoped>\n",
       "    .dataframe tbody tr th:only-of-type {\n",
       "        vertical-align: middle;\n",
       "    }\n",
       "\n",
       "    .dataframe tbody tr th {\n",
       "        vertical-align: top;\n",
       "    }\n",
       "\n",
       "    .dataframe thead th {\n",
       "        text-align: right;\n",
       "    }\n",
       "</style>\n",
       "<table border=\"1\" class=\"dataframe\">\n",
       "  <thead>\n",
       "    <tr style=\"text-align: right;\">\n",
       "      <th></th>\n",
       "      <th>count</th>\n",
       "      <th>pump_increase_prct</th>\n",
       "    </tr>\n",
       "  </thead>\n",
       "  <tbody>\n",
       "    <tr>\n",
       "      <th>0</th>\n",
       "      <td>50</td>\n",
       "      <td>0.0</td>\n",
       "    </tr>\n",
       "    <tr>\n",
       "      <th>1</th>\n",
       "      <td>18</td>\n",
       "      <td>1.0</td>\n",
       "    </tr>\n",
       "    <tr>\n",
       "      <th>2</th>\n",
       "      <td>14</td>\n",
       "      <td>2.0</td>\n",
       "    </tr>\n",
       "    <tr>\n",
       "      <th>3</th>\n",
       "      <td>9</td>\n",
       "      <td>3.0</td>\n",
       "    </tr>\n",
       "    <tr>\n",
       "      <th>4</th>\n",
       "      <td>20</td>\n",
       "      <td>4.0</td>\n",
       "    </tr>\n",
       "  </tbody>\n",
       "</table>\n",
       "</div>"
      ],
      "text/plain": [
       "   count  pump_increase_prct\n",
       "0     50                 0.0\n",
       "1     18                 1.0\n",
       "2     14                 2.0\n",
       "3      9                 3.0\n",
       "4     20                 4.0"
      ]
     },
     "execution_count": 20,
     "metadata": {},
     "output_type": "execute_result"
    }
   ],
   "source": [
    "x = pd.DataFrame(p.groupby('pump_increase_percent').pump_increase_percent.count())\n",
    "x = x.rename(columns={'pump_increase_percent':'count'})\n",
    "x['pump_increase_prct'] = x.index\n",
    "x = x.reset_index(drop=True)\n",
    "x.head()"
   ]
  },
  {
   "cell_type": "markdown",
   "metadata": {},
   "source": [
    "# SOME QUESTIONS TO PONDER\n",
    "- Should we actualy only extract the hours and not the minutes adjustment?\n",
    "- How should we break the bins of y values?"
   ]
  },
  {
   "cell_type": "code",
   "execution_count": 21,
   "metadata": {},
   "outputs": [],
   "source": [
    "def convertPercentIncrasetoCat(x:float, scheme:int = 3):\n",
    "    '''\n",
    "        Based on the distribution of the percentage increase breakdown the categories\n",
    "        Break them so that they are as equally binned as possible.\n",
    "        param: x float value of the percentage increase in price\n",
    "    '''\n",
    "    if scheme == 1: \n",
    "        if x == 0.0:\n",
    "            return 0\n",
    "        elif 0.0 < x <= 5.0: \n",
    "            return 1\n",
    "        elif 5.0 < x <= 10.0: \n",
    "            return 2\n",
    "        elif 10.0 < x <= 25.0:\n",
    "            return 3 \n",
    "        elif 25.0 < x <= 100.0:\n",
    "            return 4 \n",
    "#         elif 75.0 < x <= 200.0: \n",
    "#             return 5 \n",
    "        elif 100 < x: \n",
    "            return 5\n",
    "        else:\n",
    "            return 6\n",
    "    elif scheme == 2: \n",
    "        #Scheme 2\n",
    "        if x == 0.0:\n",
    "            return 0\n",
    "        elif 0.0 < x <= 50.0: \n",
    "            return 1\n",
    "        elif 50.0 < x <= 100.0: \n",
    "            return 2\n",
    "        elif 100.0 < x <= 300.0:\n",
    "            return 3 \n",
    "        else: \n",
    "            return 4\n",
    "    elif scheme == 3:\n",
    "        if  0.0 <= x <= 5.0:\n",
    "            return 0\n",
    "        elif 5.0 < x <= 15.0: \n",
    "            return 1\n",
    "        elif 15.0 < x <= 75.0:\n",
    "            return 2\n",
    "        elif x > 75: \n",
    "            return 3"
   ]
  },
  {
   "cell_type": "code",
   "execution_count": 22,
   "metadata": {},
   "outputs": [],
   "source": [
    "p['pump_increase_cat'] = p.pump_increase_percent.apply(lambda x : convertPercentIncrasetoCat(x,scheme=3))"
   ]
  },
  {
   "cell_type": "code",
   "execution_count": 23,
   "metadata": {},
   "outputs": [
    {
     "data": {
      "text/html": [
       "<div>\n",
       "<style scoped>\n",
       "    .dataframe tbody tr th:only-of-type {\n",
       "        vertical-align: middle;\n",
       "    }\n",
       "\n",
       "    .dataframe tbody tr th {\n",
       "        vertical-align: top;\n",
       "    }\n",
       "\n",
       "    .dataframe thead th {\n",
       "        text-align: right;\n",
       "    }\n",
       "</style>\n",
       "<table border=\"1\" class=\"dataframe\">\n",
       "  <thead>\n",
       "    <tr style=\"text-align: right;\">\n",
       "      <th></th>\n",
       "      <th>channelTitle</th>\n",
       "      <th>currency</th>\n",
       "      <th>exchange</th>\n",
       "      <th>timestamp</th>\n",
       "      <th>pumptime_edited</th>\n",
       "      <th>open_0</th>\n",
       "      <th>high_0</th>\n",
       "      <th>low_0</th>\n",
       "      <th>close_0</th>\n",
       "      <th>volumeto_0</th>\n",
       "      <th>open_1</th>\n",
       "      <th>high_1</th>\n",
       "      <th>low_1</th>\n",
       "      <th>close_1</th>\n",
       "      <th>volumeto_1</th>\n",
       "      <th>pump_increase</th>\n",
       "      <th>pump_increase_percent</th>\n",
       "      <th>pump_increase_cat</th>\n",
       "    </tr>\n",
       "  </thead>\n",
       "  <tbody>\n",
       "    <tr>\n",
       "      <th>0</th>\n",
       "      <td>Crypto Pump Island</td>\n",
       "      <td>ADX</td>\n",
       "      <td>Binance</td>\n",
       "      <td>1564163999</td>\n",
       "      <td>2019-07-26 17:59:59+00:00</td>\n",
       "      <td>1158.0</td>\n",
       "      <td>1158.0</td>\n",
       "      <td>1120.0</td>\n",
       "      <td>1132.0</td>\n",
       "      <td>6.195000e+08</td>\n",
       "      <td>1111.0</td>\n",
       "      <td>1191.0</td>\n",
       "      <td>1101.0</td>\n",
       "      <td>1158.0</td>\n",
       "      <td>241100000.0</td>\n",
       "      <td>80.0</td>\n",
       "      <td>7.0</td>\n",
       "      <td>1</td>\n",
       "    </tr>\n",
       "    <tr>\n",
       "      <th>1</th>\n",
       "      <td>Signal Kingdom</td>\n",
       "      <td>ADX</td>\n",
       "      <td>Binance</td>\n",
       "      <td>1562346032</td>\n",
       "      <td>2019-07-05 17:00:32+00:00</td>\n",
       "      <td>1269.0</td>\n",
       "      <td>1478.0</td>\n",
       "      <td>1223.0</td>\n",
       "      <td>1257.0</td>\n",
       "      <td>1.028900e+10</td>\n",
       "      <td>1223.0</td>\n",
       "      <td>1280.0</td>\n",
       "      <td>1207.0</td>\n",
       "      <td>1269.0</td>\n",
       "      <td>793400000.0</td>\n",
       "      <td>255.0</td>\n",
       "      <td>21.0</td>\n",
       "      <td>2</td>\n",
       "    </tr>\n",
       "    <tr>\n",
       "      <th>2</th>\n",
       "      <td>Maximum Pump</td>\n",
       "      <td>ADX</td>\n",
       "      <td>Binance</td>\n",
       "      <td>1556219721</td>\n",
       "      <td>2019-04-25 19:15:21+00:00</td>\n",
       "      <td>2928.0</td>\n",
       "      <td>3060.0</td>\n",
       "      <td>2917.0</td>\n",
       "      <td>2927.0</td>\n",
       "      <td>1.519000e+09</td>\n",
       "      <td>2940.0</td>\n",
       "      <td>2952.0</td>\n",
       "      <td>2920.0</td>\n",
       "      <td>2928.0</td>\n",
       "      <td>237100000.0</td>\n",
       "      <td>120.0</td>\n",
       "      <td>4.0</td>\n",
       "      <td>0</td>\n",
       "    </tr>\n",
       "  </tbody>\n",
       "</table>\n",
       "</div>"
      ],
      "text/plain": [
       "         channelTitle currency exchange   timestamp           pumptime_edited  \\\n",
       "0  Crypto Pump Island      ADX  Binance  1564163999 2019-07-26 17:59:59+00:00   \n",
       "1      Signal Kingdom      ADX  Binance  1562346032 2019-07-05 17:00:32+00:00   \n",
       "2        Maximum Pump      ADX  Binance  1556219721 2019-04-25 19:15:21+00:00   \n",
       "\n",
       "   open_0  high_0   low_0  close_0    volumeto_0  open_1  high_1   low_1  \\\n",
       "0  1158.0  1158.0  1120.0   1132.0  6.195000e+08  1111.0  1191.0  1101.0   \n",
       "1  1269.0  1478.0  1223.0   1257.0  1.028900e+10  1223.0  1280.0  1207.0   \n",
       "2  2928.0  3060.0  2917.0   2927.0  1.519000e+09  2940.0  2952.0  2920.0   \n",
       "\n",
       "   close_1   volumeto_1  pump_increase  pump_increase_percent  \\\n",
       "0   1158.0  241100000.0           80.0                    7.0   \n",
       "1   1269.0  793400000.0          255.0                   21.0   \n",
       "2   2928.0  237100000.0          120.0                    4.0   \n",
       "\n",
       "   pump_increase_cat  \n",
       "0                  1  \n",
       "1                  2  \n",
       "2                  0  "
      ]
     },
     "execution_count": 23,
     "metadata": {},
     "output_type": "execute_result"
    }
   ],
   "source": [
    "p[important_vars + ['pump_increase_cat']].head(3)"
   ]
  },
  {
   "cell_type": "code",
   "execution_count": 24,
   "metadata": {},
   "outputs": [
    {
     "data": {
      "text/plain": [
       "(array([121.,   0.,   0., 104.,   0.,   0., 102.,   0.,   0.,  99.]),\n",
       " array([0. , 0.3, 0.6, 0.9, 1.2, 1.5, 1.8, 2.1, 2.4, 2.7, 3. ]),\n",
       " <a list of 10 Patch objects>)"
      ]
     },
     "execution_count": 24,
     "metadata": {},
     "output_type": "execute_result"
    },
    {
     "data": {
      "image/png": "[encoded data removed]",
      "text/plain": [
       "<Figure size 360x216 with 1 Axes>"
      ]
     },
     "metadata": {
      "needs_background": "light"
     },
     "output_type": "display_data"
    }
   ],
   "source": [
    "fig = plt.figure(figsize=(5,3))\n",
    "plt.hist(p.pump_increase_cat)"
   ]
  },
  {
   "cell_type": "code",
   "execution_count": 25,
   "metadata": {},
   "outputs": [],
   "source": [
    "p.to_pickle('pump_data_with_y.pkl')"
   ]
  },
  {
   "cell_type": "markdown",
   "metadata": {},
   "source": [
    "## RANDOM FOREST MODEL \n",
    "Now that we have the independent variable, __pump_increase_cat__, we can use the features variables to build a simple logistic regression model."
   ]
  },
  {
   "cell_type": "code",
   "execution_count": 55,
   "metadata": {},
   "outputs": [],
   "source": [
    "from sklearn.model_selection import train_test_split\n",
    "from sklearn.model_selection import cross_val_score\n",
    "from sklearn.model_selection import GridSearchCV\n",
    "from sklearn.ensemble import RandomForestClassifier\n",
    "from sklearn.linear_model import LogisticRegressionCV\n",
    "from sklearn.metrics import accuracy_score\n",
    "from sklearn.svm import SVC\n",
    "from sklearn.preprocessing import StandardScaler\n",
    "from sklearn.preprocessing import MinMaxScaler"
   ]
  },
  {
   "cell_type": "code",
   "execution_count": null,
   "metadata": {},
   "outputs": [],
   "source": [
    "time_features = ['pump_weekday','pump_date','pump_hour','pump_minute']\n",
    "pump_hour_features = ['high_0', 'low_0', 'close_0', 'volumeto_0','analysis_page_views_0', 'charts_page_views_0',\n",
    "                    'markets_page_views_0', 'overview_page_views_0',\n",
    "                    'total_page_views_0', 'trades_page_views_0']\n",
    "market_features = ['open_0', 'high_0', 'low_0', 'close_0', 'volumeto_0', 'open_1',\n",
    "       'high_1', 'low_1', 'close_1', 'volumeto_1', 'open_2', 'high_2',\n",
    "       'low_2', 'close_2', 'volumeto_2', 'open_3', 'high_3', 'low_3',\n",
    "       'close_3', 'volumeto_3', 'open_4', 'high_4', 'low_4', 'close_4',\n",
    "       'volumeto_4', 'open_5', 'high_5', 'low_5', 'close_5', 'volumeto_5',\n",
    "       'open_6', 'high_6', 'low_6', 'close_6', 'volumeto_6', 'open_day_1',\n",
    "       'high_day_1', 'low_day_1', 'close_day_1', 'volumeto_day_1',\n",
    "       'open_day_2', 'high_day_2', 'low_day_2', 'close_day_2',\n",
    "       'volumeto_day_2', 'open_day_3', 'high_day_3', 'low_day_3',\n",
    "       'close_day_3', 'volumeto_day_3', 'open_day_4', 'high_day_4',\n",
    "       'low_day_4', 'close_day_4', 'volumeto_day_4', 'open_day_5',\n",
    "       'high_day_5', 'low_day_5', 'close_day_5', 'volumeto_day_5',\n",
    "       'open_day_6', 'high_day_6', 'low_day_6', 'close_day_6',\n",
    "       'volumeto_day_6', 'open_day_7', 'high_day_7', 'low_day_7',\n",
    "       'close_day_7']\n",
    "chart_features = ['analysis_page_views_0', 'charts_page_views_0',\n",
    "                'markets_page_views_0', 'overview_page_views_0',\n",
    "                'total_page_views_0', 'trades_page_views_0',\n",
    "                'analysis_page_views_1', 'charts_page_views_1',\n",
    "                'markets_page_views_1', 'overview_page_views_1',\n",
    "                'total_page_views_1', 'trades_page_views_1',\n",
    "                'analysis_page_views_2', 'charts_page_views_2',\n",
    "                'markets_page_views_2', 'overview_page_views_2',\n",
    "                'total_page_views_2', 'trades_page_views_2',\n",
    "                'analysis_page_views_3', 'charts_page_views_3',\n",
    "                'markets_page_views_3', 'overview_page_views_3',\n",
    "                'total_page_views_3', 'trades_page_views_3',\n",
    "                'analysis_page_views_4', 'charts_page_views_4',\n",
    "                'markets_page_views_4', 'overview_page_views_4',\n",
    "                'total_page_views_4', 'trades_page_views_4',\n",
    "                'analysis_page_views_5', 'charts_page_views_5',\n",
    "                'markets_page_views_5', 'overview_page_views_5',\n",
    "                'total_page_views_5', 'trades_page_views_5',\n",
    "                'analysis_page_views_6', 'charts_page_views_6',\n",
    "                'markets_page_views_6', 'overview_page_views_6',\n",
    "                'total_page_views_6', 'trades_page_views_6']"
   ]
  },
  {
   "cell_type": "code",
   "execution_count": 25,
   "metadata": {},
   "outputs": [
    {
     "name": "stdout",
     "output_type": "stream",
     "text": [
      "BEFORE pruning pump_hour variables: 115 features\n",
      "AFTER pruning pump_hour variables: 105 features\n"
     ]
    }
   ],
   "source": [
    "features = time_features + market_features + chart_features\n",
    "print(\"BEFORE pruning pump_hour variables: {} features\".format(len(features)))\n",
    "features_past = list(set(features) - set(pump_hour_features))\n",
    "features_past = np.sort(features_past)\n",
    "print(\"AFTER pruning pump_hour variables: {} features\".format(len(features_past)))"
   ]
  },
  {
   "cell_type": "code",
   "execution_count": 26,
   "metadata": {},
   "outputs": [],
   "source": [
    "X = p[features_past].values\n",
    "y = p['pump_increase_cat'].values"
   ]
  },
  {
   "cell_type": "code",
   "execution_count": 27,
   "metadata": {},
   "outputs": [
    {
     "data": {
      "text/html": [
       "<div>\n",
       "<style scoped>\n",
       "    .dataframe tbody tr th:only-of-type {\n",
       "        vertical-align: middle;\n",
       "    }\n",
       "\n",
       "    .dataframe tbody tr th {\n",
       "        vertical-align: top;\n",
       "    }\n",
       "\n",
       "    .dataframe thead th {\n",
       "        text-align: right;\n",
       "    }\n",
       "</style>\n",
       "<table border=\"1\" class=\"dataframe\">\n",
       "  <thead>\n",
       "    <tr style=\"text-align: right;\">\n",
       "      <th></th>\n",
       "      <th>channelLink</th>\n",
       "      <th>channelTitle</th>\n",
       "      <th>currency</th>\n",
       "      <th>duration</th>\n",
       "      <th>exchange</th>\n",
       "      <th>priceBeforePump</th>\n",
       "      <th>signalTime</th>\n",
       "      <th>pumptime_edited</th>\n",
       "      <th>timestamp</th>\n",
       "      <th>pump_weekday</th>\n",
       "      <th>...</th>\n",
       "      <th>trades_page_views_6</th>\n",
       "      <th>analysis_page_views_7</th>\n",
       "      <th>charts_page_views_7</th>\n",
       "      <th>markets_page_views_7</th>\n",
       "      <th>overview_page_views_7</th>\n",
       "      <th>total_page_views_7</th>\n",
       "      <th>trades_page_views_7</th>\n",
       "      <th>pump_increase</th>\n",
       "      <th>pump_increase_percent</th>\n",
       "      <th>pump_increase_cat</th>\n",
       "    </tr>\n",
       "  </thead>\n",
       "  <tbody>\n",
       "  </tbody>\n",
       "</table>\n",
       "<p>0 rows × 154 columns</p>\n",
       "</div>"
      ],
      "text/plain": [
       "Empty DataFrame\n",
       "Columns: [channelLink, channelTitle, currency, duration, exchange, priceBeforePump, signalTime, pumptime_edited, timestamp, pump_weekday, pump_date, pump_hour, pump_minute, pump_hour_0, open_0, high_0, low_0, close_0, volumeto_0, pump_hour_1, open_1, high_1, low_1, close_1, volumeto_1, pump_hour_2, open_2, high_2, low_2, close_2, volumeto_2, pump_hour_3, open_3, high_3, low_3, close_3, volumeto_3, pump_hour_4, open_4, high_4, low_4, close_4, volumeto_4, pump_hour_5, open_5, high_5, low_5, close_5, volumeto_5, pump_hour_6, open_6, high_6, low_6, close_6, volumeto_6, pump_day_1, open_day_1, high_day_1, low_day_1, close_day_1, volumeto_day_1, pump_day_2, open_day_2, high_day_2, low_day_2, close_day_2, volumeto_day_2, pump_day_3, open_day_3, high_day_3, low_day_3, close_day_3, volumeto_day_3, pump_day_4, open_day_4, high_day_4, low_day_4, close_day_4, volumeto_day_4, pump_day_5, open_day_5, high_day_5, low_day_5, close_day_5, volumeto_day_5, pump_day_6, open_day_6, high_day_6, low_day_6, close_day_6, volumeto_day_6, pump_day_7, open_day_7, high_day_7, low_day_7, close_day_7, volumeto_day_7, pump_hour_7, open_7, high_7, ...]\n",
       "Index: []\n",
       "\n",
       "[0 rows x 154 columns]"
      ]
     },
     "execution_count": 27,
     "metadata": {},
     "output_type": "execute_result"
    }
   ],
   "source": [
    "p[p.pump_increase_cat.isnull()]"
   ]
  },
  {
   "cell_type": "code",
   "execution_count": 28,
   "metadata": {},
   "outputs": [],
   "source": [
    "x_train, x_test, y_train, y_test = train_test_split(X,y,test_size=0.2)"
   ]
  },
  {
   "cell_type": "markdown",
   "metadata": {},
   "source": [
    "## SCALE/Standardize the dataset"
   ]
  },
  {
   "cell_type": "code",
   "execution_count": 29,
   "metadata": {},
   "outputs": [],
   "source": [
    "std = StandardScaler()"
   ]
  },
  {
   "cell_type": "code",
   "execution_count": 30,
   "metadata": {},
   "outputs": [],
   "source": [
    "x_train_std = std.fit_transform(x_train)\n",
    "x_test_std = std.transform(x_test)"
   ]
  },
  {
   "cell_type": "markdown",
   "metadata": {},
   "source": [
    "## SCALE/Min-Max Scaler"
   ]
  },
  {
   "cell_type": "code",
   "execution_count": 31,
   "metadata": {},
   "outputs": [],
   "source": [
    "mima = MinMaxScaler()"
   ]
  },
  {
   "cell_type": "code",
   "execution_count": 32,
   "metadata": {},
   "outputs": [],
   "source": [
    "x_train_mima = mima.fit_transform(x_train)\n",
    "x_test_mima = mima.transform(x_test)"
   ]
  },
  {
   "cell_type": "code",
   "execution_count": 33,
   "metadata": {},
   "outputs": [
    {
     "name": "stdout",
     "output_type": "stream",
     "text": [
      "The number of features in this scaled set:  (340, 105)\n"
     ]
    }
   ],
   "source": [
    "print(\"The number of features in this scaled set: \",x_train_mima.shape)"
   ]
  },
  {
   "cell_type": "markdown",
   "metadata": {},
   "source": [
    "...Test for irregularities"
   ]
  },
  {
   "cell_type": "code",
   "execution_count": 34,
   "metadata": {},
   "outputs": [
    {
     "data": {
      "text/plain": [
       "False"
      ]
     },
     "execution_count": 34,
     "metadata": {},
     "output_type": "execute_result"
    }
   ],
   "source": [
    "np.isnan(y_train).any()"
   ]
  },
  {
   "cell_type": "code",
   "execution_count": 35,
   "metadata": {},
   "outputs": [],
   "source": [
    "# y_train"
   ]
  },
  {
   "cell_type": "markdown",
   "metadata": {},
   "source": [
    "## Random Forest Model"
   ]
  },
  {
   "cell_type": "code",
   "execution_count": 36,
   "metadata": {},
   "outputs": [],
   "source": [
    "rfc = RandomForestClassifier(random_state=10)"
   ]
  },
  {
   "cell_type": "code",
   "execution_count": 37,
   "metadata": {},
   "outputs": [],
   "source": [
    "param_grid = {'n_estimators': [200,500,750]\n",
    "             ,'max_features': ['auto','sqrt','log2']\n",
    "             ,'max_depth': [5,10,15]\n",
    "             ,'criterion': ['gini','entropy']}"
   ]
  },
  {
   "cell_type": "code",
   "execution_count": 38,
   "metadata": {},
   "outputs": [
    {
     "name": "stderr",
     "output_type": "stream",
     "text": [
      "/Users/AdrianTran/anaconda3/lib/python3.7/site-packages/sklearn/model_selection/_search.py:841: DeprecationWarning:\n",
      "\n",
      "The default of the `iid` parameter will change from True to False in version 0.22 and will be removed in 0.24. This will change numeric results when test-set sizes are unequal.\n",
      "\n"
     ]
    },
    {
     "data": {
      "text/plain": [
       "GridSearchCV(cv=10, error_score='raise-deprecating',\n",
       "       estimator=RandomForestClassifier(bootstrap=True, class_weight=None, criterion='gini',\n",
       "            max_depth=None, max_features='auto', max_leaf_nodes=None,\n",
       "            min_impurity_decrease=0.0, min_impurity_split=None,\n",
       "            min_samples_leaf=1, min_samples_split=2,\n",
       "            min_weight_fraction_leaf=0.0, n_estimators='warn', n_jobs=None,\n",
       "            oob_score=False, random_state=10, verbose=0, warm_start=False),\n",
       "       fit_params=None, iid='warn', n_jobs=None,\n",
       "       param_grid={'n_estimators': [200, 500, 750], 'max_features': ['auto', 'sqrt', 'log2'], 'max_depth': [5, 10, 15], 'criterion': ['gini', 'entropy']},\n",
       "       pre_dispatch='2*n_jobs', refit=True, return_train_score='warn',\n",
       "       scoring=None, verbose=0)"
      ]
     },
     "execution_count": 38,
     "metadata": {},
     "output_type": "execute_result"
    }
   ],
   "source": [
    "CV_rfc = GridSearchCV(estimator=rfc, param_grid=param_grid, cv=10)\n",
    "CV_rfc.fit(x_train_mima,y_train)"
   ]
  },
  {
   "cell_type": "code",
   "execution_count": 39,
   "metadata": {},
   "outputs": [
    {
     "data": {
      "text/plain": [
       "{'criterion': 'entropy',\n",
       " 'max_depth': 5,\n",
       " 'max_features': 'auto',\n",
       " 'n_estimators': 750}"
      ]
     },
     "execution_count": 39,
     "metadata": {},
     "output_type": "execute_result"
    }
   ],
   "source": [
    "CV_rfc.best_params_"
   ]
  },
  {
   "cell_type": "markdown",
   "metadata": {},
   "source": [
    "## Use the best parameters to train the model again "
   ]
  },
  {
   "cell_type": "code",
   "execution_count": 40,
   "metadata": {},
   "outputs": [],
   "source": [
    "rfc_best = RandomForestClassifier(criterion='entropy',max_depth= 5, max_features='auto',n_estimators=750)"
   ]
  },
  {
   "cell_type": "code",
   "execution_count": 41,
   "metadata": {},
   "outputs": [
    {
     "data": {
      "text/plain": [
       "RandomForestClassifier(bootstrap=True, class_weight=None, criterion='entropy',\n",
       "            max_depth=5, max_features='auto', max_leaf_nodes=None,\n",
       "            min_impurity_decrease=0.0, min_impurity_split=None,\n",
       "            min_samples_leaf=1, min_samples_split=2,\n",
       "            min_weight_fraction_leaf=0.0, n_estimators=750, n_jobs=None,\n",
       "            oob_score=False, random_state=None, verbose=0,\n",
       "            warm_start=False)"
      ]
     },
     "execution_count": 41,
     "metadata": {},
     "output_type": "execute_result"
    }
   ],
   "source": [
    "rfc_best.fit(x_train_mima,y_train)"
   ]
  },
  {
   "cell_type": "code",
   "execution_count": 42,
   "metadata": {},
   "outputs": [],
   "source": [
    "rfc_pred = rfc_best.predict(x_test_mima)"
   ]
  },
  {
   "cell_type": "code",
   "execution_count": 43,
   "metadata": {},
   "outputs": [
    {
     "data": {
      "text/plain": [
       "0.46511627906976744"
      ]
     },
     "execution_count": 43,
     "metadata": {},
     "output_type": "execute_result"
    }
   ],
   "source": [
    "accuracy_score(y_test, rfc_pred)"
   ]
  },
  {
   "cell_type": "code",
   "execution_count": 44,
   "metadata": {},
   "outputs": [],
   "source": [
    "# Try another test set for Verification\n",
    "sample_index = np.random.randint(low=0,high=X.shape[1],size=100)\n",
    "x_test_2 = X[sample_index]\n",
    "y_test_2 = y[sample_index]\n",
    "x_test_2_std = mima.transform(x_test_2)\n",
    "rfc_pred2 =  rfc_best.predict(x_test_2_std)"
   ]
  },
  {
   "cell_type": "code",
   "execution_count": 45,
   "metadata": {},
   "outputs": [
    {
     "data": {
      "text/plain": [
       "0.7"
      ]
     },
     "execution_count": 45,
     "metadata": {},
     "output_type": "execute_result"
    }
   ],
   "source": [
    "accuracy_score(y_test_2,rfc_pred2)"
   ]
  },
  {
   "cell_type": "markdown",
   "metadata": {},
   "source": [
    "## Assessing Variable Importance"
   ]
  },
  {
   "cell_type": "code",
   "execution_count": 46,
   "metadata": {},
   "outputs": [],
   "source": [
    "rf_features = pd.DataFrame(rfc_best.feature_importances_.reshape(1,-1), columns=features_past).T\n",
    "rf_features['features'] = rf_features.index\n",
    "rf_features = rf_features.reset_index(drop=True)\n",
    "rf_features.columns = ['importance','features']\n"
   ]
  },
  {
   "cell_type": "code",
   "execution_count": 47,
   "metadata": {},
   "outputs": [
    {
     "data": {
      "text/html": [
       "<div>\n",
       "<style scoped>\n",
       "    .dataframe tbody tr th:only-of-type {\n",
       "        vertical-align: middle;\n",
       "    }\n",
       "\n",
       "    .dataframe tbody tr th {\n",
       "        vertical-align: top;\n",
       "    }\n",
       "\n",
       "    .dataframe thead th {\n",
       "        text-align: right;\n",
       "    }\n",
       "</style>\n",
       "<table border=\"1\" class=\"dataframe\">\n",
       "  <thead>\n",
       "    <tr style=\"text-align: right;\">\n",
       "      <th></th>\n",
       "      <th>importance</th>\n",
       "      <th>features</th>\n",
       "      <th>rank</th>\n",
       "    </tr>\n",
       "  </thead>\n",
       "  <tbody>\n",
       "    <tr>\n",
       "      <th>102</th>\n",
       "      <td>0.055659</td>\n",
       "      <td>volumeto_day_4</td>\n",
       "      <td>1</td>\n",
       "    </tr>\n",
       "    <tr>\n",
       "      <th>104</th>\n",
       "      <td>0.054427</td>\n",
       "      <td>volumeto_day_6</td>\n",
       "      <td>2</td>\n",
       "    </tr>\n",
       "    <tr>\n",
       "      <th>99</th>\n",
       "      <td>0.051707</td>\n",
       "      <td>volumeto_day_1</td>\n",
       "      <td>3</td>\n",
       "    </tr>\n",
       "    <tr>\n",
       "      <th>101</th>\n",
       "      <td>0.047624</td>\n",
       "      <td>volumeto_day_3</td>\n",
       "      <td>4</td>\n",
       "    </tr>\n",
       "    <tr>\n",
       "      <th>103</th>\n",
       "      <td>0.045009</td>\n",
       "      <td>volumeto_day_5</td>\n",
       "      <td>5</td>\n",
       "    </tr>\n",
       "  </tbody>\n",
       "</table>\n",
       "</div>"
      ],
      "text/plain": [
       "     importance        features  rank\n",
       "102    0.055659  volumeto_day_4     1\n",
       "104    0.054427  volumeto_day_6     2\n",
       "99     0.051707  volumeto_day_1     3\n",
       "101    0.047624  volumeto_day_3     4\n",
       "103    0.045009  volumeto_day_5     5"
      ]
     },
     "execution_count": 47,
     "metadata": {},
     "output_type": "execute_result"
    }
   ],
   "source": [
    "rf_features.sort_values('importance', inplace=True,ascending=False)\n",
    "rf_features['rank'] = range(1,rf_features.shape[0]+1)\n",
    "rf_features.to_pickle('rf_feature_importance.pkl')\n",
    "rf_features.head()"
   ]
  },
  {
   "cell_type": "code",
   "execution_count": 48,
   "metadata": {},
   "outputs": [
    {
     "data": {
      "text/plain": [
       "Text(0.5, 0, 'Random Forest Feature Importance')"
      ]
     },
     "execution_count": 48,
     "metadata": {},
     "output_type": "execute_result"
    },
    {
     "data": {
      "image/png": "[encoded data removed]",
      "text/plain": [
       "<Figure size 1440x360 with 1 Axes>"
      ]
     },
     "metadata": {
      "needs_background": "light"
     },
     "output_type": "display_data"
    }
   ],
   "source": [
    "fig = plt.figure(figsize=(20,5))\n",
    "plt.bar(height=rf_features.importance[:50], x=rf_features.features[:50])\n",
    "plt.xticks(rf_features.features[:50],  rotation='vertical')\n",
    "plt.xlabel('Random Forest Feature Importance')"
   ]
  },
  {
   "cell_type": "markdown",
   "metadata": {},
   "source": [
    "## Perform Cross Validation"
   ]
  },
  {
   "cell_type": "code",
   "execution_count": 49,
   "metadata": {},
   "outputs": [],
   "source": [
    "from sklearn.pipeline import Pipeline\n",
    "from sklearn.model_selection import KFold"
   ]
  },
  {
   "cell_type": "code",
   "execution_count": 50,
   "metadata": {},
   "outputs": [],
   "source": [
    "minmax_scaler = MinMaxScaler()\n",
    "#Reuse the best parameters determined above\n",
    "clf = RandomForestClassifier(criterion='entropy',max_depth= 10, max_features='auto',n_estimators=750)"
   ]
  },
  {
   "cell_type": "code",
   "execution_count": 51,
   "metadata": {},
   "outputs": [],
   "source": [
    "k = 10\n",
    "pipeline = Pipeline([('transformer',minmax_scaler),('estimator',clf)])\n",
    "cv = KFold(n_splits=k)"
   ]
  },
  {
   "cell_type": "code",
   "execution_count": 52,
   "metadata": {},
   "outputs": [],
   "source": [
    "cv_output = cross_val_score(pipeline,X,y,cv=cv)"
   ]
  },
  {
   "cell_type": "code",
   "execution_count": 74,
   "metadata": {},
   "outputs": [
    {
     "name": "stdout",
     "output_type": "stream",
     "text": [
      "Average Accuracy for Randrom Forest 10-Fold Validation 0.4582502768549281\n"
     ]
    }
   ],
   "source": [
    "print(\"Average Accuracy for Randrom Forest {}-Fold Validation {}\".format(k,np.average(cv_output)))"
   ]
  },
  {
   "cell_type": "markdown",
   "metadata": {},
   "source": [
    "## Multinomial Logistic Regression"
   ]
  },
  {
   "cell_type": "code",
   "execution_count": 56,
   "metadata": {},
   "outputs": [],
   "source": [
    "lr = LogisticRegressionCV(multi_class='multinomial', random_state=10,solver=\"newton-cg\",cv=5)"
   ]
  },
  {
   "cell_type": "markdown",
   "metadata": {},
   "source": [
    "### Train the paremeters for best ones"
   ]
  },
  {
   "cell_type": "code",
   "execution_count": 90,
   "metadata": {},
   "outputs": [],
   "source": [
    "lr_best = LogisticRegressionCV(multi_class='multinomial', random_state=10,solver=\"newton-cg\",cv=5)"
   ]
  },
  {
   "cell_type": "code",
   "execution_count": 91,
   "metadata": {},
   "outputs": [
    {
     "data": {
      "text/plain": [
       "LogisticRegressionCV(Cs=10, class_weight=None, cv=5, dual=False,\n",
       "           fit_intercept=True, intercept_scaling=1.0, max_iter=100,\n",
       "           multi_class='multinomial', n_jobs=None, penalty='l2',\n",
       "           random_state=10, refit=True, scoring=None, solver='newton-cg',\n",
       "           tol=0.0001, verbose=0)"
      ]
     },
     "execution_count": 91,
     "metadata": {},
     "output_type": "execute_result"
    }
   ],
   "source": [
    "lr_best.fit(x_train_mima, y_train)"
   ]
  },
  {
   "cell_type": "code",
   "execution_count": 92,
   "metadata": {},
   "outputs": [],
   "source": [
    "lr_best_pred = lr_best.predict(x_test_mima)"
   ]
  },
  {
   "cell_type": "code",
   "execution_count": 93,
   "metadata": {},
   "outputs": [
    {
     "data": {
      "text/plain": [
       "0.4883720930232558"
      ]
     },
     "execution_count": 93,
     "metadata": {},
     "output_type": "execute_result"
    }
   ],
   "source": [
    "accuracy_score(y_test, lr_best_pred)"
   ]
  },
  {
   "cell_type": "markdown",
   "metadata": {},
   "source": [
    "### K-Cross Validation"
   ]
  },
  {
   "cell_type": "code",
   "execution_count": 94,
   "metadata": {},
   "outputs": [],
   "source": [
    "k = 10\n",
    "lr_clf = LogisticRegressionCV(multi_class='multinomial', random_state=10,solver=\"newton-cg\", Cs=10,cv=5)\n",
    "lr_pipeline= Pipeline([('transformer',minmax_scaler),('estimator',lr_clf)])\n",
    "cv = KFold(n_splits=k)"
   ]
  },
  {
   "cell_type": "code",
   "execution_count": 95,
   "metadata": {},
   "outputs": [],
   "source": [
    "lr_cv_output = cross_val_score(lr_pipeline,X,y,cv=cv)"
   ]
  },
  {
   "cell_type": "code",
   "execution_count": 96,
   "metadata": {},
   "outputs": [
    {
     "name": "stdout",
     "output_type": "stream",
     "text": [
      "Average Accuracy for Logistic Regression 10-Fold Validation 0.43172757475083057\n"
     ]
    }
   ],
   "source": [
    "print(\"Average Accuracy for Logistic Regression {}-Fold Validation {}\".format(k,np.average(lr_cv_output)))"
   ]
  },
  {
   "cell_type": "markdown",
   "metadata": {},
   "source": [
    "### Feature Importance"
   ]
  },
  {
   "cell_type": "code",
   "execution_count": 127,
   "metadata": {},
   "outputs": [
    {
     "data": {
      "text/plain": [
       "(105,)"
      ]
     },
     "execution_count": 127,
     "metadata": {},
     "output_type": "execute_result"
    }
   ],
   "source": [
    "lr_coefs = np.average(lr_best.coef_, axis=0)\n",
    "# lr_coefs = np.sort(lr_coefs)\n",
    "# lr_coefs = np.flip(lr_coefs)\n",
    "lr_coefs.shape"
   ]
  },
  {
   "cell_type": "code",
   "execution_count": 150,
   "metadata": {},
   "outputs": [],
   "source": [
    "lr_weights = pd.DataFrame(lr_coefs).T\n",
    "lr_weights.columns =  features_past\n",
    "lr_weights = lr_weights.T\n",
    "lr_weights['features'] =  lr_weights.index\n",
    "lr_weights = lr_weights.reset_index(drop=True)\n",
    "lr_weights.columns = ['coef','features']\n",
    "lr_weights['coef_abs'] = abs(lr_weights.coef)"
   ]
  },
  {
   "cell_type": "code",
   "execution_count": 151,
   "metadata": {},
   "outputs": [],
   "source": [
    "lr_weights.sort_values('coef_abs',ascending=False,inplace=True)"
   ]
  },
  {
   "cell_type": "code",
   "execution_count": 164,
   "metadata": {},
   "outputs": [
    {
     "data": {
      "text/plain": [
       "Text(0.5, 0, 'Multinomial Logistic Regression Feature Importance')"
      ]
     },
     "execution_count": 164,
     "metadata": {},
     "output_type": "execute_result"
    },
    {
     "data": {
      "image/png": "[encoded data removed]",
      "text/plain": [
       "<Figure size 1080x360 with 1 Axes>"
      ]
     },
     "metadata": {
      "needs_background": "light"
     },
     "output_type": "display_data"
    }
   ],
   "source": [
    "fig = plt.figure(figsize=(15,5))\n",
    "plt.bar(height=lr_weights.coef_abs[:50], x=lr_weights.features[:50])\n",
    "plt.xticks(lr_weights.features[:50],  rotation='vertical')\n",
    "plt.xlabel('Multinomial Logistic Regression Feature Importance')"
   ]
  },
  {
   "cell_type": "markdown",
   "metadata": {},
   "source": [
    "## XG Boost Model"
   ]
  },
  {
   "cell_type": "code",
   "execution_count": 156,
   "metadata": {},
   "outputs": [],
   "source": [
    "from xgboost import XGBClassifier\n",
    "from xgboost import DMatrix"
   ]
  },
  {
   "cell_type": "code",
   "execution_count": 157,
   "metadata": {},
   "outputs": [],
   "source": [
    "xg = XGBClassifier(objective='multi:softmax',num_class=7)"
   ]
  },
  {
   "cell_type": "code",
   "execution_count": 158,
   "metadata": {},
   "outputs": [],
   "source": [
    "xg_param_grid = {\"max_depth\":[5,10,15]\n",
    "                ,\"n_estimators\":[100,500,750]\n",
    "                ,\"min_child_weight\":[1,3,5]}"
   ]
  },
  {
   "cell_type": "markdown",
   "metadata": {},
   "source": [
    "### Search for best parameters"
   ]
  },
  {
   "cell_type": "code",
   "execution_count": 159,
   "metadata": {},
   "outputs": [
    {
     "name": "stderr",
     "output_type": "stream",
     "text": [
      "/Users/AdrianTran/anaconda3/lib/python3.7/site-packages/sklearn/model_selection/_search.py:841: DeprecationWarning:\n",
      "\n",
      "The default of the `iid` parameter will change from True to False in version 0.22 and will be removed in 0.24. This will change numeric results when test-set sizes are unequal.\n",
      "\n"
     ]
    },
    {
     "data": {
      "text/plain": [
       "GridSearchCV(cv=10, error_score='raise-deprecating',\n",
       "       estimator=XGBClassifier(base_score=0.5, booster='gbtree', colsample_bylevel=1,\n",
       "       colsample_bynode=1, colsample_bytree=1, gamma=0, learning_rate=0.1,\n",
       "       max_delta_step=0, max_depth=3, min_child_weight=1, missing=None,\n",
       "       n_estimators=100, n_jobs=1, nthread=None, num_class=7,\n",
       "       objective='multi:softmax', random_state=0, reg_alpha=0,\n",
       "       reg_lambda=1, scale_pos_weight=1, seed=None, silent=None,\n",
       "       subsample=1, verbosity=1),\n",
       "       fit_params=None, iid='warn', n_jobs=None,\n",
       "       param_grid={'max_depth': [5, 10, 15], 'n_estimators': [100, 500, 750], 'min_child_weight': [1, 3, 5]},\n",
       "       pre_dispatch='2*n_jobs', refit=True, return_train_score='warn',\n",
       "       scoring=None, verbose=0)"
      ]
     },
     "execution_count": 159,
     "metadata": {},
     "output_type": "execute_result"
    }
   ],
   "source": [
    "xg_grid_cv = GridSearchCV(estimator=xg,param_grid=xg_param_grid,cv=10)\n",
    "xg_grid_cv.fit(x_train_mima,y_train)"
   ]
  },
  {
   "cell_type": "code",
   "execution_count": 160,
   "metadata": {},
   "outputs": [
    {
     "data": {
      "text/plain": [
       "{'max_depth': 15, 'min_child_weight': 3, 'n_estimators': 100}"
      ]
     },
     "execution_count": 160,
     "metadata": {},
     "output_type": "execute_result"
    }
   ],
   "source": [
    "xg_grid_cv.best_params_"
   ]
  },
  {
   "cell_type": "markdown",
   "metadata": {},
   "source": [
    "### Train on scaled data"
   ]
  },
  {
   "cell_type": "code",
   "execution_count": 215,
   "metadata": {},
   "outputs": [
    {
     "data": {
      "text/plain": [
       "XGBClassifier(base_score=0.5, booster='gbtree', colsample_bylevel=1,\n",
       "       colsample_bynode=1, colsample_bytree=1, gamma=0, learning_rate=0.1,\n",
       "       max_delta_step=0, max_depth=15, min_child_weight=1, missing=None,\n",
       "       n_estimators=100, n_jobs=1, nthread=None, num_class=4,\n",
       "       objective='multi:softprob', random_state=0, reg_alpha=0,\n",
       "       reg_lambda=1, scale_pos_weight=1, seed=None, silent=None,\n",
       "       subsample=1, verbosity=1)"
      ]
     },
     "execution_count": 215,
     "metadata": {},
     "output_type": "execute_result"
    }
   ],
   "source": [
    "xg_best = XGBClassifier(objective='multi:softmax',num_class=4, max_depth=15, n_estimators=100,min_child_weight=1)\n",
    "xg_best.fit(x_train_mima,y_train)"
   ]
  },
  {
   "cell_type": "code",
   "execution_count": 216,
   "metadata": {},
   "outputs": [],
   "source": [
    "xg_pred = xg_best.predict(x_test_mima)"
   ]
  },
  {
   "cell_type": "code",
   "execution_count": 217,
   "metadata": {},
   "outputs": [
    {
     "data": {
      "text/plain": [
       "0.47674418604651164"
      ]
     },
     "execution_count": 217,
     "metadata": {},
     "output_type": "execute_result"
    }
   ],
   "source": [
    "accuracy_score(y_test,xg_pred)"
   ]
  },
  {
   "cell_type": "markdown",
   "metadata": {},
   "source": [
    "### Feature Importance\n",
    "Note that there are many types of features importance in XGBoost. \n",
    "__Quoted__:https://datascience.stackexchange.com/questions/12318/how-to-interpret-the-output-of-xgboost-importance\n",
    "\n",
    "The Gain implies the relative contribution of the corresponding feature to the model calculated by taking each feature's contribution for each tree in the model. A higher value of this metric when compared to another feature implies it is more important for generating a prediction.\n",
    "\n",
    "The Cover metric means the relative number of observations related to this feature. For example, if you have 100 observations, 4 features and 3 trees, and suppose feature1 is used to decide the leaf node for 10, 5, and 2 observations in tree1, tree2 and tree3 respectively; then the metric will count cover for this feature as 10+5+2 = 17 observations. This will be calculated for all the 4 features and the cover will be 17 expressed as a percentage for all features' cover metrics.\n",
    "\n",
    "The Frequency (/'Frequence') is the percentage representing the relative number of times a particular feature occurs in the trees of the model. In the above example, if feature1 occurred in 2 splits, 1 split and 3 splits in each of tree1, tree2 and tree3; then the weightage for feature1 will be 2+1+3 = 6. The frequency for feature1 is calculated as its percentage weight over weights of all features."
   ]
  },
  {
   "cell_type": "code",
   "execution_count": 218,
   "metadata": {},
   "outputs": [
    {
     "data": {
      "text/plain": [
       "Text(0.5, 0, 'XG feature Importance by WEIGHT')"
      ]
     },
     "execution_count": 218,
     "metadata": {},
     "output_type": "execute_result"
    },
    {
     "data": {
      "image/png": "[encoded data removed]",
      "text/plain": [
       "<Figure size 1440x360 with 1 Axes>"
      ]
     },
     "metadata": {
      "needs_background": "light"
     },
     "output_type": "display_data"
    }
   ],
   "source": [
    "#This is IMPORTANCE explicitly by Weight\n",
    "xg_weight = pd.DataFrame(xg_best.get_booster().get_fscore(), index=[0]).T\n",
    "xg_weight['weight_norm'] = xg_weight/np.sum(xg_weight[0])\n",
    "xg_weight['index_orig'] = xg_weight.index\n",
    "xg_weight['index_orig'] = xg_weight.index_orig.apply(lambda x:int(x[1:]))\n",
    "xg_weight.sort_values('index_orig',inplace=True)\n",
    "xg_weight =  pd.merge(left=xg_weight,left_on='index_orig',right=pd.DataFrame(features_past),right_index=True,how='left')\n",
    "xg_weight.reset_index(drop=True) \n",
    "xg_weight.columns = ['fscore','weight_norm','index_orig','feature']\n",
    "xg_weight.sort_values('fscore',ascending=False,inplace=True)\n",
    "fig = plt.figure(figsize=(20,5))\n",
    "plt.bar(x=xg_weight.feature,height=xg_weight.fscore)\n",
    "plt.xticks(xg_weight.feature, rotation='vertical')\n",
    "plt.xlabel('XG feature Importance by WEIGHT')"
   ]
  },
  {
   "cell_type": "code",
   "execution_count": 219,
   "metadata": {},
   "outputs": [],
   "source": [
    "xg_features = pd.DataFrame(xg_best.feature_importances_.reshape(-1,1), columns=['xg_importance'])\n",
    "xg_features['xg_features'] = features_past"
   ]
  },
  {
   "cell_type": "code",
   "execution_count": 220,
   "metadata": {},
   "outputs": [],
   "source": [
    "xg_features.sort_values('xg_importance',inplace=True, ascending=False)\n",
    "xg_features.head()\n",
    "xg_features['rank'] = range(1,xg_features.shape[0]+1)\n",
    "xg_features.to_pickle('xg_feature_importance.pkl')"
   ]
  },
  {
   "cell_type": "code",
   "execution_count": 221,
   "metadata": {},
   "outputs": [
    {
     "data": {
      "text/html": [
       "<div>\n",
       "<style scoped>\n",
       "    .dataframe tbody tr th:only-of-type {\n",
       "        vertical-align: middle;\n",
       "    }\n",
       "\n",
       "    .dataframe tbody tr th {\n",
       "        vertical-align: top;\n",
       "    }\n",
       "\n",
       "    .dataframe thead th {\n",
       "        text-align: right;\n",
       "    }\n",
       "</style>\n",
       "<table border=\"1\" class=\"dataframe\">\n",
       "  <thead>\n",
       "    <tr style=\"text-align: right;\">\n",
       "      <th></th>\n",
       "      <th>xg_importance</th>\n",
       "      <th>xg_features</th>\n",
       "      <th>rank</th>\n",
       "    </tr>\n",
       "  </thead>\n",
       "  <tbody>\n",
       "    <tr>\n",
       "      <th>101</th>\n",
       "      <td>0.065179</td>\n",
       "      <td>volumeto_day_3</td>\n",
       "      <td>1</td>\n",
       "    </tr>\n",
       "    <tr>\n",
       "      <th>98</th>\n",
       "      <td>0.060551</td>\n",
       "      <td>volumeto_6</td>\n",
       "      <td>2</td>\n",
       "    </tr>\n",
       "    <tr>\n",
       "      <th>12</th>\n",
       "      <td>0.037673</td>\n",
       "      <td>close_1</td>\n",
       "      <td>3</td>\n",
       "    </tr>\n",
       "    <tr>\n",
       "      <th>28</th>\n",
       "      <td>0.037069</td>\n",
       "      <td>high_4</td>\n",
       "      <td>4</td>\n",
       "    </tr>\n",
       "    <tr>\n",
       "      <th>23</th>\n",
       "      <td>0.030794</td>\n",
       "      <td>close_day_6</td>\n",
       "      <td>5</td>\n",
       "    </tr>\n",
       "  </tbody>\n",
       "</table>\n",
       "</div>"
      ],
      "text/plain": [
       "     xg_importance     xg_features  rank\n",
       "101       0.065179  volumeto_day_3     1\n",
       "98        0.060551      volumeto_6     2\n",
       "12        0.037673         close_1     3\n",
       "28        0.037069          high_4     4\n",
       "23        0.030794     close_day_6     5"
      ]
     },
     "execution_count": 221,
     "metadata": {},
     "output_type": "execute_result"
    }
   ],
   "source": [
    "xg_features[xg_features['rank'] <= 5]"
   ]
  },
  {
   "cell_type": "code",
   "execution_count": 222,
   "metadata": {},
   "outputs": [
    {
     "data": {
      "text/plain": [
       "Text(0.5, 0, 'XGBOOST Feature Importance by GAIN')"
      ]
     },
     "execution_count": 222,
     "metadata": {},
     "output_type": "execute_result"
    },
    {
     "data": {
      "image/png": "[encoded data removed]",
      "text/plain": [
       "<Figure size 1440x360 with 1 Axes>"
      ]
     },
     "metadata": {
      "needs_background": "light"
     },
     "output_type": "display_data"
    }
   ],
   "source": [
    "fig = plt.figure(figsize=(20,5))\n",
    "plt.bar(x=xg_features.xg_features[:50], height=xg_features.xg_importance[:50])\n",
    "plt.xticks(xg_features.xg_features[:50], rotation='vertical')\n",
    "plt.xlabel('XGBOOST Feature Importance by GAIN')"
   ]
  },
  {
   "cell_type": "code",
   "execution_count": null,
   "metadata": {
    "scrolled": true
   },
   "outputs": [],
   "source": [
    "#For reference only\n",
    "# fig = xgboost.plot_importance(xg_best, importance_type='weight')\n",
    "# plt.rcParams['figure.figsize'] = [20, 15]\n",
    "# plt.show()"
   ]
  },
  {
   "cell_type": "markdown",
   "metadata": {},
   "source": [
    "### K-cross Validation"
   ]
  },
  {
   "cell_type": "code",
   "execution_count": 249,
   "metadata": {},
   "outputs": [],
   "source": [
    "minmax_scaler = MinMaxScaler()\n",
    "std_scaler = StandardScaler()\n",
    "xg_clf = XGBClassifier(objective='multi:softmax',num_class=4, max_depth=15, \n",
    "                       n_estimators=100,min_child_weight=1)"
   ]
  },
  {
   "cell_type": "code",
   "execution_count": 250,
   "metadata": {},
   "outputs": [],
   "source": [
    "k = 10\n",
    "xg_pipe = Pipeline([('transformer',minmax_scaler),('estimator',xg_clf)])\n",
    "xg_cv = KFold(n_splits=k)"
   ]
  },
  {
   "cell_type": "code",
   "execution_count": 251,
   "metadata": {},
   "outputs": [],
   "source": [
    "xg_cv_output = cross_val_score(xg_pipe,X,y,cv=cv)"
   ]
  },
  {
   "cell_type": "code",
   "execution_count": 252,
   "metadata": {},
   "outputs": [
    {
     "name": "stdout",
     "output_type": "stream",
     "text": [
      "Average Accuracy for 10-Fold Validation 0.49086378737541525\n"
     ]
    }
   ],
   "source": [
    "print(\"Average Accuracy for {}-Fold Validation {}\".format(k,np.average(xg_cv_output)))"
   ]
  },
  {
   "cell_type": "markdown",
   "metadata": {},
   "source": [
    "## KNN Neighbors"
   ]
  },
  {
   "cell_type": "code",
   "execution_count": 234,
   "metadata": {},
   "outputs": [],
   "source": [
    "from sklearn.neighbors import KNeighborsClassifier"
   ]
  },
  {
   "cell_type": "code",
   "execution_count": 235,
   "metadata": {},
   "outputs": [],
   "source": [
    "knn = KNeighborsClassifier()"
   ]
  },
  {
   "cell_type": "code",
   "execution_count": 236,
   "metadata": {},
   "outputs": [],
   "source": [
    "knn_grid_search = {\"n_neighbors\":[5,10,15,20]} "
   ]
  },
  {
   "cell_type": "code",
   "execution_count": 237,
   "metadata": {},
   "outputs": [
    {
     "name": "stderr",
     "output_type": "stream",
     "text": [
      "/Users/AdrianTran/anaconda3/lib/python3.7/site-packages/sklearn/model_selection/_split.py:2053: FutureWarning:\n",
      "\n",
      "You should specify a value for 'cv' instead of relying on the default value. The default value will change from 3 to 5 in version 0.22.\n",
      "\n",
      "/Users/AdrianTran/anaconda3/lib/python3.7/site-packages/sklearn/model_selection/_search.py:841: DeprecationWarning:\n",
      "\n",
      "The default of the `iid` parameter will change from True to False in version 0.22 and will be removed in 0.24. This will change numeric results when test-set sizes are unequal.\n",
      "\n"
     ]
    },
    {
     "data": {
      "text/plain": [
       "GridSearchCV(cv='warn', error_score='raise-deprecating',\n",
       "       estimator=KNeighborsClassifier(algorithm='auto', leaf_size=30, metric='minkowski',\n",
       "           metric_params=None, n_jobs=None, n_neighbors=5, p=2,\n",
       "           weights='uniform'),\n",
       "       fit_params=None, iid='warn', n_jobs=None,\n",
       "       param_grid={'n_neighbors': [5, 10, 15, 20]},\n",
       "       pre_dispatch='2*n_jobs', refit=True, return_train_score='warn',\n",
       "       scoring=None, verbose=0)"
      ]
     },
     "execution_count": 237,
     "metadata": {},
     "output_type": "execute_result"
    }
   ],
   "source": [
    "knn_cv = GridSearchCV(estimator=knn, param_grid=knn_grid_search)\n",
    "knn_cv.fit(x_train_mima, y_train)"
   ]
  },
  {
   "cell_type": "code",
   "execution_count": 238,
   "metadata": {},
   "outputs": [
    {
     "data": {
      "text/plain": [
       "{'n_neighbors': 20}"
      ]
     },
     "execution_count": 238,
     "metadata": {},
     "output_type": "execute_result"
    }
   ],
   "source": [
    "knn_cv.best_params_"
   ]
  },
  {
   "cell_type": "code",
   "execution_count": 239,
   "metadata": {},
   "outputs": [
    {
     "data": {
      "text/plain": [
       "KNeighborsClassifier(algorithm='auto', leaf_size=30, metric='minkowski',\n",
       "           metric_params=None, n_jobs=None, n_neighbors=20, p=2,\n",
       "           weights='uniform')"
      ]
     },
     "execution_count": 239,
     "metadata": {},
     "output_type": "execute_result"
    }
   ],
   "source": [
    "knn_best = KNeighborsClassifier(n_neighbors=20)\n",
    "knn_best.fit(x_train_mima,y_train)"
   ]
  },
  {
   "cell_type": "code",
   "execution_count": 240,
   "metadata": {},
   "outputs": [],
   "source": [
    "knn_pred = knn_best.predict(x_test_std)"
   ]
  },
  {
   "cell_type": "code",
   "execution_count": 241,
   "metadata": {},
   "outputs": [
    {
     "data": {
      "text/plain": [
       "0.4418604651162791"
      ]
     },
     "execution_count": 241,
     "metadata": {},
     "output_type": "execute_result"
    }
   ],
   "source": [
    "accuracy_score(y_test, knn_pred)"
   ]
  },
  {
   "cell_type": "markdown",
   "metadata": {},
   "source": [
    "### K-Cross Validation"
   ]
  },
  {
   "cell_type": "code",
   "execution_count": 242,
   "metadata": {},
   "outputs": [],
   "source": [
    "k=10\n",
    "knn_clf = KNeighborsClassifier(n_neighbors=20)\n",
    "knn_pipeline = Pipeline([('transformer',minmax_scaler),('estimator',knn_clf)])\n",
    "cv = KFold(n_splits=k)"
   ]
  },
  {
   "cell_type": "code",
   "execution_count": 243,
   "metadata": {},
   "outputs": [],
   "source": [
    "knn_cv_output = cross_val_score(knn_pipeline,X,y,cv=cv)"
   ]
  },
  {
   "cell_type": "code",
   "execution_count": 244,
   "metadata": {},
   "outputs": [
    {
     "name": "stdout",
     "output_type": "stream",
     "text": [
      "Average Accuracy for KNN 10-Fold Validation 0.3171650055370986\n"
     ]
    }
   ],
   "source": [
    "print(\"Average Accuracy for KNN {}-Fold Validation {}\".format(k,np.average(knn_cv_output)))"
   ]
  },
  {
   "cell_type": "code",
   "execution_count": null,
   "metadata": {},
   "outputs": [],
   "source": []
  },
  {
   "cell_type": "code",
   "execution_count": null,
   "metadata": {},
   "outputs": [],
   "source": []
  }
 ],
 "metadata": {
  "kernelspec": {
   "display_name": "Python 3",
   "language": "python",
   "name": "python3"
  },
  "language_info": {
   "codemirror_mode": {
    "name": "ipython",
    "version": 3
   },
   "file_extension": ".py",
   "mimetype": "text/x-python",
   "name": "python",
   "nbconvert_exporter": "python",
   "pygments_lexer": "ipython3",
   "version": "3.7.4"
  },
  "varInspector": {
   "cols": {
    "lenName": 16,
    "lenType": 16,
    "lenVar": 40
   },
   "kernels_config": {
    "python": {
     "delete_cmd_postfix": "",
     "delete_cmd_prefix": "del ",
     "library": "var_list.py",
     "varRefreshCmd": "print(var_dic_list())"
    },
    "r": {
     "delete_cmd_postfix": ") ",
     "delete_cmd_prefix": "rm(",
     "library": "var_list.r",
     "varRefreshCmd": "cat(var_dic_list()) "
    }
   },
   "types_to_exclude": [
    "module",
    "function",
    "builtin_function_or_method",
    "instance",
    "_Feature"
   ],
   "window_display": false
  }
 },
 "nbformat": 4,
 "nbformat_minor": 2
}
