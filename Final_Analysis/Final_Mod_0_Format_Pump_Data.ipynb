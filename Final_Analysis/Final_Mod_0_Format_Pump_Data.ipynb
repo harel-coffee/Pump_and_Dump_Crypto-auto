{
 "cells": [
  {
   "cell_type": "markdown",
   "metadata": {},
   "source": [
    "## INTRODUCTION\n",
    "Based on the preliminary modules, we officially analyze and retrieve data from PumpOlymp's database of all pumps that happened since June 1st 2018"
   ]
  },
  {
   "cell_type": "code",
   "execution_count": 1,
   "metadata": {},
   "outputs": [],
   "source": [
    "import pandas as pd \n",
    "import numpy as np\n",
    "import json \n",
    "import requests \n",
    "import time  as sleeper\n",
    "from datetime import datetime, date, time, timedelta\n",
    "import pytz\n",
    "import matplotlib.pyplot as plt\n",
    "import matplotlib.dates as mdate\n",
    "from mpl_finance import candlestick_ohlc\n",
    "import seaborn as sns\n",
    "import plotly.graph_objects as go\n",
    "import plotly.express as px\n",
    "import matplotlib.ticker as mticker\n",
    "%load_ext autoreload"
   ]
  },
  {
   "cell_type": "code",
   "execution_count": 2,
   "metadata": {},
   "outputs": [],
   "source": [
    "import os, sys\n",
    "sys.path.append('../..') #Append the directory above to the path *verify levels*\n",
    "import utils"
   ]
  },
  {
   "cell_type": "markdown",
   "metadata": {},
   "source": [
    "### Import the historical data\n",
    ".originally downloaded on 2019-09-01. \n",
    "But for final analyses we are using the latest file from PumpOlymp spreading from __06/2018__ to __12/2019__"
   ]
  },
  {
   "cell_type": "code",
   "execution_count": 3,
   "metadata": {},
   "outputs": [],
   "source": [
    "dt = pd.read_json('../../allPumps_20200201.json')"
   ]
  },
  {
   "cell_type": "code",
   "execution_count": 4,
   "metadata": {},
   "outputs": [
    {
     "data": {
      "text/plain": [
       "array(['marketHistoryEntries', 'currency', 'exchange', 'channelTitle',\n",
       "       'channelLink', 'max', 'priceBeforePump', 'duration', 'volume',\n",
       "       'signalTime', 'ourBuyPrice', 'ourBuyTime', 'ourProfit',\n",
       "       'theoreticalBuyPrice', 'theoreticalBuyTime', 'theoreticalProfit',\n",
       "       'id'], dtype=object)"
      ]
     },
     "execution_count": 4,
     "metadata": {},
     "output_type": "execute_result"
    }
   ],
   "source": [
    "dt.columns.values"
   ]
  },
  {
   "cell_type": "code",
   "execution_count": 5,
   "metadata": {},
   "outputs": [],
   "source": [
    "all_pumps = dt[['channelLink','channelTitle','currency','duration','exchange','priceBeforePump','signalTime']]\n",
    "all_pumps = all_pumps.reset_index(drop=True)"
   ]
  },
  {
   "cell_type": "code",
   "execution_count": 6,
   "metadata": {},
   "outputs": [
    {
     "data": {
      "text/html": [
       "<div>\n",
       "<style scoped>\n",
       "    .dataframe tbody tr th:only-of-type {\n",
       "        vertical-align: middle;\n",
       "    }\n",
       "\n",
       "    .dataframe tbody tr th {\n",
       "        vertical-align: top;\n",
       "    }\n",
       "\n",
       "    .dataframe thead th {\n",
       "        text-align: right;\n",
       "    }\n",
       "</style>\n",
       "<table border=\"1\" class=\"dataframe\">\n",
       "  <thead>\n",
       "    <tr style=\"text-align: right;\">\n",
       "      <th></th>\n",
       "      <th>channelLink</th>\n",
       "      <th>channelTitle</th>\n",
       "      <th>currency</th>\n",
       "      <th>duration</th>\n",
       "      <th>exchange</th>\n",
       "      <th>priceBeforePump</th>\n",
       "      <th>signalTime</th>\n",
       "    </tr>\n",
       "  </thead>\n",
       "  <tbody>\n",
       "    <tr>\n",
       "      <td>0</td>\n",
       "      <td>https://t.me/crypto_pump_island</td>\n",
       "      <td>Crypto Pump Island</td>\n",
       "      <td>NAV</td>\n",
       "      <td>03:20</td>\n",
       "      <td>Binance</td>\n",
       "      <td>0.000012</td>\n",
       "      <td>2019-12-19T17:00:15</td>\n",
       "    </tr>\n",
       "    <tr>\n",
       "      <td>1</td>\n",
       "      <td>https://t.me/Bull_Signals_Strategies</td>\n",
       "      <td>Bull ⚡️ Signals</td>\n",
       "      <td>REN</td>\n",
       "      <td>00:21</td>\n",
       "      <td>Yobit</td>\n",
       "      <td>0.000005</td>\n",
       "      <td>2019-12-18T15:00:05</td>\n",
       "    </tr>\n",
       "    <tr>\n",
       "      <td>2</td>\n",
       "      <td>https://t.me/Bull_Signals_Strategies</td>\n",
       "      <td>Bull ⚡️ Signals</td>\n",
       "      <td>FTM</td>\n",
       "      <td>01:35</td>\n",
       "      <td>Yobit</td>\n",
       "      <td>0.000002</td>\n",
       "      <td>2019-12-14T14:00:04</td>\n",
       "    </tr>\n",
       "    <tr>\n",
       "      <td>3</td>\n",
       "      <td>https://t.me/crypto_family_new</td>\n",
       "      <td>CryptoFamily Binance / Bittrex</td>\n",
       "      <td>CURE</td>\n",
       "      <td>00:39</td>\n",
       "      <td>Bittrex</td>\n",
       "      <td>0.000006</td>\n",
       "      <td>2019-12-12T20:00:07.763</td>\n",
       "    </tr>\n",
       "    <tr>\n",
       "      <td>4</td>\n",
       "      <td>https://t.me/crypto_lions</td>\n",
       "      <td>Crypto Lion's™</td>\n",
       "      <td>DUSK</td>\n",
       "      <td>01:14</td>\n",
       "      <td>Binance</td>\n",
       "      <td>0.000006</td>\n",
       "      <td>2019-12-12T13:57:29</td>\n",
       "    </tr>\n",
       "  </tbody>\n",
       "</table>\n",
       "</div>"
      ],
      "text/plain": [
       "                            channelLink                    channelTitle  \\\n",
       "0       https://t.me/crypto_pump_island              Crypto Pump Island   \n",
       "1  https://t.me/Bull_Signals_Strategies                 Bull ⚡️ Signals   \n",
       "2  https://t.me/Bull_Signals_Strategies                 Bull ⚡️ Signals   \n",
       "3        https://t.me/crypto_family_new  CryptoFamily Binance / Bittrex   \n",
       "4             https://t.me/crypto_lions                  Crypto Lion's™   \n",
       "\n",
       "  currency duration exchange  priceBeforePump               signalTime  \n",
       "0      NAV    03:20  Binance         0.000012      2019-12-19T17:00:15  \n",
       "1      REN    00:21    Yobit         0.000005      2019-12-18T15:00:05  \n",
       "2      FTM    01:35    Yobit         0.000002      2019-12-14T14:00:04  \n",
       "3     CURE    00:39  Bittrex         0.000006  2019-12-12T20:00:07.763  \n",
       "4     DUSK    01:14  Binance         0.000006      2019-12-12T13:57:29  "
      ]
     },
     "execution_count": 6,
     "metadata": {},
     "output_type": "execute_result"
    }
   ],
   "source": [
    "all_pumps.head()"
   ]
  },
  {
   "cell_type": "markdown",
   "metadata": {},
   "source": [
    "Append the edited Time and Timestamp"
   ]
  },
  {
   "cell_type": "code",
   "execution_count": 7,
   "metadata": {},
   "outputs": [],
   "source": [
    "to_datetime = lambda x : datetime.strptime(x.replace('T',' ').replace('Z','')[:19]+' +0000',\"%Y-%m-%d %H:%M:%S %z\")\n",
    "to_unix = lambda x: str(int(datetime.timestamp(x)))"
   ]
  },
  {
   "cell_type": "code",
   "execution_count": 8,
   "metadata": {},
   "outputs": [],
   "source": [
    "all_pumps['pumptime_edited'] = all_pumps.signalTime.apply(lambda x : to_datetime(x))\n",
    "all_pumps['timestamp'] = all_pumps.pumptime_edited.apply(to_unix)\n",
    "all_pumps['event_date'] = all_pumps.pumptime_edited.apply(lambda x:x.date)\n",
    "all_pumps['event_time'] = all_pumps.pumptime_edited.apply(lambda x:x.time)\n",
    "all_pumps['pump_year'] = all_pumps.pumptime_edited.apply(lambda x:x.year)\n",
    "all_pumps['pump_weekday'] = all_pumps.pumptime_edited.apply(lambda x: x.weekday)\n",
    "all_pumps['pump_date'] = all_pumps.pumptime_edited.apply(lambda x: x.day)\n",
    "#Pump hour ignores the minutes in this iteration\n",
    "all_pumps['pump_hour'] = all_pumps.pumptime_edited.apply(lambda x: x.hour)\n",
    "all_pumps['pump_minute'] = all_pumps.pumptime_edited.apply(lambda x: x.minute)"
   ]
  },
  {
   "cell_type": "code",
   "execution_count": 9,
   "metadata": {},
   "outputs": [
    {
     "data": {
      "text/html": [
       "<div>\n",
       "<style scoped>\n",
       "    .dataframe tbody tr th:only-of-type {\n",
       "        vertical-align: middle;\n",
       "    }\n",
       "\n",
       "    .dataframe tbody tr th {\n",
       "        vertical-align: top;\n",
       "    }\n",
       "\n",
       "    .dataframe thead th {\n",
       "        text-align: right;\n",
       "    }\n",
       "</style>\n",
       "<table border=\"1\" class=\"dataframe\">\n",
       "  <thead>\n",
       "    <tr style=\"text-align: right;\">\n",
       "      <th></th>\n",
       "      <th>channelLink</th>\n",
       "      <th>channelTitle</th>\n",
       "      <th>currency</th>\n",
       "      <th>duration</th>\n",
       "      <th>exchange</th>\n",
       "      <th>priceBeforePump</th>\n",
       "      <th>signalTime</th>\n",
       "      <th>pumptime_edited</th>\n",
       "      <th>timestamp</th>\n",
       "      <th>event_date</th>\n",
       "      <th>event_time</th>\n",
       "      <th>pump_year</th>\n",
       "      <th>pump_weekday</th>\n",
       "      <th>pump_date</th>\n",
       "      <th>pump_hour</th>\n",
       "      <th>pump_minute</th>\n",
       "    </tr>\n",
       "  </thead>\n",
       "  <tbody>\n",
       "    <tr>\n",
       "      <td>0</td>\n",
       "      <td>https://t.me/crypto_pump_island</td>\n",
       "      <td>Crypto Pump Island</td>\n",
       "      <td>NAV</td>\n",
       "      <td>03:20</td>\n",
       "      <td>Binance</td>\n",
       "      <td>0.000012</td>\n",
       "      <td>2019-12-19T17:00:15</td>\n",
       "      <td>2019-12-19 17:00:15+00:00</td>\n",
       "      <td>1576774815</td>\n",
       "      <td>2019-12-19</td>\n",
       "      <td>17:00:15</td>\n",
       "      <td>2019</td>\n",
       "      <td>3</td>\n",
       "      <td>19</td>\n",
       "      <td>17</td>\n",
       "      <td>0</td>\n",
       "    </tr>\n",
       "    <tr>\n",
       "      <td>1</td>\n",
       "      <td>https://t.me/Bull_Signals_Strategies</td>\n",
       "      <td>Bull ⚡️ Signals</td>\n",
       "      <td>REN</td>\n",
       "      <td>00:21</td>\n",
       "      <td>Yobit</td>\n",
       "      <td>0.000005</td>\n",
       "      <td>2019-12-18T15:00:05</td>\n",
       "      <td>2019-12-18 15:00:05+00:00</td>\n",
       "      <td>1576681205</td>\n",
       "      <td>2019-12-18</td>\n",
       "      <td>15:00:05</td>\n",
       "      <td>2019</td>\n",
       "      <td>2</td>\n",
       "      <td>18</td>\n",
       "      <td>15</td>\n",
       "      <td>0</td>\n",
       "    </tr>\n",
       "    <tr>\n",
       "      <td>2</td>\n",
       "      <td>https://t.me/Bull_Signals_Strategies</td>\n",
       "      <td>Bull ⚡️ Signals</td>\n",
       "      <td>FTM</td>\n",
       "      <td>01:35</td>\n",
       "      <td>Yobit</td>\n",
       "      <td>0.000002</td>\n",
       "      <td>2019-12-14T14:00:04</td>\n",
       "      <td>2019-12-14 14:00:04+00:00</td>\n",
       "      <td>1576332004</td>\n",
       "      <td>2019-12-14</td>\n",
       "      <td>14:00:04</td>\n",
       "      <td>2019</td>\n",
       "      <td>5</td>\n",
       "      <td>14</td>\n",
       "      <td>14</td>\n",
       "      <td>0</td>\n",
       "    </tr>\n",
       "    <tr>\n",
       "      <td>3</td>\n",
       "      <td>https://t.me/crypto_family_new</td>\n",
       "      <td>CryptoFamily Binance / Bittrex</td>\n",
       "      <td>CURE</td>\n",
       "      <td>00:39</td>\n",
       "      <td>Bittrex</td>\n",
       "      <td>0.000006</td>\n",
       "      <td>2019-12-12T20:00:07.763</td>\n",
       "      <td>2019-12-12 20:00:07+00:00</td>\n",
       "      <td>1576180807</td>\n",
       "      <td>2019-12-12</td>\n",
       "      <td>20:00:07</td>\n",
       "      <td>2019</td>\n",
       "      <td>3</td>\n",
       "      <td>12</td>\n",
       "      <td>20</td>\n",
       "      <td>0</td>\n",
       "    </tr>\n",
       "    <tr>\n",
       "      <td>4</td>\n",
       "      <td>https://t.me/crypto_lions</td>\n",
       "      <td>Crypto Lion's™</td>\n",
       "      <td>DUSK</td>\n",
       "      <td>01:14</td>\n",
       "      <td>Binance</td>\n",
       "      <td>0.000006</td>\n",
       "      <td>2019-12-12T13:57:29</td>\n",
       "      <td>2019-12-12 13:57:29+00:00</td>\n",
       "      <td>1576159049</td>\n",
       "      <td>2019-12-12</td>\n",
       "      <td>13:57:29</td>\n",
       "      <td>2019</td>\n",
       "      <td>3</td>\n",
       "      <td>12</td>\n",
       "      <td>13</td>\n",
       "      <td>57</td>\n",
       "    </tr>\n",
       "  </tbody>\n",
       "</table>\n",
       "</div>"
      ],
      "text/plain": [
       "                            channelLink                    channelTitle  \\\n",
       "0       https://t.me/crypto_pump_island              Crypto Pump Island   \n",
       "1  https://t.me/Bull_Signals_Strategies                 Bull ⚡️ Signals   \n",
       "2  https://t.me/Bull_Signals_Strategies                 Bull ⚡️ Signals   \n",
       "3        https://t.me/crypto_family_new  CryptoFamily Binance / Bittrex   \n",
       "4             https://t.me/crypto_lions                  Crypto Lion's™   \n",
       "\n",
       "  currency duration exchange  priceBeforePump               signalTime  \\\n",
       "0      NAV    03:20  Binance         0.000012      2019-12-19T17:00:15   \n",
       "1      REN    00:21    Yobit         0.000005      2019-12-18T15:00:05   \n",
       "2      FTM    01:35    Yobit         0.000002      2019-12-14T14:00:04   \n",
       "3     CURE    00:39  Bittrex         0.000006  2019-12-12T20:00:07.763   \n",
       "4     DUSK    01:14  Binance         0.000006      2019-12-12T13:57:29   \n",
       "\n",
       "            pumptime_edited   timestamp  event_date event_time  pump_year  \\\n",
       "0 2019-12-19 17:00:15+00:00  1576774815  2019-12-19   17:00:15       2019   \n",
       "1 2019-12-18 15:00:05+00:00  1576681205  2019-12-18   15:00:05       2019   \n",
       "2 2019-12-14 14:00:04+00:00  1576332004  2019-12-14   14:00:04       2019   \n",
       "3 2019-12-12 20:00:07+00:00  1576180807  2019-12-12   20:00:07       2019   \n",
       "4 2019-12-12 13:57:29+00:00  1576159049  2019-12-12   13:57:29       2019   \n",
       "\n",
       "   pump_weekday  pump_date  pump_hour  pump_minute  \n",
       "0             3         19         17            0  \n",
       "1             2         18         15            0  \n",
       "2             5         14         14            0  \n",
       "3             3         12         20            0  \n",
       "4             3         12         13           57  "
      ]
     },
     "execution_count": 9,
     "metadata": {},
     "output_type": "execute_result"
    }
   ],
   "source": [
    "all_pumps.head() "
   ]
  },
  {
   "cell_type": "code",
   "execution_count": 10,
   "metadata": {},
   "outputs": [],
   "source": [
    "#There is 1 noise pump at 1999. Eliminate it. \n",
    "all_pumps = all_pumps[all_pumps.pump_year != 1999]"
   ]
  },
  {
   "cell_type": "markdown",
   "metadata": {},
   "source": [
    "__NOTE__: manually verify the timestamp to make sure that it is the correct __UTC__ representation"
   ]
  },
  {
   "cell_type": "code",
   "execution_count": 11,
   "metadata": {},
   "outputs": [
    {
     "data": {
      "text/plain": [
       "count                           885\n",
       "unique                          879\n",
       "top       2018-12-16 17:00:03+00:00\n",
       "freq                              2\n",
       "first     2018-06-17 18:15:29+00:00\n",
       "last      2019-12-19 17:00:15+00:00\n",
       "Name: pumptime_edited, dtype: object"
      ]
     },
     "execution_count": 11,
     "metadata": {},
     "output_type": "execute_result"
    }
   ],
   "source": [
    "all_pumps.pumptime_edited.describe()"
   ]
  },
  {
   "cell_type": "code",
   "execution_count": 12,
   "metadata": {},
   "outputs": [
    {
     "data": {
      "text/plain": [
       "(885, 16)"
      ]
     },
     "execution_count": 12,
     "metadata": {},
     "output_type": "execute_result"
    }
   ],
   "source": [
    "all_pumps.shape"
   ]
  },
  {
   "cell_type": "code",
   "execution_count": 13,
   "metadata": {},
   "outputs": [],
   "source": [
    "all_pumps.to_pickle('../all_pumps.pkl')"
   ]
  },
  {
   "cell_type": "markdown",
   "metadata": {},
   "source": [
    "## Preliminary Analysis "
   ]
  },
  {
   "cell_type": "markdown",
   "metadata": {},
   "source": [
    "## Through time"
   ]
  },
  {
   "cell_type": "code",
   "execution_count": 14,
   "metadata": {},
   "outputs": [
    {
     "name": "stderr",
     "output_type": "stream",
     "text": [
      "/Users/hn/opt/anaconda3/lib/python3.7/site-packages/pandas/plotting/_matplotlib/converter.py:103: FutureWarning:\n",
      "\n",
      "Using an implicitly registered datetime converter for a matplotlib plotting method. The converter was registered by pandas on import. Future versions of pandas will require you to explicitly register matplotlib converters.\n",
      "\n",
      "To register the converters:\n",
      "\t>>> from pandas.plotting import register_matplotlib_converters\n",
      "\t>>> register_matplotlib_converters()\n",
      "\n"
     ]
    },
    {
     "data": {
      "image/png": "[encoded data removed]",
      "text/plain": [
       "<Figure size 720x360 with 1 Axes>"
      ]
     },
     "metadata": {
      "needs_background": "light"
     },
     "output_type": "display_data"
    }
   ],
   "source": [
    "import matplotlib.patches as mpatches\n",
    "color_dct = {\"Binance\":\"orange\",\"Cryptopia\":\"green\",\"Bittrex\":\"blue\",\"Yobit\":\"turquoise\"}\n",
    "exchange_fig = plt.figure(figsize=(10,5))\n",
    "plt.scatter(all_pumps.event_date, all_pumps.pump_hour\n",
    "            ,c=all_pumps.exchange.apply(lambda x:color_dct[x])\n",
    "            )\n",
    "plt.xlabel(\"Date of pumps\")\n",
    "plt.ylabel(\"Hour of pump on 24 hour scale\")\n",
    "#Legend\n",
    "orange_patch = mpatches.Patch(color='orange', label='Binance')\n",
    "green_patch = mpatches.Patch(color='green', label='Crytopia')\n",
    "blue_patch = mpatches.Patch(color='blue', label='Bittrex')\n",
    "turquoise_patch = mpatches.Patch(color='turquoise', label='Yobit')\n",
    "plt.legend(handles=[orange_patch,green_patch,blue_patch,turquoise_patch])\n",
    "plt.show()"
   ]
  },
  {
   "cell_type": "markdown",
   "metadata": {},
   "source": [
    "### Exchanges"
   ]
  },
  {
   "cell_type": "code",
   "execution_count": 15,
   "metadata": {},
   "outputs": [
    {
     "data": {
      "text/plain": [
       "exchange\n",
       "Binance      324\n",
       "Bittrex       49\n",
       "Cryptopia    243\n",
       "Yobit        269\n",
       "Name: exchange, dtype: int64"
      ]
     },
     "execution_count": 15,
     "metadata": {},
     "output_type": "execute_result"
    }
   ],
   "source": [
    "all_pumps.groupby('exchange').exchange.count()"
   ]
  },
  {
   "cell_type": "code",
   "execution_count": 16,
   "metadata": {},
   "outputs": [
    {
     "data": {
      "text/plain": [
       "108"
      ]
     },
     "execution_count": 16,
     "metadata": {},
     "output_type": "execute_result"
    }
   ],
   "source": [
    "#Investigating coins on Binance\n",
    "b_coins = all_pumps[all_pumps.exchange == 'Binance']\n",
    "b_coins.currency.drop_duplicates().count()"
   ]
  },
  {
   "cell_type": "code",
   "execution_count": 17,
   "metadata": {},
   "outputs": [
    {
     "data": {
      "text/plain": [
       "<matplotlib.axes._subplots.AxesSubplot at 0x1a83a60610>"
      ]
     },
     "execution_count": 17,
     "metadata": {},
     "output_type": "execute_result"
    },
    {
     "data": {
      "image/png": "[encoded data removed]",
      "text/plain": [
       "<Figure size 432x288 with 1 Axes>"
      ]
     },
     "metadata": {
      "needs_background": "light"
     },
     "output_type": "display_data"
    }
   ],
   "source": [
    "all_pumps.groupby('exchange').exchange.count().plot(kind='bar')"
   ]
  },
  {
   "cell_type": "markdown",
   "metadata": {},
   "source": [
    "### Weekday"
   ]
  },
  {
   "cell_type": "code",
   "execution_count": 18,
   "metadata": {},
   "outputs": [
    {
     "data": {
      "text/plain": [
       "<matplotlib.axes._subplots.AxesSubplot at 0x1a99eb9f10>"
      ]
     },
     "execution_count": 18,
     "metadata": {},
     "output_type": "execute_result"
    },
    {
     "data": {
      "image/png": "[encoded data removed]",
      "text/plain": [
       "<Figure size 432x288 with 1 Axes>"
      ]
     },
     "metadata": {
      "needs_background": "light"
     },
     "output_type": "display_data"
    }
   ],
   "source": [
    "all_pumps.groupby('pump_weekday').pump_weekday.count().plot(kind='bar')"
   ]
  },
  {
   "cell_type": "markdown",
   "metadata": {},
   "source": [
    "### Day of Month"
   ]
  },
  {
   "cell_type": "code",
   "execution_count": 19,
   "metadata": {},
   "outputs": [
    {
     "data": {
      "text/plain": [
       "<matplotlib.axes._subplots.AxesSubplot at 0x1aa11c3e10>"
      ]
     },
     "execution_count": 19,
     "metadata": {},
     "output_type": "execute_result"
    },
    {
     "data": {
      "image/png": "[encoded data removed]",
      "text/plain": [
       "<Figure size 432x288 with 1 Axes>"
      ]
     },
     "metadata": {
      "needs_background": "light"
     },
     "output_type": "display_data"
    }
   ],
   "source": [
    "all_pumps.groupby('pump_date').pump_date.count().plot(kind='bar')"
   ]
  },
  {
   "cell_type": "markdown",
   "metadata": {},
   "source": [
    "### Hour"
   ]
  },
  {
   "cell_type": "code",
   "execution_count": 20,
   "metadata": {},
   "outputs": [
    {
     "data": {
      "text/plain": [
       "<matplotlib.axes._subplots.AxesSubplot at 0x1a87ff4850>"
      ]
     },
     "execution_count": 20,
     "metadata": {},
     "output_type": "execute_result"
    },
    {
     "data": {
      "image/png": "[encoded data removed]",
      "text/plain": [
       "<Figure size 432x288 with 1 Axes>"
      ]
     },
     "metadata": {
      "needs_background": "light"
     },
     "output_type": "display_data"
    }
   ],
   "source": [
    "all_pumps.groupby('pump_hour').pump_hour.count().plot(kind='bar')"
   ]
  },
  {
   "cell_type": "markdown",
   "metadata": {},
   "source": [
    "### Unique Coins"
   ]
  },
  {
   "cell_type": "code",
   "execution_count": 21,
   "metadata": {},
   "outputs": [
    {
     "data": {
      "text/plain": [
       "<matplotlib.axes._subplots.AxesSubplot at 0x1a17e88050>"
      ]
     },
     "execution_count": 21,
     "metadata": {},
     "output_type": "execute_result"
    },
    {
     "data": {
      "image/png": "[encoded data removed]",
      "text/plain": [
       "<Figure size 2160x720 with 1 Axes>"
      ]
     },
     "metadata": {
      "needs_background": "light"
     },
     "output_type": "display_data"
    }
   ],
   "source": [
    "all_pumps.groupby('currency').currency.count().sort_values(ascending=False).plot(kind='bar', figsize=(30,10))"
   ]
  },
  {
   "cell_type": "code",
   "execution_count": 22,
   "metadata": {},
   "outputs": [
    {
     "name": "stdout",
     "output_type": "stream",
     "text": [
      "There are 355 unique currencies/coin in this dataset\n"
     ]
    }
   ],
   "source": [
    "print('There are {} unique currencies/coin in this dataset'.format(all_pumps.currency.drop_duplicates().count()))"
   ]
  },
  {
   "cell_type": "markdown",
   "metadata": {},
   "source": [
    "...But some coins will appear and be pumped at exchanges"
   ]
  },
  {
   "cell_type": "markdown",
   "metadata": {},
   "source": [
    "# DERIVE THE UNIQUE COINS AND EXCHANGES AS TEMPLATE LATER"
   ]
  },
  {
   "cell_type": "code",
   "execution_count": 23,
   "metadata": {},
   "outputs": [
    {
     "data": {
      "text/html": [
       "<div>\n",
       "<style scoped>\n",
       "    .dataframe tbody tr th:only-of-type {\n",
       "        vertical-align: middle;\n",
       "    }\n",
       "\n",
       "    .dataframe tbody tr th {\n",
       "        vertical-align: top;\n",
       "    }\n",
       "\n",
       "    .dataframe thead th {\n",
       "        text-align: right;\n",
       "    }\n",
       "</style>\n",
       "<table border=\"1\" class=\"dataframe\">\n",
       "  <thead>\n",
       "    <tr style=\"text-align: right;\">\n",
       "      <th></th>\n",
       "      <th>currency</th>\n",
       "      <th>exchange</th>\n",
       "    </tr>\n",
       "  </thead>\n",
       "  <tbody>\n",
       "    <tr>\n",
       "      <td>0</td>\n",
       "      <td>NAV</td>\n",
       "      <td>Binance</td>\n",
       "    </tr>\n",
       "    <tr>\n",
       "      <td>1</td>\n",
       "      <td>REN</td>\n",
       "      <td>Yobit</td>\n",
       "    </tr>\n",
       "  </tbody>\n",
       "</table>\n",
       "</div>"
      ],
      "text/plain": [
       "  currency exchange\n",
       "0      NAV  Binance\n",
       "1      REN    Yobit"
      ]
     },
     "execution_count": 23,
     "metadata": {},
     "output_type": "execute_result"
    }
   ],
   "source": [
    "coin_list = all_pumps[['currency','exchange']].drop_duplicates()\n",
    "coin_list.head(2)"
   ]
  },
  {
   "cell_type": "markdown",
   "metadata": {},
   "source": [
    "Also add the coin_ID to retrieve social media to append late. \n",
    "Use the Cryptocompare API to download and save the all_coins_xxxx.json file, where we can get the ID and names of coin to be used later.m"
   ]
  },
  {
   "cell_type": "code",
   "execution_count": 24,
   "metadata": {},
   "outputs": [],
   "source": [
    "with open(\"../../coinlist_022020.json\",\"r\") as j: \n",
    "    coin_info = json.load(j)"
   ]
  },
  {
   "cell_type": "code",
   "execution_count": 25,
   "metadata": {},
   "outputs": [],
   "source": [
    "pd.DataFrame(coin_info['Data'].values()).to_pickle(\"../../all_coins_info.pkl\")"
   ]
  },
  {
   "cell_type": "code",
   "execution_count": 26,
   "metadata": {},
   "outputs": [],
   "source": [
    "all_coins_info = pd.read_pickle('../../all_coins_info.pkl')"
   ]
  },
  {
   "cell_type": "code",
   "execution_count": 27,
   "metadata": {},
   "outputs": [
    {
     "name": "stdout",
     "output_type": "stream",
     "text": [
      "CrytoCompare API at this time contains 4445 coins\n"
     ]
    }
   ],
   "source": [
    "all_coins_info.head(3)\n",
    "# print(all_coins_info.columns)\n",
    "print(\"CrytoCompare API at this time contains\",all_coins_info.Id.drop_duplicates().count(),\"coins\")"
   ]
  },
  {
   "cell_type": "code",
   "execution_count": 28,
   "metadata": {},
   "outputs": [],
   "source": [
    "coin_list = pd.merge(left=coin_list,left_on='currency',right=all_coins_info[['Symbol','Id']],right_on='Symbol',how='left').drop('Symbol',axis=1)"
   ]
  },
  {
   "cell_type": "markdown",
   "metadata": {},
   "source": [
    "__NOTE__: There are coins with no lookupable CryptoMarket data, signififed NaN ID. "
   ]
  },
  {
   "cell_type": "code",
   "execution_count": 29,
   "metadata": {},
   "outputs": [
    {
     "name": "stdout",
     "output_type": "stream",
     "text": [
      "There are 49 without ID.\n"
     ]
    }
   ],
   "source": [
    "na_coin = coin_list[coin_list.Id.isnull()].currency.drop_duplicates().count()\n",
    "print(\"There are\",na_coin,\"without ID.\")"
   ]
  },
  {
   "cell_type": "code",
   "execution_count": 30,
   "metadata": {},
   "outputs": [],
   "source": [
    "coin_list.to_pickle('../../Coin_Data/coin_list.pkl')"
   ]
  },
  {
   "cell_type": "markdown",
   "metadata": {},
   "source": [
    "Must always save this as coin_list in the Coin_Data folder!!!!!!"
   ]
  },
  {
   "cell_type": "markdown",
   "metadata": {},
   "source": [
    "__NOW WE ARE READY TO DOWNLOAD THE HOURLY AND DAILY COIN DATA from 2018-06-01 to 2019-08-31!!!!!__"
   ]
  },
  {
   "cell_type": "code",
   "execution_count": 31,
   "metadata": {},
   "outputs": [
    {
     "data": {
      "text/html": [
       "<div>\n",
       "<style scoped>\n",
       "    .dataframe tbody tr th:only-of-type {\n",
       "        vertical-align: middle;\n",
       "    }\n",
       "\n",
       "    .dataframe tbody tr th {\n",
       "        vertical-align: top;\n",
       "    }\n",
       "\n",
       "    .dataframe thead th {\n",
       "        text-align: right;\n",
       "    }\n",
       "</style>\n",
       "<table border=\"1\" class=\"dataframe\">\n",
       "  <thead>\n",
       "    <tr style=\"text-align: right;\">\n",
       "      <th></th>\n",
       "      <th>currency</th>\n",
       "      <th>exchange</th>\n",
       "      <th>Id</th>\n",
       "    </tr>\n",
       "  </thead>\n",
       "  <tbody>\n",
       "    <tr>\n",
       "      <td>0</td>\n",
       "      <td>NAV</td>\n",
       "      <td>Binance</td>\n",
       "      <td>4571</td>\n",
       "    </tr>\n",
       "    <tr>\n",
       "      <td>1</td>\n",
       "      <td>REN</td>\n",
       "      <td>Yobit</td>\n",
       "      <td>788239</td>\n",
       "    </tr>\n",
       "    <tr>\n",
       "      <td>2</td>\n",
       "      <td>FTM</td>\n",
       "      <td>Yobit</td>\n",
       "      <td>928158</td>\n",
       "    </tr>\n",
       "    <tr>\n",
       "      <td>3</td>\n",
       "      <td>CURE</td>\n",
       "      <td>Bittrex</td>\n",
       "      <td>5387</td>\n",
       "    </tr>\n",
       "    <tr>\n",
       "      <td>4</td>\n",
       "      <td>DUSK</td>\n",
       "      <td>Binance</td>\n",
       "      <td>928535</td>\n",
       "    </tr>\n",
       "  </tbody>\n",
       "</table>\n",
       "</div>"
      ],
      "text/plain": [
       "  currency exchange      Id\n",
       "0      NAV  Binance    4571\n",
       "1      REN    Yobit  788239\n",
       "2      FTM    Yobit  928158\n",
       "3     CURE  Bittrex    5387\n",
       "4     DUSK  Binance  928535"
      ]
     },
     "execution_count": 31,
     "metadata": {},
     "output_type": "execute_result"
    }
   ],
   "source": [
    "coin_list.head()"
   ]
  },
  {
   "cell_type": "markdown",
   "metadata": {},
   "source": [
    "## Enhancement TO BINANCE ONLY DATA"
   ]
  },
  {
   "cell_type": "markdown",
   "metadata": {},
   "source": [
    "We need to the final set that satisfies ALL of the following criteria:\n",
    "    1. Available on Binance \n",
    "    2. Trading pair with BTC (Bitcoin available)\n",
    "    3. Low market cap less than 50 millions \n",
    "    4. Date of pumped not overlapped within 3 days of any known pumped events."
   ]
  },
  {
   "cell_type": "markdown",
   "metadata": {},
   "source": [
    "## SELECT THE DATE"
   ]
  },
  {
   "cell_type": "code",
   "execution_count": 32,
   "metadata": {},
   "outputs": [],
   "source": [
    "pt = all_pumps[all_pumps.exchange==\"Binance\"][[\"pumptime_edited\",\"timestamp\",\"event_date\",\"event_time\"]].drop_duplicates()"
   ]
  },
  {
   "cell_type": "code",
   "execution_count": 33,
   "metadata": {},
   "outputs": [],
   "source": [
    "p_date = pd.to_datetime(pt.event_date)"
   ]
  },
  {
   "cell_type": "code",
   "execution_count": 34,
   "metadata": {},
   "outputs": [
    {
     "name": "stdout",
     "output_type": "stream",
     "text": [
      "There are 220 unique dates\n"
     ]
    }
   ],
   "source": [
    "print(\"There are {} unique dates\".format(p_date.drop_duplicates().count()))"
   ]
  },
  {
   "cell_type": "markdown",
   "metadata": {},
   "source": [
    "__NOTE__: WE CHOOSE DECEMBER 30th to allow some time cushion"
   ]
  },
  {
   "cell_type": "code",
   "execution_count": 35,
   "metadata": {},
   "outputs": [
    {
     "data": {
      "text/plain": [
       "578"
      ]
     },
     "execution_count": 35,
     "metadata": {},
     "output_type": "execute_result"
    }
   ],
   "source": [
    "all_date = pd.date_range(start=\"06/01/2018\",end=\"12/30/2019\")\n",
    "len(all_date)"
   ]
  },
  {
   "cell_type": "code",
   "execution_count": 36,
   "metadata": {},
   "outputs": [],
   "source": [
    "#Exclude everyday within 3 days before.\n",
    "p_date_1 = p_date.apply(lambda x:x+timedelta(hours=24))\n",
    "p_date_2 = p_date.apply(lambda x:x+timedelta(hours=48))\n",
    "p_date_3 = p_date.apply(lambda x:x+timedelta(hours=72))"
   ]
  },
  {
   "cell_type": "code",
   "execution_count": 37,
   "metadata": {},
   "outputs": [
    {
     "data": {
      "text/plain": [
       "419"
      ]
     },
     "execution_count": 37,
     "metadata": {},
     "output_type": "execute_result"
    }
   ],
   "source": [
    "exclude = pd.concat([p_date,p_date_1,p_date_2,p_date_3],sort=True).drop_duplicates()\n",
    "exclude.count()"
   ]
  },
  {
   "cell_type": "code",
   "execution_count": 38,
   "metadata": {},
   "outputs": [
    {
     "data": {
      "text/plain": [
       "159"
      ]
     },
     "execution_count": 38,
     "metadata": {},
     "output_type": "execute_result"
    }
   ],
   "source": [
    "#Get the list of dates \n",
    "extra_date = all_date[np.isin(all_date,exclude)==False]\n",
    "len(extra_date)"
   ]
  },
  {
   "cell_type": "code",
   "execution_count": 39,
   "metadata": {},
   "outputs": [],
   "source": [
    "extra_date = pd.DataFrame(extra_date,columns={\"ext_dt\"})\n",
    "for i,r in extra_date.iterrows():\n",
    "    extra_date.loc[i,\"pumptime_edited\"] = extra_date.loc[i,\"ext_dt\"] + timedelta(hours=np.random.randint(0,25))\n",
    "#     print(r)"
   ]
  },
  {
   "cell_type": "markdown",
   "metadata": {},
   "source": [
    "## PROCESSING COIN LIST"
   ]
  },
  {
   "cell_type": "code",
   "execution_count": 40,
   "metadata": {},
   "outputs": [],
   "source": [
    "pump_bn = all_pumps[all_pumps.exchange==\"Binance\"][[\"currency\", \"exchange\",\"signalTime\",\"pumptime_edited\"]]"
   ]
  },
  {
   "cell_type": "code",
   "execution_count": 41,
   "metadata": {},
   "outputs": [
    {
     "data": {
      "text/html": [
       "<div>\n",
       "<style scoped>\n",
       "    .dataframe tbody tr th:only-of-type {\n",
       "        vertical-align: middle;\n",
       "    }\n",
       "\n",
       "    .dataframe tbody tr th {\n",
       "        vertical-align: top;\n",
       "    }\n",
       "\n",
       "    .dataframe thead th {\n",
       "        text-align: right;\n",
       "    }\n",
       "</style>\n",
       "<table border=\"1\" class=\"dataframe\">\n",
       "  <thead>\n",
       "    <tr style=\"text-align: right;\">\n",
       "      <th></th>\n",
       "      <th>currency</th>\n",
       "      <th>exchange</th>\n",
       "      <th>signalTime</th>\n",
       "      <th>pumptime_edited</th>\n",
       "    </tr>\n",
       "  </thead>\n",
       "  <tbody>\n",
       "    <tr>\n",
       "      <td>0</td>\n",
       "      <td>NAV</td>\n",
       "      <td>Binance</td>\n",
       "      <td>2019-12-19T17:00:15</td>\n",
       "      <td>2019-12-19 17:00:15+00:00</td>\n",
       "    </tr>\n",
       "    <tr>\n",
       "      <td>4</td>\n",
       "      <td>DUSK</td>\n",
       "      <td>Binance</td>\n",
       "      <td>2019-12-12T13:57:29</td>\n",
       "      <td>2019-12-12 13:57:29+00:00</td>\n",
       "    </tr>\n",
       "    <tr>\n",
       "      <td>5</td>\n",
       "      <td>EDO</td>\n",
       "      <td>Binance</td>\n",
       "      <td>2019-12-08T21:01:51</td>\n",
       "      <td>2019-12-08 21:01:51+00:00</td>\n",
       "    </tr>\n",
       "    <tr>\n",
       "      <td>8</td>\n",
       "      <td>BEAM</td>\n",
       "      <td>Binance</td>\n",
       "      <td>2019-12-04T12:06:16</td>\n",
       "      <td>2019-12-04 12:06:16+00:00</td>\n",
       "    </tr>\n",
       "    <tr>\n",
       "      <td>9</td>\n",
       "      <td>CDT</td>\n",
       "      <td>Binance</td>\n",
       "      <td>2019-12-02T18:50:05</td>\n",
       "      <td>2019-12-02 18:50:05+00:00</td>\n",
       "    </tr>\n",
       "    <tr>\n",
       "      <td>...</td>\n",
       "      <td>...</td>\n",
       "      <td>...</td>\n",
       "      <td>...</td>\n",
       "      <td>...</td>\n",
       "    </tr>\n",
       "    <tr>\n",
       "      <td>722</td>\n",
       "      <td>GRS</td>\n",
       "      <td>Binance</td>\n",
       "      <td>2018-09-18T02:12:02</td>\n",
       "      <td>2018-09-18 02:12:02+00:00</td>\n",
       "    </tr>\n",
       "    <tr>\n",
       "      <td>735</td>\n",
       "      <td>ICN</td>\n",
       "      <td>Binance</td>\n",
       "      <td>2018-09-11T15:30:10</td>\n",
       "      <td>2018-09-11 15:30:10+00:00</td>\n",
       "    </tr>\n",
       "    <tr>\n",
       "      <td>738</td>\n",
       "      <td>DNT</td>\n",
       "      <td>Binance</td>\n",
       "      <td>2018-09-10T14:00:14</td>\n",
       "      <td>2018-09-10 14:00:14+00:00</td>\n",
       "    </tr>\n",
       "    <tr>\n",
       "      <td>748</td>\n",
       "      <td>GRS</td>\n",
       "      <td>Binance</td>\n",
       "      <td>2018-09-06T18:34:01</td>\n",
       "      <td>2018-09-06 18:34:01+00:00</td>\n",
       "    </tr>\n",
       "    <tr>\n",
       "      <td>750</td>\n",
       "      <td>GRS</td>\n",
       "      <td>Binance</td>\n",
       "      <td>2018-09-06T16:59:37</td>\n",
       "      <td>2018-09-06 16:59:37+00:00</td>\n",
       "    </tr>\n",
       "  </tbody>\n",
       "</table>\n",
       "<p>324 rows × 4 columns</p>\n",
       "</div>"
      ],
      "text/plain": [
       "    currency exchange           signalTime           pumptime_edited\n",
       "0        NAV  Binance  2019-12-19T17:00:15 2019-12-19 17:00:15+00:00\n",
       "4       DUSK  Binance  2019-12-12T13:57:29 2019-12-12 13:57:29+00:00\n",
       "5        EDO  Binance  2019-12-08T21:01:51 2019-12-08 21:01:51+00:00\n",
       "8       BEAM  Binance  2019-12-04T12:06:16 2019-12-04 12:06:16+00:00\n",
       "9        CDT  Binance  2019-12-02T18:50:05 2019-12-02 18:50:05+00:00\n",
       "..       ...      ...                  ...                       ...\n",
       "722      GRS  Binance  2018-09-18T02:12:02 2018-09-18 02:12:02+00:00\n",
       "735      ICN  Binance  2018-09-11T15:30:10 2018-09-11 15:30:10+00:00\n",
       "738      DNT  Binance  2018-09-10T14:00:14 2018-09-10 14:00:14+00:00\n",
       "748      GRS  Binance  2018-09-06T18:34:01 2018-09-06 18:34:01+00:00\n",
       "750      GRS  Binance  2018-09-06T16:59:37 2018-09-06 16:59:37+00:00\n",
       "\n",
       "[324 rows x 4 columns]"
      ]
     },
     "execution_count": 41,
     "metadata": {},
     "output_type": "execute_result"
    }
   ],
   "source": [
    "pump_bn.drop_duplicates()"
   ]
  },
  {
   "cell_type": "code",
   "execution_count": 42,
   "metadata": {},
   "outputs": [],
   "source": [
    "#What are the coins we succesfully downloaded on Binance on Cryptocomare"
   ]
  },
  {
   "cell_type": "code",
   "execution_count": 43,
   "metadata": {},
   "outputs": [
    {
     "name": "stdout",
     "output_type": "stream",
     "text": [
      "There are 124 coins downloaded for Binance\n",
      "There are 108 coins in our Binance pumped list\n"
     ]
    }
   ],
   "source": [
    "bcoin = []\n",
    "for filename in os.listdir(\"../../Coin_Data/Hourly\"):\n",
    "    if '.pkl'in filename and 'error' not in filename : \n",
    "        symbol = filename.split('_')[1]\n",
    "        bcoin.append(symbol)\n",
    "print(\"There are {} coins downloaded for Binance\".format(len(bcoin)))\n",
    "bcoin = pd.DataFrame({\"coin_name\":bcoin})\n",
    "b_pump_coin = pump_bn.currency.drop_duplicates()\n",
    "print(\"There are {} coins in our Binance pumped list\".format(b_pump_coin.nunique()))"
   ]
  },
  {
   "cell_type": "code",
   "execution_count": 44,
   "metadata": {},
   "outputs": [
    {
     "name": "stdout",
     "output_type": "stream",
     "text": [
      "There are 0 coins downloaded but not pumped\n"
     ]
    }
   ],
   "source": [
    "#Test: do they overlap\n",
    "print(\"There are {} coins downloaded but not pumped\".format(len(list(set(bcoin) - set(b_pump_coin))) - 1))\n",
    "# Thes are usually tokens, or forks of existing coins, not full cryptocurrencies"
   ]
  },
  {
   "cell_type": "code",
   "execution_count": 45,
   "metadata": {},
   "outputs": [
    {
     "name": "stdout",
     "output_type": "stream",
     "text": [
      "There are 108 coins pumped but not downloable\n"
     ]
    }
   ],
   "source": [
    "#Test: do they overlap\n",
    "\n",
    "print(\"There are {} coins pumped but not downloable\".format(len(set(b_pump_coin) - set(bcoin) )))\n",
    "# set(b_pump_coin) - set(bcoin)"
   ]
  },
  {
   "cell_type": "code",
   "execution_count": 46,
   "metadata": {},
   "outputs": [],
   "source": [
    "## Crreat the new pump list as All Available Binance Coin x Pumped coin Data\n",
    "true_pump = pump_bn.assign(key=1).merge(bcoin.assign(key=1))[[\"currency\",\"exchange\",\"pumptime_edited\",\"coin_name\"]]"
   ]
  },
  {
   "cell_type": "code",
   "execution_count": 47,
   "metadata": {},
   "outputs": [
    {
     "data": {
      "text/html": [
       "<div>\n",
       "<style scoped>\n",
       "    .dataframe tbody tr th:only-of-type {\n",
       "        vertical-align: middle;\n",
       "    }\n",
       "\n",
       "    .dataframe tbody tr th {\n",
       "        vertical-align: top;\n",
       "    }\n",
       "\n",
       "    .dataframe thead th {\n",
       "        text-align: right;\n",
       "    }\n",
       "</style>\n",
       "<table border=\"1\" class=\"dataframe\">\n",
       "  <thead>\n",
       "    <tr style=\"text-align: right;\">\n",
       "      <th></th>\n",
       "      <th>currency</th>\n",
       "      <th>exchange</th>\n",
       "      <th>pumptime_edited</th>\n",
       "      <th>coin_name</th>\n",
       "    </tr>\n",
       "  </thead>\n",
       "  <tbody>\n",
       "    <tr>\n",
       "      <td>0</td>\n",
       "      <td>NAV</td>\n",
       "      <td>Binance</td>\n",
       "      <td>2019-12-19 17:00:15+00:00</td>\n",
       "      <td>VIB</td>\n",
       "    </tr>\n",
       "    <tr>\n",
       "      <td>1</td>\n",
       "      <td>NAV</td>\n",
       "      <td>Binance</td>\n",
       "      <td>2019-12-19 17:00:15+00:00</td>\n",
       "      <td>STEEM</td>\n",
       "    </tr>\n",
       "  </tbody>\n",
       "</table>\n",
       "</div>"
      ],
      "text/plain": [
       "  currency exchange           pumptime_edited coin_name\n",
       "0      NAV  Binance 2019-12-19 17:00:15+00:00       VIB\n",
       "1      NAV  Binance 2019-12-19 17:00:15+00:00     STEEM"
      ]
     },
     "execution_count": 47,
     "metadata": {},
     "output_type": "execute_result"
    }
   ],
   "source": [
    "true_pump.head(2)"
   ]
  },
  {
   "cell_type": "code",
   "execution_count": 48,
   "metadata": {},
   "outputs": [],
   "source": [
    "## PROCESS FAKE PUMP\n",
    "fake_pump = extra_date.assign(key=1).merge(bcoin.assign(key=1))[['pumptime_edited','coin_name']]\n",
    "fake_pump[\"currency\"] = '***'\n",
    "fake_pump['exchange'] = 'Binance'\n",
    "fake_pump['pumptime_edited'] = pd.to_datetime(fake_pump.pumptime_edited, utc=True)\n",
    "fake_pump = fake_pump[['currency','exchange','pumptime_edited','coin_name']]"
   ]
  },
  {
   "cell_type": "code",
   "execution_count": 49,
   "metadata": {},
   "outputs": [
    {
     "data": {
      "text/html": [
       "<div>\n",
       "<style scoped>\n",
       "    .dataframe tbody tr th:only-of-type {\n",
       "        vertical-align: middle;\n",
       "    }\n",
       "\n",
       "    .dataframe tbody tr th {\n",
       "        vertical-align: top;\n",
       "    }\n",
       "\n",
       "    .dataframe thead th {\n",
       "        text-align: right;\n",
       "    }\n",
       "</style>\n",
       "<table border=\"1\" class=\"dataframe\">\n",
       "  <thead>\n",
       "    <tr style=\"text-align: right;\">\n",
       "      <th></th>\n",
       "      <th>currency</th>\n",
       "      <th>exchange</th>\n",
       "      <th>pumptime_edited</th>\n",
       "      <th>coin_name</th>\n",
       "    </tr>\n",
       "  </thead>\n",
       "  <tbody>\n",
       "    <tr>\n",
       "      <td>0</td>\n",
       "      <td>***</td>\n",
       "      <td>Binance</td>\n",
       "      <td>2018-06-01 12:00:00+00:00</td>\n",
       "      <td>VIB</td>\n",
       "    </tr>\n",
       "    <tr>\n",
       "      <td>1</td>\n",
       "      <td>***</td>\n",
       "      <td>Binance</td>\n",
       "      <td>2018-06-01 12:00:00+00:00</td>\n",
       "      <td>STEEM</td>\n",
       "    </tr>\n",
       "  </tbody>\n",
       "</table>\n",
       "</div>"
      ],
      "text/plain": [
       "  currency exchange           pumptime_edited coin_name\n",
       "0      ***  Binance 2018-06-01 12:00:00+00:00       VIB\n",
       "1      ***  Binance 2018-06-01 12:00:00+00:00     STEEM"
      ]
     },
     "execution_count": 49,
     "metadata": {},
     "output_type": "execute_result"
    }
   ],
   "source": [
    "fake_pump.head(2)"
   ]
  },
  {
   "cell_type": "markdown",
   "metadata": {},
   "source": [
    "## FINAl STACKED PUMP DATA"
   ]
  },
  {
   "cell_type": "code",
   "execution_count": 50,
   "metadata": {},
   "outputs": [],
   "source": [
    "final_pumps = pd.concat([true_pump,fake_pump],axis=0).drop_duplicates()"
   ]
  },
  {
   "cell_type": "markdown",
   "metadata": {},
   "source": [
    "Once again, append timestamp variables"
   ]
  },
  {
   "cell_type": "code",
   "execution_count": 51,
   "metadata": {},
   "outputs": [],
   "source": [
    "final_pumps['timestamp'] = final_pumps.pumptime_edited.apply(to_unix)\n",
    "final_pumps['event_date'] = final_pumps.pumptime_edited.apply(lambda x:x.date)\n",
    "final_pumps['event_time'] = final_pumps.pumptime_edited.apply(lambda x:x.time)"
   ]
  },
  {
   "cell_type": "code",
   "execution_count": 53,
   "metadata": {},
   "outputs": [
    {
     "data": {
      "text/plain": [
       "(59286, 7)"
      ]
     },
     "execution_count": 53,
     "metadata": {},
     "output_type": "execute_result"
    }
   ],
   "source": [
    "final_pumps.shape"
   ]
  },
  {
   "cell_type": "code",
   "execution_count": 52,
   "metadata": {},
   "outputs": [],
   "source": [
    "final_pumps.to_pickle('../all_pumps.pkl')"
   ]
  },
  {
   "cell_type": "markdown",
   "metadata": {},
   "source": [
    "....NOW NAVIGATE TO MOD 1 AND COLELLECT THE TIME SERIES DATA..."
   ]
  },
  {
   "cell_type": "code",
   "execution_count": null,
   "metadata": {},
   "outputs": [],
   "source": []
  }
 ],
 "metadata": {
  "kernelspec": {
   "display_name": "Python 3",
   "language": "python",
   "name": "python3"
  },
  "language_info": {
   "codemirror_mode": {
    "name": "ipython",
    "version": 3
   },
   "file_extension": ".py",
   "mimetype": "text/x-python",
   "name": "python",
   "nbconvert_exporter": "python",
   "pygments_lexer": "ipython3",
   "version": "3.7.4"
  },
  "varInspector": {
   "cols": {
    "lenName": 16,
    "lenType": 16,
    "lenVar": 40
   },
   "kernels_config": {
    "python": {
     "delete_cmd_postfix": "",
     "delete_cmd_prefix": "del ",
     "library": "var_list.py",
     "varRefreshCmd": "print(var_dic_list())"
    },
    "r": {
     "delete_cmd_postfix": ") ",
     "delete_cmd_prefix": "rm(",
     "library": "var_list.r",
     "varRefreshCmd": "cat(var_dic_list()) "
    }
   },
   "types_to_exclude": [
    "module",
    "function",
    "builtin_function_or_method",
    "instance",
    "_Feature"
   ],
   "window_display": false
  }
 },
 "nbformat": 4,
 "nbformat_minor": 2
}
